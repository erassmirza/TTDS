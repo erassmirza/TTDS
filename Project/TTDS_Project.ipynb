{
  "nbformat": 4,
  "nbformat_minor": 0,
  "metadata": {
    "colab": {
      "provenance": [],
      "toc_visible": true,
      "authorship_tag": "ABX9TyMzNhMQ7vVEm/YYtr6Ew0rw",
      "include_colab_link": true
    },
    "kernelspec": {
      "name": "python3",
      "display_name": "Python 3"
    },
    "language_info": {
      "name": "python"
    },
    "gpuClass": "standard"
  },
  "cells": [
    {
      "cell_type": "markdown",
      "metadata": {
        "id": "view-in-github",
        "colab_type": "text"
      },
      "source": [
        "<a href=\"https://colab.research.google.com/github/erassmirza/TTDS/blob/main/Project/TTDS_Project.ipynb\" target=\"_parent\"><img src=\"https://colab.research.google.com/assets/colab-badge.svg\" alt=\"Open In Colab\"/></a>"
      ]
    },
    {
      "cell_type": "markdown",
      "source": [
        "# ATLIQ GRANDS"
      ],
      "metadata": {
        "id": "L-s9Oa8gJNcS"
      }
    },
    {
      "cell_type": "markdown",
      "source": [
        "## Problem Statement"
      ],
      "metadata": {
        "id": "Dgt06SNUI8ie"
      }
    },
    {
      "cell_type": "markdown",
      "source": [
        "Atliq Grands owns multiple five-star hotels across India. They have been in the hospitality industry for the past 20 years. Due to strategic moves from other competitors and ineffective decision-making in management, Atliq Grands are losing its market share and revenue in the luxury/business hotels category. As a strategic move, the managing director of Atliq Grands wanted to incorporate “Business and Data Intelligence” in order to regain their market share and revenue. However, they do not have an in-house data analytics team to provide them with these insights.\n",
        "\n",
        "Their revenue management team had decided to hire a 3rd party service provider to provide them insights from their historical data.\n",
        "\n",
        "* Domain:  Hospitality\n",
        "\n",
        "* Function: Revenue\n"
      ],
      "metadata": {
        "id": "UZrDrV8SP5oS"
      }
    },
    {
      "cell_type": "markdown",
      "source": [
        "## Description of Data"
      ],
      "metadata": {
        "id": "z7zxxDIeJB6E"
      }
    },
    {
      "cell_type": "markdown",
      "source": [
        "The meta information regarding the columns described in the CSV files. we have provided 5 CSV files:\n",
        "1. dim_date\n",
        "2. dim_hotels\n",
        "3. dim_rooms\n",
        "4. fact_aggregated_bookings\n",
        "5. fact_bookings\n",
        "\n",
        "\n",
        "Column Description for dim_date:\n",
        "1. date: This column represents the dates present in May, June and July.\n",
        "2. mmm yy: This column represents the date in the format of mmm yy (monthname year).\n",
        "3. week no: This column represents the unique week number for that particular date.\n",
        "4. day_type: This column represents whether the given day is Weekend or Weekeday.\n",
        "\n",
        "\n",
        "\n",
        "Column Description for dim_hotels:\n",
        "1. property_id: This column represents the Unique ID for each of the hotels.\n",
        "2. property_name: This column represents the name of each hotel.\n",
        "3. category: This column determines which class[Luxury, Business] a particular hotel/property belongs to. \n",
        "4. city: This column represents where the particular hotel/property resides in.\n",
        "\n",
        "\n",
        "\n",
        "Column Description for dim_rooms:\n",
        "1. room_id: This column represents the type of room[RT1, RT2, RT3, RT4] in a hotel.\n",
        "2. room_class: This column represents to which class[Standard, Elite, Premium, Presidential] particular room type belongs.\n",
        "\n",
        "\n",
        "Column Description for fact_aggregated_bookings:\n",
        "1. property_id: This column represents the Unique ID for each of the hotels.\n",
        "2. check_in_date: This column represents all the check_in_dates of the customers.\n",
        "3. room_category: This column represents the type of room[RT1, RT2, RT3, RT4] in a hotel.\n",
        "4. successful_bookings: This column represents all the successful room bookings that happen for a particular room type in that hotel on that particular date.\n",
        "5. capacity: This column represents the maximum count of rooms available for a particular room type in that hotel on that particular date.\n",
        "\n",
        "\n",
        "\n",
        "Column Description for fact_bookings:\n",
        "1. booking_id: This column represents the Unique Booking ID for each customer when they booked their rooms.\n",
        "2. property_id: This column represents the Unique ID for each of the hotels\n",
        "3. booking_date: This column represents the date on which the customer booked their rooms.\n",
        "4. check_in_date: This column represents the date on which the customer check-in(entered) at the hotel.\n",
        "5. check_out_date: This column represents the date on which the customer check-out(left) of the hotel.\n",
        "6. no_guests: This column represents the number of guests who stayed in a particular room in that hotel.\n",
        "7. room_category: This column represents the type of room[RT1, RT2, RT3, RT4] in a hotel.\n",
        "8. booking_platform: This column represents in which way the customer booked his room.\n",
        "9. ratings_given: This column represents the ratings given by the customer for hotel services.\n",
        "10. booking_status: This column represents whether the customer cancelled his booking[Cancelled], successfully stayed in the hotel[Checked Out] or booked his room but not stayed in the hotel[No show].\n",
        "11. revenue_generated: This column represents the amount of money generated by the hotel from a particular customer.\n",
        "12. revenue_realized: This column represents the final amount of money that goes to the hotel based on booking status. If the booking status is cancelled, then 40% of the revenue generated is deducted and the remaining is refunded to the customer. If the booking status is Checked Out/No show, then full revenue generated will goes to hotels.\n",
        "\n",
        "\n",
        "\n"
      ],
      "metadata": {
        "id": "W4wB1np5RdOa"
      }
    },
    {
      "cell_type": "markdown",
      "source": [
        "## Import Libraries"
      ],
      "metadata": {
        "id": "i5pv_fv_h-Od"
      }
    },
    {
      "cell_type": "code",
      "execution_count": 502,
      "metadata": {
        "id": "vYmcRkY9PX2n"
      },
      "outputs": [],
      "source": [
        "import numpy as np\n",
        "import pandas as pd\n",
        "import matplotlib.pyplot as plt\n",
        "import seaborn as sns"
      ]
    },
    {
      "cell_type": "markdown",
      "source": [
        "## Import Datasets"
      ],
      "metadata": {
        "id": "VB91NDIqiBrK"
      }
    },
    {
      "cell_type": "code",
      "source": [
        "dim_date = pd.read_csv('https://raw.githubusercontent.com/erassmirza/TTDS/main/Project/dim_date.csv')\n",
        "dim_hotels = pd.read_csv('https://raw.githubusercontent.com/erassmirza/TTDS/main/Project/dim_hotels.csv')\n",
        "dim_rooms = pd.read_csv('https://raw.githubusercontent.com/erassmirza/TTDS/main/Project/dim_rooms.csv')\n",
        "fact_aggr_bookings = pd.read_csv('https://raw.githubusercontent.com/erassmirza/TTDS/main/Project/fact_aggregated_bookings.csv')\n",
        "fact_bookings = pd.read_csv('https://raw.githubusercontent.com/erassmirza/TTDS/main/Project/fact_bookings.csv')\n"
      ],
      "metadata": {
        "id": "f9BGkxT0YinZ"
      },
      "execution_count": 503,
      "outputs": []
    },
    {
      "cell_type": "markdown",
      "source": [
        "## Data Discovery"
      ],
      "metadata": {
        "id": "f8QHtrAxfMTV"
      }
    },
    {
      "cell_type": "markdown",
      "source": [
        "### Date Details"
      ],
      "metadata": {
        "id": "GnlhCcbXfyq3"
      }
    },
    {
      "cell_type": "code",
      "source": [
        "dim_date.head()"
      ],
      "metadata": {
        "colab": {
          "base_uri": "https://localhost:8080/",
          "height": 206
        },
        "id": "WRRWtY2VsJyQ",
        "outputId": "a9047b13-a80c-42f2-b84e-0c5fa8b4b717"
      },
      "execution_count": 504,
      "outputs": [
        {
          "output_type": "execute_result",
          "data": {
            "text/plain": [
              "        date  mmm yy week no  day_type\n",
              "0  01-May-22  May 22    W 19   weekend\n",
              "1  02-May-22  May 22    W 19  weekeday\n",
              "2  03-May-22  May 22    W 19  weekeday\n",
              "3  04-May-22  May 22    W 19  weekeday\n",
              "4  05-May-22  May 22    W 19  weekeday"
            ],
            "text/html": [
              "\n",
              "  <div id=\"df-c06c5e19-ecb6-44d9-ab4d-bdf91a0d75b8\">\n",
              "    <div class=\"colab-df-container\">\n",
              "      <div>\n",
              "<style scoped>\n",
              "    .dataframe tbody tr th:only-of-type {\n",
              "        vertical-align: middle;\n",
              "    }\n",
              "\n",
              "    .dataframe tbody tr th {\n",
              "        vertical-align: top;\n",
              "    }\n",
              "\n",
              "    .dataframe thead th {\n",
              "        text-align: right;\n",
              "    }\n",
              "</style>\n",
              "<table border=\"1\" class=\"dataframe\">\n",
              "  <thead>\n",
              "    <tr style=\"text-align: right;\">\n",
              "      <th></th>\n",
              "      <th>date</th>\n",
              "      <th>mmm yy</th>\n",
              "      <th>week no</th>\n",
              "      <th>day_type</th>\n",
              "    </tr>\n",
              "  </thead>\n",
              "  <tbody>\n",
              "    <tr>\n",
              "      <th>0</th>\n",
              "      <td>01-May-22</td>\n",
              "      <td>May 22</td>\n",
              "      <td>W 19</td>\n",
              "      <td>weekend</td>\n",
              "    </tr>\n",
              "    <tr>\n",
              "      <th>1</th>\n",
              "      <td>02-May-22</td>\n",
              "      <td>May 22</td>\n",
              "      <td>W 19</td>\n",
              "      <td>weekeday</td>\n",
              "    </tr>\n",
              "    <tr>\n",
              "      <th>2</th>\n",
              "      <td>03-May-22</td>\n",
              "      <td>May 22</td>\n",
              "      <td>W 19</td>\n",
              "      <td>weekeday</td>\n",
              "    </tr>\n",
              "    <tr>\n",
              "      <th>3</th>\n",
              "      <td>04-May-22</td>\n",
              "      <td>May 22</td>\n",
              "      <td>W 19</td>\n",
              "      <td>weekeday</td>\n",
              "    </tr>\n",
              "    <tr>\n",
              "      <th>4</th>\n",
              "      <td>05-May-22</td>\n",
              "      <td>May 22</td>\n",
              "      <td>W 19</td>\n",
              "      <td>weekeday</td>\n",
              "    </tr>\n",
              "  </tbody>\n",
              "</table>\n",
              "</div>\n",
              "      <button class=\"colab-df-convert\" onclick=\"convertToInteractive('df-c06c5e19-ecb6-44d9-ab4d-bdf91a0d75b8')\"\n",
              "              title=\"Convert this dataframe to an interactive table.\"\n",
              "              style=\"display:none;\">\n",
              "        \n",
              "  <svg xmlns=\"http://www.w3.org/2000/svg\" height=\"24px\"viewBox=\"0 0 24 24\"\n",
              "       width=\"24px\">\n",
              "    <path d=\"M0 0h24v24H0V0z\" fill=\"none\"/>\n",
              "    <path d=\"M18.56 5.44l.94 2.06.94-2.06 2.06-.94-2.06-.94-.94-2.06-.94 2.06-2.06.94zm-11 1L8.5 8.5l.94-2.06 2.06-.94-2.06-.94L8.5 2.5l-.94 2.06-2.06.94zm10 10l.94 2.06.94-2.06 2.06-.94-2.06-.94-.94-2.06-.94 2.06-2.06.94z\"/><path d=\"M17.41 7.96l-1.37-1.37c-.4-.4-.92-.59-1.43-.59-.52 0-1.04.2-1.43.59L10.3 9.45l-7.72 7.72c-.78.78-.78 2.05 0 2.83L4 21.41c.39.39.9.59 1.41.59.51 0 1.02-.2 1.41-.59l7.78-7.78 2.81-2.81c.8-.78.8-2.07 0-2.86zM5.41 20L4 18.59l7.72-7.72 1.47 1.35L5.41 20z\"/>\n",
              "  </svg>\n",
              "      </button>\n",
              "      \n",
              "  <style>\n",
              "    .colab-df-container {\n",
              "      display:flex;\n",
              "      flex-wrap:wrap;\n",
              "      gap: 12px;\n",
              "    }\n",
              "\n",
              "    .colab-df-convert {\n",
              "      background-color: #E8F0FE;\n",
              "      border: none;\n",
              "      border-radius: 50%;\n",
              "      cursor: pointer;\n",
              "      display: none;\n",
              "      fill: #1967D2;\n",
              "      height: 32px;\n",
              "      padding: 0 0 0 0;\n",
              "      width: 32px;\n",
              "    }\n",
              "\n",
              "    .colab-df-convert:hover {\n",
              "      background-color: #E2EBFA;\n",
              "      box-shadow: 0px 1px 2px rgba(60, 64, 67, 0.3), 0px 1px 3px 1px rgba(60, 64, 67, 0.15);\n",
              "      fill: #174EA6;\n",
              "    }\n",
              "\n",
              "    [theme=dark] .colab-df-convert {\n",
              "      background-color: #3B4455;\n",
              "      fill: #D2E3FC;\n",
              "    }\n",
              "\n",
              "    [theme=dark] .colab-df-convert:hover {\n",
              "      background-color: #434B5C;\n",
              "      box-shadow: 0px 1px 3px 1px rgba(0, 0, 0, 0.15);\n",
              "      filter: drop-shadow(0px 1px 2px rgba(0, 0, 0, 0.3));\n",
              "      fill: #FFFFFF;\n",
              "    }\n",
              "  </style>\n",
              "\n",
              "      <script>\n",
              "        const buttonEl =\n",
              "          document.querySelector('#df-c06c5e19-ecb6-44d9-ab4d-bdf91a0d75b8 button.colab-df-convert');\n",
              "        buttonEl.style.display =\n",
              "          google.colab.kernel.accessAllowed ? 'block' : 'none';\n",
              "\n",
              "        async function convertToInteractive(key) {\n",
              "          const element = document.querySelector('#df-c06c5e19-ecb6-44d9-ab4d-bdf91a0d75b8');\n",
              "          const dataTable =\n",
              "            await google.colab.kernel.invokeFunction('convertToInteractive',\n",
              "                                                     [key], {});\n",
              "          if (!dataTable) return;\n",
              "\n",
              "          const docLinkHtml = 'Like what you see? Visit the ' +\n",
              "            '<a target=\"_blank\" href=https://colab.research.google.com/notebooks/data_table.ipynb>data table notebook</a>'\n",
              "            + ' to learn more about interactive tables.';\n",
              "          element.innerHTML = '';\n",
              "          dataTable['output_type'] = 'display_data';\n",
              "          await google.colab.output.renderOutput(dataTable, element);\n",
              "          const docLink = document.createElement('div');\n",
              "          docLink.innerHTML = docLinkHtml;\n",
              "          element.appendChild(docLink);\n",
              "        }\n",
              "      </script>\n",
              "    </div>\n",
              "  </div>\n",
              "  "
            ]
          },
          "metadata": {},
          "execution_count": 504
        }
      ]
    },
    {
      "cell_type": "code",
      "source": [
        "dim_date.shape"
      ],
      "metadata": {
        "colab": {
          "base_uri": "https://localhost:8080/"
        },
        "id": "8dHTNe7bf4zm",
        "outputId": "3a888596-e372-4e86-a60f-4e08700be0d9"
      },
      "execution_count": 505,
      "outputs": [
        {
          "output_type": "execute_result",
          "data": {
            "text/plain": [
              "(92, 4)"
            ]
          },
          "metadata": {},
          "execution_count": 505
        }
      ]
    },
    {
      "cell_type": "code",
      "source": [
        "dim_date.info()"
      ],
      "metadata": {
        "colab": {
          "base_uri": "https://localhost:8080/"
        },
        "id": "FfnPx3snf9Hb",
        "outputId": "f2d6806f-fc0c-4d50-d6e4-9f31188c2b7b"
      },
      "execution_count": 506,
      "outputs": [
        {
          "output_type": "stream",
          "name": "stdout",
          "text": [
            "<class 'pandas.core.frame.DataFrame'>\n",
            "RangeIndex: 92 entries, 0 to 91\n",
            "Data columns (total 4 columns):\n",
            " #   Column    Non-Null Count  Dtype \n",
            "---  ------    --------------  ----- \n",
            " 0   date      92 non-null     object\n",
            " 1   mmm yy    92 non-null     object\n",
            " 2   week no   92 non-null     object\n",
            " 3   day_type  92 non-null     object\n",
            "dtypes: object(4)\n",
            "memory usage: 3.0+ KB\n"
          ]
        }
      ]
    },
    {
      "cell_type": "markdown",
      "source": [
        "### Hotel Details"
      ],
      "metadata": {
        "id": "r3kEjE6vgQ5I"
      }
    },
    {
      "cell_type": "code",
      "source": [
        "dim_hotels.head()"
      ],
      "metadata": {
        "colab": {
          "base_uri": "https://localhost:8080/",
          "height": 206
        },
        "id": "gzCchMEQsgdu",
        "outputId": "e3182d4c-fcd6-43a6-e3d2-2be3a65d5488"
      },
      "execution_count": 507,
      "outputs": [
        {
          "output_type": "execute_result",
          "data": {
            "text/plain": [
              "   property_id  property_name  category    city\n",
              "0        16558   Atliq Grands    Luxury   Delhi\n",
              "1        16559  Atliq Exotica    Luxury  Mumbai\n",
              "2        16560     Atliq City  Business   Delhi\n",
              "3        16561      Atliq Blu    Luxury   Delhi\n",
              "4        16562      Atliq Bay    Luxury   Delhi"
            ],
            "text/html": [
              "\n",
              "  <div id=\"df-f745bf20-86b7-4b42-8034-69ec3bcc7fe3\">\n",
              "    <div class=\"colab-df-container\">\n",
              "      <div>\n",
              "<style scoped>\n",
              "    .dataframe tbody tr th:only-of-type {\n",
              "        vertical-align: middle;\n",
              "    }\n",
              "\n",
              "    .dataframe tbody tr th {\n",
              "        vertical-align: top;\n",
              "    }\n",
              "\n",
              "    .dataframe thead th {\n",
              "        text-align: right;\n",
              "    }\n",
              "</style>\n",
              "<table border=\"1\" class=\"dataframe\">\n",
              "  <thead>\n",
              "    <tr style=\"text-align: right;\">\n",
              "      <th></th>\n",
              "      <th>property_id</th>\n",
              "      <th>property_name</th>\n",
              "      <th>category</th>\n",
              "      <th>city</th>\n",
              "    </tr>\n",
              "  </thead>\n",
              "  <tbody>\n",
              "    <tr>\n",
              "      <th>0</th>\n",
              "      <td>16558</td>\n",
              "      <td>Atliq Grands</td>\n",
              "      <td>Luxury</td>\n",
              "      <td>Delhi</td>\n",
              "    </tr>\n",
              "    <tr>\n",
              "      <th>1</th>\n",
              "      <td>16559</td>\n",
              "      <td>Atliq Exotica</td>\n",
              "      <td>Luxury</td>\n",
              "      <td>Mumbai</td>\n",
              "    </tr>\n",
              "    <tr>\n",
              "      <th>2</th>\n",
              "      <td>16560</td>\n",
              "      <td>Atliq City</td>\n",
              "      <td>Business</td>\n",
              "      <td>Delhi</td>\n",
              "    </tr>\n",
              "    <tr>\n",
              "      <th>3</th>\n",
              "      <td>16561</td>\n",
              "      <td>Atliq Blu</td>\n",
              "      <td>Luxury</td>\n",
              "      <td>Delhi</td>\n",
              "    </tr>\n",
              "    <tr>\n",
              "      <th>4</th>\n",
              "      <td>16562</td>\n",
              "      <td>Atliq Bay</td>\n",
              "      <td>Luxury</td>\n",
              "      <td>Delhi</td>\n",
              "    </tr>\n",
              "  </tbody>\n",
              "</table>\n",
              "</div>\n",
              "      <button class=\"colab-df-convert\" onclick=\"convertToInteractive('df-f745bf20-86b7-4b42-8034-69ec3bcc7fe3')\"\n",
              "              title=\"Convert this dataframe to an interactive table.\"\n",
              "              style=\"display:none;\">\n",
              "        \n",
              "  <svg xmlns=\"http://www.w3.org/2000/svg\" height=\"24px\"viewBox=\"0 0 24 24\"\n",
              "       width=\"24px\">\n",
              "    <path d=\"M0 0h24v24H0V0z\" fill=\"none\"/>\n",
              "    <path d=\"M18.56 5.44l.94 2.06.94-2.06 2.06-.94-2.06-.94-.94-2.06-.94 2.06-2.06.94zm-11 1L8.5 8.5l.94-2.06 2.06-.94-2.06-.94L8.5 2.5l-.94 2.06-2.06.94zm10 10l.94 2.06.94-2.06 2.06-.94-2.06-.94-.94-2.06-.94 2.06-2.06.94z\"/><path d=\"M17.41 7.96l-1.37-1.37c-.4-.4-.92-.59-1.43-.59-.52 0-1.04.2-1.43.59L10.3 9.45l-7.72 7.72c-.78.78-.78 2.05 0 2.83L4 21.41c.39.39.9.59 1.41.59.51 0 1.02-.2 1.41-.59l7.78-7.78 2.81-2.81c.8-.78.8-2.07 0-2.86zM5.41 20L4 18.59l7.72-7.72 1.47 1.35L5.41 20z\"/>\n",
              "  </svg>\n",
              "      </button>\n",
              "      \n",
              "  <style>\n",
              "    .colab-df-container {\n",
              "      display:flex;\n",
              "      flex-wrap:wrap;\n",
              "      gap: 12px;\n",
              "    }\n",
              "\n",
              "    .colab-df-convert {\n",
              "      background-color: #E8F0FE;\n",
              "      border: none;\n",
              "      border-radius: 50%;\n",
              "      cursor: pointer;\n",
              "      display: none;\n",
              "      fill: #1967D2;\n",
              "      height: 32px;\n",
              "      padding: 0 0 0 0;\n",
              "      width: 32px;\n",
              "    }\n",
              "\n",
              "    .colab-df-convert:hover {\n",
              "      background-color: #E2EBFA;\n",
              "      box-shadow: 0px 1px 2px rgba(60, 64, 67, 0.3), 0px 1px 3px 1px rgba(60, 64, 67, 0.15);\n",
              "      fill: #174EA6;\n",
              "    }\n",
              "\n",
              "    [theme=dark] .colab-df-convert {\n",
              "      background-color: #3B4455;\n",
              "      fill: #D2E3FC;\n",
              "    }\n",
              "\n",
              "    [theme=dark] .colab-df-convert:hover {\n",
              "      background-color: #434B5C;\n",
              "      box-shadow: 0px 1px 3px 1px rgba(0, 0, 0, 0.15);\n",
              "      filter: drop-shadow(0px 1px 2px rgba(0, 0, 0, 0.3));\n",
              "      fill: #FFFFFF;\n",
              "    }\n",
              "  </style>\n",
              "\n",
              "      <script>\n",
              "        const buttonEl =\n",
              "          document.querySelector('#df-f745bf20-86b7-4b42-8034-69ec3bcc7fe3 button.colab-df-convert');\n",
              "        buttonEl.style.display =\n",
              "          google.colab.kernel.accessAllowed ? 'block' : 'none';\n",
              "\n",
              "        async function convertToInteractive(key) {\n",
              "          const element = document.querySelector('#df-f745bf20-86b7-4b42-8034-69ec3bcc7fe3');\n",
              "          const dataTable =\n",
              "            await google.colab.kernel.invokeFunction('convertToInteractive',\n",
              "                                                     [key], {});\n",
              "          if (!dataTable) return;\n",
              "\n",
              "          const docLinkHtml = 'Like what you see? Visit the ' +\n",
              "            '<a target=\"_blank\" href=https://colab.research.google.com/notebooks/data_table.ipynb>data table notebook</a>'\n",
              "            + ' to learn more about interactive tables.';\n",
              "          element.innerHTML = '';\n",
              "          dataTable['output_type'] = 'display_data';\n",
              "          await google.colab.output.renderOutput(dataTable, element);\n",
              "          const docLink = document.createElement('div');\n",
              "          docLink.innerHTML = docLinkHtml;\n",
              "          element.appendChild(docLink);\n",
              "        }\n",
              "      </script>\n",
              "    </div>\n",
              "  </div>\n",
              "  "
            ]
          },
          "metadata": {},
          "execution_count": 507
        }
      ]
    },
    {
      "cell_type": "code",
      "source": [
        "dim_hotels.shape"
      ],
      "metadata": {
        "colab": {
          "base_uri": "https://localhost:8080/"
        },
        "id": "HPFMpWONgHPr",
        "outputId": "b1186db3-30ca-480b-8764-a71974a37ce0"
      },
      "execution_count": 508,
      "outputs": [
        {
          "output_type": "execute_result",
          "data": {
            "text/plain": [
              "(25, 4)"
            ]
          },
          "metadata": {},
          "execution_count": 508
        }
      ]
    },
    {
      "cell_type": "code",
      "source": [
        "dim_hotels.info()"
      ],
      "metadata": {
        "colab": {
          "base_uri": "https://localhost:8080/"
        },
        "id": "w4jvKQUogLUs",
        "outputId": "7544aaa7-dfc6-495f-900d-c38913a14285"
      },
      "execution_count": 509,
      "outputs": [
        {
          "output_type": "stream",
          "name": "stdout",
          "text": [
            "<class 'pandas.core.frame.DataFrame'>\n",
            "RangeIndex: 25 entries, 0 to 24\n",
            "Data columns (total 4 columns):\n",
            " #   Column         Non-Null Count  Dtype \n",
            "---  ------         --------------  ----- \n",
            " 0   property_id    25 non-null     int64 \n",
            " 1   property_name  25 non-null     object\n",
            " 2   category       25 non-null     object\n",
            " 3   city           25 non-null     object\n",
            "dtypes: int64(1), object(3)\n",
            "memory usage: 928.0+ bytes\n"
          ]
        }
      ]
    },
    {
      "cell_type": "markdown",
      "source": [
        "### Rooms Details"
      ],
      "metadata": {
        "id": "WJsJt6A4geAe"
      }
    },
    {
      "cell_type": "code",
      "source": [
        "dim_rooms.head()"
      ],
      "metadata": {
        "colab": {
          "base_uri": "https://localhost:8080/",
          "height": 175
        },
        "id": "rGTyspKXICn4",
        "outputId": "8ecd35bc-3f5c-4e1b-862f-42b7afa16603"
      },
      "execution_count": 510,
      "outputs": [
        {
          "output_type": "execute_result",
          "data": {
            "text/plain": [
              "  room_id    room_class\n",
              "0     RT1      Standard\n",
              "1     RT2         Elite\n",
              "2     RT3       Premium\n",
              "3     RT4  Presidential"
            ],
            "text/html": [
              "\n",
              "  <div id=\"df-f5539d20-fb15-4c0b-a16a-70c7bf8190b9\">\n",
              "    <div class=\"colab-df-container\">\n",
              "      <div>\n",
              "<style scoped>\n",
              "    .dataframe tbody tr th:only-of-type {\n",
              "        vertical-align: middle;\n",
              "    }\n",
              "\n",
              "    .dataframe tbody tr th {\n",
              "        vertical-align: top;\n",
              "    }\n",
              "\n",
              "    .dataframe thead th {\n",
              "        text-align: right;\n",
              "    }\n",
              "</style>\n",
              "<table border=\"1\" class=\"dataframe\">\n",
              "  <thead>\n",
              "    <tr style=\"text-align: right;\">\n",
              "      <th></th>\n",
              "      <th>room_id</th>\n",
              "      <th>room_class</th>\n",
              "    </tr>\n",
              "  </thead>\n",
              "  <tbody>\n",
              "    <tr>\n",
              "      <th>0</th>\n",
              "      <td>RT1</td>\n",
              "      <td>Standard</td>\n",
              "    </tr>\n",
              "    <tr>\n",
              "      <th>1</th>\n",
              "      <td>RT2</td>\n",
              "      <td>Elite</td>\n",
              "    </tr>\n",
              "    <tr>\n",
              "      <th>2</th>\n",
              "      <td>RT3</td>\n",
              "      <td>Premium</td>\n",
              "    </tr>\n",
              "    <tr>\n",
              "      <th>3</th>\n",
              "      <td>RT4</td>\n",
              "      <td>Presidential</td>\n",
              "    </tr>\n",
              "  </tbody>\n",
              "</table>\n",
              "</div>\n",
              "      <button class=\"colab-df-convert\" onclick=\"convertToInteractive('df-f5539d20-fb15-4c0b-a16a-70c7bf8190b9')\"\n",
              "              title=\"Convert this dataframe to an interactive table.\"\n",
              "              style=\"display:none;\">\n",
              "        \n",
              "  <svg xmlns=\"http://www.w3.org/2000/svg\" height=\"24px\"viewBox=\"0 0 24 24\"\n",
              "       width=\"24px\">\n",
              "    <path d=\"M0 0h24v24H0V0z\" fill=\"none\"/>\n",
              "    <path d=\"M18.56 5.44l.94 2.06.94-2.06 2.06-.94-2.06-.94-.94-2.06-.94 2.06-2.06.94zm-11 1L8.5 8.5l.94-2.06 2.06-.94-2.06-.94L8.5 2.5l-.94 2.06-2.06.94zm10 10l.94 2.06.94-2.06 2.06-.94-2.06-.94-.94-2.06-.94 2.06-2.06.94z\"/><path d=\"M17.41 7.96l-1.37-1.37c-.4-.4-.92-.59-1.43-.59-.52 0-1.04.2-1.43.59L10.3 9.45l-7.72 7.72c-.78.78-.78 2.05 0 2.83L4 21.41c.39.39.9.59 1.41.59.51 0 1.02-.2 1.41-.59l7.78-7.78 2.81-2.81c.8-.78.8-2.07 0-2.86zM5.41 20L4 18.59l7.72-7.72 1.47 1.35L5.41 20z\"/>\n",
              "  </svg>\n",
              "      </button>\n",
              "      \n",
              "  <style>\n",
              "    .colab-df-container {\n",
              "      display:flex;\n",
              "      flex-wrap:wrap;\n",
              "      gap: 12px;\n",
              "    }\n",
              "\n",
              "    .colab-df-convert {\n",
              "      background-color: #E8F0FE;\n",
              "      border: none;\n",
              "      border-radius: 50%;\n",
              "      cursor: pointer;\n",
              "      display: none;\n",
              "      fill: #1967D2;\n",
              "      height: 32px;\n",
              "      padding: 0 0 0 0;\n",
              "      width: 32px;\n",
              "    }\n",
              "\n",
              "    .colab-df-convert:hover {\n",
              "      background-color: #E2EBFA;\n",
              "      box-shadow: 0px 1px 2px rgba(60, 64, 67, 0.3), 0px 1px 3px 1px rgba(60, 64, 67, 0.15);\n",
              "      fill: #174EA6;\n",
              "    }\n",
              "\n",
              "    [theme=dark] .colab-df-convert {\n",
              "      background-color: #3B4455;\n",
              "      fill: #D2E3FC;\n",
              "    }\n",
              "\n",
              "    [theme=dark] .colab-df-convert:hover {\n",
              "      background-color: #434B5C;\n",
              "      box-shadow: 0px 1px 3px 1px rgba(0, 0, 0, 0.15);\n",
              "      filter: drop-shadow(0px 1px 2px rgba(0, 0, 0, 0.3));\n",
              "      fill: #FFFFFF;\n",
              "    }\n",
              "  </style>\n",
              "\n",
              "      <script>\n",
              "        const buttonEl =\n",
              "          document.querySelector('#df-f5539d20-fb15-4c0b-a16a-70c7bf8190b9 button.colab-df-convert');\n",
              "        buttonEl.style.display =\n",
              "          google.colab.kernel.accessAllowed ? 'block' : 'none';\n",
              "\n",
              "        async function convertToInteractive(key) {\n",
              "          const element = document.querySelector('#df-f5539d20-fb15-4c0b-a16a-70c7bf8190b9');\n",
              "          const dataTable =\n",
              "            await google.colab.kernel.invokeFunction('convertToInteractive',\n",
              "                                                     [key], {});\n",
              "          if (!dataTable) return;\n",
              "\n",
              "          const docLinkHtml = 'Like what you see? Visit the ' +\n",
              "            '<a target=\"_blank\" href=https://colab.research.google.com/notebooks/data_table.ipynb>data table notebook</a>'\n",
              "            + ' to learn more about interactive tables.';\n",
              "          element.innerHTML = '';\n",
              "          dataTable['output_type'] = 'display_data';\n",
              "          await google.colab.output.renderOutput(dataTable, element);\n",
              "          const docLink = document.createElement('div');\n",
              "          docLink.innerHTML = docLinkHtml;\n",
              "          element.appendChild(docLink);\n",
              "        }\n",
              "      </script>\n",
              "    </div>\n",
              "  </div>\n",
              "  "
            ]
          },
          "metadata": {},
          "execution_count": 510
        }
      ]
    },
    {
      "cell_type": "code",
      "source": [
        "dim_rooms.shape"
      ],
      "metadata": {
        "colab": {
          "base_uri": "https://localhost:8080/"
        },
        "id": "wykQlt3lgiv_",
        "outputId": "3c96fe0d-83ec-422b-bee4-16eba55abf49"
      },
      "execution_count": 511,
      "outputs": [
        {
          "output_type": "execute_result",
          "data": {
            "text/plain": [
              "(4, 2)"
            ]
          },
          "metadata": {},
          "execution_count": 511
        }
      ]
    },
    {
      "cell_type": "code",
      "source": [
        "dim_rooms.info()"
      ],
      "metadata": {
        "colab": {
          "base_uri": "https://localhost:8080/"
        },
        "id": "PKUbc0YhglxW",
        "outputId": "a3504923-d4f3-4d29-c309-5978b87dd21a"
      },
      "execution_count": 512,
      "outputs": [
        {
          "output_type": "stream",
          "name": "stdout",
          "text": [
            "<class 'pandas.core.frame.DataFrame'>\n",
            "RangeIndex: 4 entries, 0 to 3\n",
            "Data columns (total 2 columns):\n",
            " #   Column      Non-Null Count  Dtype \n",
            "---  ------      --------------  ----- \n",
            " 0   room_id     4 non-null      object\n",
            " 1   room_class  4 non-null      object\n",
            "dtypes: object(2)\n",
            "memory usage: 192.0+ bytes\n"
          ]
        }
      ]
    },
    {
      "cell_type": "markdown",
      "source": [
        "### Aggr Bookings Details"
      ],
      "metadata": {
        "id": "i_V7THq7g2g3"
      }
    },
    {
      "cell_type": "code",
      "source": [
        "fact_aggr_bookings.head()"
      ],
      "metadata": {
        "colab": {
          "base_uri": "https://localhost:8080/",
          "height": 206
        },
        "id": "jKhcC22LIHHz",
        "outputId": "cf55fedd-e1c4-49e7-b6d0-97d294cd1745"
      },
      "execution_count": 513,
      "outputs": [
        {
          "output_type": "execute_result",
          "data": {
            "text/plain": [
              "   property_id check_in_date room_category  successful_bookings  capacity\n",
              "0        16559     01-May-22           RT1                   25        30\n",
              "1        19562     01-May-22           RT1                   28        30\n",
              "2        19563     01-May-22           RT1                   23        30\n",
              "3        17558     01-May-22           RT1                   13        19\n",
              "4        16558     01-May-22           RT1                   18        19"
            ],
            "text/html": [
              "\n",
              "  <div id=\"df-8cddc2d2-94d4-46ca-9a71-7bd7269666a7\">\n",
              "    <div class=\"colab-df-container\">\n",
              "      <div>\n",
              "<style scoped>\n",
              "    .dataframe tbody tr th:only-of-type {\n",
              "        vertical-align: middle;\n",
              "    }\n",
              "\n",
              "    .dataframe tbody tr th {\n",
              "        vertical-align: top;\n",
              "    }\n",
              "\n",
              "    .dataframe thead th {\n",
              "        text-align: right;\n",
              "    }\n",
              "</style>\n",
              "<table border=\"1\" class=\"dataframe\">\n",
              "  <thead>\n",
              "    <tr style=\"text-align: right;\">\n",
              "      <th></th>\n",
              "      <th>property_id</th>\n",
              "      <th>check_in_date</th>\n",
              "      <th>room_category</th>\n",
              "      <th>successful_bookings</th>\n",
              "      <th>capacity</th>\n",
              "    </tr>\n",
              "  </thead>\n",
              "  <tbody>\n",
              "    <tr>\n",
              "      <th>0</th>\n",
              "      <td>16559</td>\n",
              "      <td>01-May-22</td>\n",
              "      <td>RT1</td>\n",
              "      <td>25</td>\n",
              "      <td>30</td>\n",
              "    </tr>\n",
              "    <tr>\n",
              "      <th>1</th>\n",
              "      <td>19562</td>\n",
              "      <td>01-May-22</td>\n",
              "      <td>RT1</td>\n",
              "      <td>28</td>\n",
              "      <td>30</td>\n",
              "    </tr>\n",
              "    <tr>\n",
              "      <th>2</th>\n",
              "      <td>19563</td>\n",
              "      <td>01-May-22</td>\n",
              "      <td>RT1</td>\n",
              "      <td>23</td>\n",
              "      <td>30</td>\n",
              "    </tr>\n",
              "    <tr>\n",
              "      <th>3</th>\n",
              "      <td>17558</td>\n",
              "      <td>01-May-22</td>\n",
              "      <td>RT1</td>\n",
              "      <td>13</td>\n",
              "      <td>19</td>\n",
              "    </tr>\n",
              "    <tr>\n",
              "      <th>4</th>\n",
              "      <td>16558</td>\n",
              "      <td>01-May-22</td>\n",
              "      <td>RT1</td>\n",
              "      <td>18</td>\n",
              "      <td>19</td>\n",
              "    </tr>\n",
              "  </tbody>\n",
              "</table>\n",
              "</div>\n",
              "      <button class=\"colab-df-convert\" onclick=\"convertToInteractive('df-8cddc2d2-94d4-46ca-9a71-7bd7269666a7')\"\n",
              "              title=\"Convert this dataframe to an interactive table.\"\n",
              "              style=\"display:none;\">\n",
              "        \n",
              "  <svg xmlns=\"http://www.w3.org/2000/svg\" height=\"24px\"viewBox=\"0 0 24 24\"\n",
              "       width=\"24px\">\n",
              "    <path d=\"M0 0h24v24H0V0z\" fill=\"none\"/>\n",
              "    <path d=\"M18.56 5.44l.94 2.06.94-2.06 2.06-.94-2.06-.94-.94-2.06-.94 2.06-2.06.94zm-11 1L8.5 8.5l.94-2.06 2.06-.94-2.06-.94L8.5 2.5l-.94 2.06-2.06.94zm10 10l.94 2.06.94-2.06 2.06-.94-2.06-.94-.94-2.06-.94 2.06-2.06.94z\"/><path d=\"M17.41 7.96l-1.37-1.37c-.4-.4-.92-.59-1.43-.59-.52 0-1.04.2-1.43.59L10.3 9.45l-7.72 7.72c-.78.78-.78 2.05 0 2.83L4 21.41c.39.39.9.59 1.41.59.51 0 1.02-.2 1.41-.59l7.78-7.78 2.81-2.81c.8-.78.8-2.07 0-2.86zM5.41 20L4 18.59l7.72-7.72 1.47 1.35L5.41 20z\"/>\n",
              "  </svg>\n",
              "      </button>\n",
              "      \n",
              "  <style>\n",
              "    .colab-df-container {\n",
              "      display:flex;\n",
              "      flex-wrap:wrap;\n",
              "      gap: 12px;\n",
              "    }\n",
              "\n",
              "    .colab-df-convert {\n",
              "      background-color: #E8F0FE;\n",
              "      border: none;\n",
              "      border-radius: 50%;\n",
              "      cursor: pointer;\n",
              "      display: none;\n",
              "      fill: #1967D2;\n",
              "      height: 32px;\n",
              "      padding: 0 0 0 0;\n",
              "      width: 32px;\n",
              "    }\n",
              "\n",
              "    .colab-df-convert:hover {\n",
              "      background-color: #E2EBFA;\n",
              "      box-shadow: 0px 1px 2px rgba(60, 64, 67, 0.3), 0px 1px 3px 1px rgba(60, 64, 67, 0.15);\n",
              "      fill: #174EA6;\n",
              "    }\n",
              "\n",
              "    [theme=dark] .colab-df-convert {\n",
              "      background-color: #3B4455;\n",
              "      fill: #D2E3FC;\n",
              "    }\n",
              "\n",
              "    [theme=dark] .colab-df-convert:hover {\n",
              "      background-color: #434B5C;\n",
              "      box-shadow: 0px 1px 3px 1px rgba(0, 0, 0, 0.15);\n",
              "      filter: drop-shadow(0px 1px 2px rgba(0, 0, 0, 0.3));\n",
              "      fill: #FFFFFF;\n",
              "    }\n",
              "  </style>\n",
              "\n",
              "      <script>\n",
              "        const buttonEl =\n",
              "          document.querySelector('#df-8cddc2d2-94d4-46ca-9a71-7bd7269666a7 button.colab-df-convert');\n",
              "        buttonEl.style.display =\n",
              "          google.colab.kernel.accessAllowed ? 'block' : 'none';\n",
              "\n",
              "        async function convertToInteractive(key) {\n",
              "          const element = document.querySelector('#df-8cddc2d2-94d4-46ca-9a71-7bd7269666a7');\n",
              "          const dataTable =\n",
              "            await google.colab.kernel.invokeFunction('convertToInteractive',\n",
              "                                                     [key], {});\n",
              "          if (!dataTable) return;\n",
              "\n",
              "          const docLinkHtml = 'Like what you see? Visit the ' +\n",
              "            '<a target=\"_blank\" href=https://colab.research.google.com/notebooks/data_table.ipynb>data table notebook</a>'\n",
              "            + ' to learn more about interactive tables.';\n",
              "          element.innerHTML = '';\n",
              "          dataTable['output_type'] = 'display_data';\n",
              "          await google.colab.output.renderOutput(dataTable, element);\n",
              "          const docLink = document.createElement('div');\n",
              "          docLink.innerHTML = docLinkHtml;\n",
              "          element.appendChild(docLink);\n",
              "        }\n",
              "      </script>\n",
              "    </div>\n",
              "  </div>\n",
              "  "
            ]
          },
          "metadata": {},
          "execution_count": 513
        }
      ]
    },
    {
      "cell_type": "code",
      "source": [
        "fact_aggr_bookings.shape"
      ],
      "metadata": {
        "colab": {
          "base_uri": "https://localhost:8080/"
        },
        "id": "cLp42DRWhFU7",
        "outputId": "6d2914ea-6582-4bbd-acaf-9f23901388ee"
      },
      "execution_count": 514,
      "outputs": [
        {
          "output_type": "execute_result",
          "data": {
            "text/plain": [
              "(9200, 5)"
            ]
          },
          "metadata": {},
          "execution_count": 514
        }
      ]
    },
    {
      "cell_type": "code",
      "source": [
        "fact_aggr_bookings.info()"
      ],
      "metadata": {
        "colab": {
          "base_uri": "https://localhost:8080/"
        },
        "id": "otp4wHX0hIhV",
        "outputId": "9811d7ee-ce70-4423-aea2-09b4a21dfc3f"
      },
      "execution_count": 515,
      "outputs": [
        {
          "output_type": "stream",
          "name": "stdout",
          "text": [
            "<class 'pandas.core.frame.DataFrame'>\n",
            "RangeIndex: 9200 entries, 0 to 9199\n",
            "Data columns (total 5 columns):\n",
            " #   Column               Non-Null Count  Dtype \n",
            "---  ------               --------------  ----- \n",
            " 0   property_id          9200 non-null   int64 \n",
            " 1   check_in_date        9200 non-null   object\n",
            " 2   room_category        9200 non-null   object\n",
            " 3   successful_bookings  9200 non-null   int64 \n",
            " 4   capacity             9200 non-null   int64 \n",
            "dtypes: int64(3), object(2)\n",
            "memory usage: 359.5+ KB\n"
          ]
        }
      ]
    },
    {
      "cell_type": "markdown",
      "source": [
        "### Bookings Details"
      ],
      "metadata": {
        "id": "xQqhWlHXhRyk"
      }
    },
    {
      "cell_type": "code",
      "source": [
        "fact_bookings.head()"
      ],
      "metadata": {
        "colab": {
          "base_uri": "https://localhost:8080/",
          "height": 270
        },
        "id": "OHxpLAIsIQ6c",
        "outputId": "7ce33c61-df87-4213-cf93-2f344ddb569f"
      },
      "execution_count": 516,
      "outputs": [
        {
          "output_type": "execute_result",
          "data": {
            "text/plain": [
              "         booking_id  property_id booking_date check_in_date checkout_date  \\\n",
              "0  May012216558RT11        16558   2022-04-27    2022-05-01    2022-05-02   \n",
              "1  May012216558RT12        16558   2022-04-30    2022-05-01    2022-05-02   \n",
              "2  May012216558RT13        16558   2022-04-28    2022-05-01    2022-05-04   \n",
              "3  May012216558RT14        16558   2022-04-28    2022-05-01    2022-05-02   \n",
              "4  May012216558RT15        16558   2022-04-27    2022-05-01    2022-05-02   \n",
              "\n",
              "   no_guests room_category booking_platform  ratings_given booking_status  \\\n",
              "0          3           RT1    direct online            1.0    Checked Out   \n",
              "1          2           RT1           others            NaN      Cancelled   \n",
              "2          2           RT1          logtrip            5.0    Checked Out   \n",
              "3          2           RT1           others            NaN      Cancelled   \n",
              "4          4           RT1    direct online            5.0    Checked Out   \n",
              "\n",
              "   revenue_generated  revenue_realized  \n",
              "0              10010             10010  \n",
              "1               9100              3640  \n",
              "2               9100              9100  \n",
              "3               9100              3640  \n",
              "4              10920             10920  "
            ],
            "text/html": [
              "\n",
              "  <div id=\"df-5fa312b9-77c1-4e13-9264-3f2ed4232729\">\n",
              "    <div class=\"colab-df-container\">\n",
              "      <div>\n",
              "<style scoped>\n",
              "    .dataframe tbody tr th:only-of-type {\n",
              "        vertical-align: middle;\n",
              "    }\n",
              "\n",
              "    .dataframe tbody tr th {\n",
              "        vertical-align: top;\n",
              "    }\n",
              "\n",
              "    .dataframe thead th {\n",
              "        text-align: right;\n",
              "    }\n",
              "</style>\n",
              "<table border=\"1\" class=\"dataframe\">\n",
              "  <thead>\n",
              "    <tr style=\"text-align: right;\">\n",
              "      <th></th>\n",
              "      <th>booking_id</th>\n",
              "      <th>property_id</th>\n",
              "      <th>booking_date</th>\n",
              "      <th>check_in_date</th>\n",
              "      <th>checkout_date</th>\n",
              "      <th>no_guests</th>\n",
              "      <th>room_category</th>\n",
              "      <th>booking_platform</th>\n",
              "      <th>ratings_given</th>\n",
              "      <th>booking_status</th>\n",
              "      <th>revenue_generated</th>\n",
              "      <th>revenue_realized</th>\n",
              "    </tr>\n",
              "  </thead>\n",
              "  <tbody>\n",
              "    <tr>\n",
              "      <th>0</th>\n",
              "      <td>May012216558RT11</td>\n",
              "      <td>16558</td>\n",
              "      <td>2022-04-27</td>\n",
              "      <td>2022-05-01</td>\n",
              "      <td>2022-05-02</td>\n",
              "      <td>3</td>\n",
              "      <td>RT1</td>\n",
              "      <td>direct online</td>\n",
              "      <td>1.0</td>\n",
              "      <td>Checked Out</td>\n",
              "      <td>10010</td>\n",
              "      <td>10010</td>\n",
              "    </tr>\n",
              "    <tr>\n",
              "      <th>1</th>\n",
              "      <td>May012216558RT12</td>\n",
              "      <td>16558</td>\n",
              "      <td>2022-04-30</td>\n",
              "      <td>2022-05-01</td>\n",
              "      <td>2022-05-02</td>\n",
              "      <td>2</td>\n",
              "      <td>RT1</td>\n",
              "      <td>others</td>\n",
              "      <td>NaN</td>\n",
              "      <td>Cancelled</td>\n",
              "      <td>9100</td>\n",
              "      <td>3640</td>\n",
              "    </tr>\n",
              "    <tr>\n",
              "      <th>2</th>\n",
              "      <td>May012216558RT13</td>\n",
              "      <td>16558</td>\n",
              "      <td>2022-04-28</td>\n",
              "      <td>2022-05-01</td>\n",
              "      <td>2022-05-04</td>\n",
              "      <td>2</td>\n",
              "      <td>RT1</td>\n",
              "      <td>logtrip</td>\n",
              "      <td>5.0</td>\n",
              "      <td>Checked Out</td>\n",
              "      <td>9100</td>\n",
              "      <td>9100</td>\n",
              "    </tr>\n",
              "    <tr>\n",
              "      <th>3</th>\n",
              "      <td>May012216558RT14</td>\n",
              "      <td>16558</td>\n",
              "      <td>2022-04-28</td>\n",
              "      <td>2022-05-01</td>\n",
              "      <td>2022-05-02</td>\n",
              "      <td>2</td>\n",
              "      <td>RT1</td>\n",
              "      <td>others</td>\n",
              "      <td>NaN</td>\n",
              "      <td>Cancelled</td>\n",
              "      <td>9100</td>\n",
              "      <td>3640</td>\n",
              "    </tr>\n",
              "    <tr>\n",
              "      <th>4</th>\n",
              "      <td>May012216558RT15</td>\n",
              "      <td>16558</td>\n",
              "      <td>2022-04-27</td>\n",
              "      <td>2022-05-01</td>\n",
              "      <td>2022-05-02</td>\n",
              "      <td>4</td>\n",
              "      <td>RT1</td>\n",
              "      <td>direct online</td>\n",
              "      <td>5.0</td>\n",
              "      <td>Checked Out</td>\n",
              "      <td>10920</td>\n",
              "      <td>10920</td>\n",
              "    </tr>\n",
              "  </tbody>\n",
              "</table>\n",
              "</div>\n",
              "      <button class=\"colab-df-convert\" onclick=\"convertToInteractive('df-5fa312b9-77c1-4e13-9264-3f2ed4232729')\"\n",
              "              title=\"Convert this dataframe to an interactive table.\"\n",
              "              style=\"display:none;\">\n",
              "        \n",
              "  <svg xmlns=\"http://www.w3.org/2000/svg\" height=\"24px\"viewBox=\"0 0 24 24\"\n",
              "       width=\"24px\">\n",
              "    <path d=\"M0 0h24v24H0V0z\" fill=\"none\"/>\n",
              "    <path d=\"M18.56 5.44l.94 2.06.94-2.06 2.06-.94-2.06-.94-.94-2.06-.94 2.06-2.06.94zm-11 1L8.5 8.5l.94-2.06 2.06-.94-2.06-.94L8.5 2.5l-.94 2.06-2.06.94zm10 10l.94 2.06.94-2.06 2.06-.94-2.06-.94-.94-2.06-.94 2.06-2.06.94z\"/><path d=\"M17.41 7.96l-1.37-1.37c-.4-.4-.92-.59-1.43-.59-.52 0-1.04.2-1.43.59L10.3 9.45l-7.72 7.72c-.78.78-.78 2.05 0 2.83L4 21.41c.39.39.9.59 1.41.59.51 0 1.02-.2 1.41-.59l7.78-7.78 2.81-2.81c.8-.78.8-2.07 0-2.86zM5.41 20L4 18.59l7.72-7.72 1.47 1.35L5.41 20z\"/>\n",
              "  </svg>\n",
              "      </button>\n",
              "      \n",
              "  <style>\n",
              "    .colab-df-container {\n",
              "      display:flex;\n",
              "      flex-wrap:wrap;\n",
              "      gap: 12px;\n",
              "    }\n",
              "\n",
              "    .colab-df-convert {\n",
              "      background-color: #E8F0FE;\n",
              "      border: none;\n",
              "      border-radius: 50%;\n",
              "      cursor: pointer;\n",
              "      display: none;\n",
              "      fill: #1967D2;\n",
              "      height: 32px;\n",
              "      padding: 0 0 0 0;\n",
              "      width: 32px;\n",
              "    }\n",
              "\n",
              "    .colab-df-convert:hover {\n",
              "      background-color: #E2EBFA;\n",
              "      box-shadow: 0px 1px 2px rgba(60, 64, 67, 0.3), 0px 1px 3px 1px rgba(60, 64, 67, 0.15);\n",
              "      fill: #174EA6;\n",
              "    }\n",
              "\n",
              "    [theme=dark] .colab-df-convert {\n",
              "      background-color: #3B4455;\n",
              "      fill: #D2E3FC;\n",
              "    }\n",
              "\n",
              "    [theme=dark] .colab-df-convert:hover {\n",
              "      background-color: #434B5C;\n",
              "      box-shadow: 0px 1px 3px 1px rgba(0, 0, 0, 0.15);\n",
              "      filter: drop-shadow(0px 1px 2px rgba(0, 0, 0, 0.3));\n",
              "      fill: #FFFFFF;\n",
              "    }\n",
              "  </style>\n",
              "\n",
              "      <script>\n",
              "        const buttonEl =\n",
              "          document.querySelector('#df-5fa312b9-77c1-4e13-9264-3f2ed4232729 button.colab-df-convert');\n",
              "        buttonEl.style.display =\n",
              "          google.colab.kernel.accessAllowed ? 'block' : 'none';\n",
              "\n",
              "        async function convertToInteractive(key) {\n",
              "          const element = document.querySelector('#df-5fa312b9-77c1-4e13-9264-3f2ed4232729');\n",
              "          const dataTable =\n",
              "            await google.colab.kernel.invokeFunction('convertToInteractive',\n",
              "                                                     [key], {});\n",
              "          if (!dataTable) return;\n",
              "\n",
              "          const docLinkHtml = 'Like what you see? Visit the ' +\n",
              "            '<a target=\"_blank\" href=https://colab.research.google.com/notebooks/data_table.ipynb>data table notebook</a>'\n",
              "            + ' to learn more about interactive tables.';\n",
              "          element.innerHTML = '';\n",
              "          dataTable['output_type'] = 'display_data';\n",
              "          await google.colab.output.renderOutput(dataTable, element);\n",
              "          const docLink = document.createElement('div');\n",
              "          docLink.innerHTML = docLinkHtml;\n",
              "          element.appendChild(docLink);\n",
              "        }\n",
              "      </script>\n",
              "    </div>\n",
              "  </div>\n",
              "  "
            ]
          },
          "metadata": {},
          "execution_count": 516
        }
      ]
    },
    {
      "cell_type": "code",
      "source": [
        "fact_bookings.shape"
      ],
      "metadata": {
        "colab": {
          "base_uri": "https://localhost:8080/"
        },
        "id": "cl0ZfYhehaOS",
        "outputId": "f272d03b-df27-4a90-b5bb-7749af592f11"
      },
      "execution_count": 517,
      "outputs": [
        {
          "output_type": "execute_result",
          "data": {
            "text/plain": [
              "(134590, 12)"
            ]
          },
          "metadata": {},
          "execution_count": 517
        }
      ]
    },
    {
      "cell_type": "code",
      "source": [
        "fact_bookings.info()"
      ],
      "metadata": {
        "colab": {
          "base_uri": "https://localhost:8080/"
        },
        "id": "HW9-wSC4hcZz",
        "outputId": "bd5b72c5-ecd3-482b-cf0f-d6e42763a7ce"
      },
      "execution_count": 518,
      "outputs": [
        {
          "output_type": "stream",
          "name": "stdout",
          "text": [
            "<class 'pandas.core.frame.DataFrame'>\n",
            "RangeIndex: 134590 entries, 0 to 134589\n",
            "Data columns (total 12 columns):\n",
            " #   Column             Non-Null Count   Dtype  \n",
            "---  ------             --------------   -----  \n",
            " 0   booking_id         134590 non-null  object \n",
            " 1   property_id        134590 non-null  int64  \n",
            " 2   booking_date       134590 non-null  object \n",
            " 3   check_in_date      134590 non-null  object \n",
            " 4   checkout_date      134590 non-null  object \n",
            " 5   no_guests          134590 non-null  int64  \n",
            " 6   room_category      134590 non-null  object \n",
            " 7   booking_platform   134590 non-null  object \n",
            " 8   ratings_given      56683 non-null   float64\n",
            " 9   booking_status     134590 non-null  object \n",
            " 10  revenue_generated  134590 non-null  int64  \n",
            " 11  revenue_realized   134590 non-null  int64  \n",
            "dtypes: float64(1), int64(4), object(7)\n",
            "memory usage: 12.3+ MB\n"
          ]
        }
      ]
    },
    {
      "cell_type": "markdown",
      "source": [
        "## Data Structuring"
      ],
      "metadata": {
        "id": "i-rWuuo4feAL"
      }
    },
    {
      "cell_type": "markdown",
      "source": [
        "### Date Table"
      ],
      "metadata": {
        "id": "5P2ImlkijPvC"
      }
    },
    {
      "cell_type": "code",
      "source": [
        "dim_date.info()"
      ],
      "metadata": {
        "colab": {
          "base_uri": "https://localhost:8080/"
        },
        "id": "sqITJAOjfdjF",
        "outputId": "ba9a8c78-0ce7-4f9a-80d3-6cdbae817277"
      },
      "execution_count": 519,
      "outputs": [
        {
          "output_type": "stream",
          "name": "stdout",
          "text": [
            "<class 'pandas.core.frame.DataFrame'>\n",
            "RangeIndex: 92 entries, 0 to 91\n",
            "Data columns (total 4 columns):\n",
            " #   Column    Non-Null Count  Dtype \n",
            "---  ------    --------------  ----- \n",
            " 0   date      92 non-null     object\n",
            " 1   mmm yy    92 non-null     object\n",
            " 2   week no   92 non-null     object\n",
            " 3   day_type  92 non-null     object\n",
            "dtypes: object(4)\n",
            "memory usage: 3.0+ KB\n"
          ]
        }
      ]
    },
    {
      "cell_type": "code",
      "source": [
        "# Conversion of Date from object data type to datetime\n",
        "dim_date.date = dim_date.date.apply(pd.to_datetime)"
      ],
      "metadata": {
        "id": "KpC5Bltcf-s0"
      },
      "execution_count": 520,
      "outputs": []
    },
    {
      "cell_type": "code",
      "source": [
        "# Conversion of Week No from object data type to int64\n",
        "dim_date['week no'] = dim_date['week no'].str.extract('(\\d+)').astype('int64')"
      ],
      "metadata": {
        "id": "VnNlT_sfgJta"
      },
      "execution_count": 521,
      "outputs": []
    },
    {
      "cell_type": "code",
      "source": [
        "dim_date.info()"
      ],
      "metadata": {
        "colab": {
          "base_uri": "https://localhost:8080/"
        },
        "id": "0OYJjkDZiVfy",
        "outputId": "d42b7f3e-1121-4a96-e2e6-93e56d4165e4"
      },
      "execution_count": 522,
      "outputs": [
        {
          "output_type": "stream",
          "name": "stdout",
          "text": [
            "<class 'pandas.core.frame.DataFrame'>\n",
            "RangeIndex: 92 entries, 0 to 91\n",
            "Data columns (total 4 columns):\n",
            " #   Column    Non-Null Count  Dtype         \n",
            "---  ------    --------------  -----         \n",
            " 0   date      92 non-null     datetime64[ns]\n",
            " 1   mmm yy    92 non-null     object        \n",
            " 2   week no   92 non-null     int64         \n",
            " 3   day_type  92 non-null     object        \n",
            "dtypes: datetime64[ns](1), int64(1), object(2)\n",
            "memory usage: 3.0+ KB\n"
          ]
        }
      ]
    },
    {
      "cell_type": "code",
      "source": [
        "dim_date.head()"
      ],
      "metadata": {
        "colab": {
          "base_uri": "https://localhost:8080/",
          "height": 206
        },
        "id": "IBMMZu0njgO5",
        "outputId": "5130b852-e9d1-405d-8249-da3f227fd53b"
      },
      "execution_count": 523,
      "outputs": [
        {
          "output_type": "execute_result",
          "data": {
            "text/plain": [
              "        date  mmm yy  week no  day_type\n",
              "0 2022-05-01  May 22       19   weekend\n",
              "1 2022-05-02  May 22       19  weekeday\n",
              "2 2022-05-03  May 22       19  weekeday\n",
              "3 2022-05-04  May 22       19  weekeday\n",
              "4 2022-05-05  May 22       19  weekeday"
            ],
            "text/html": [
              "\n",
              "  <div id=\"df-bfd723a2-c0d8-409b-baec-967c5db8fd82\">\n",
              "    <div class=\"colab-df-container\">\n",
              "      <div>\n",
              "<style scoped>\n",
              "    .dataframe tbody tr th:only-of-type {\n",
              "        vertical-align: middle;\n",
              "    }\n",
              "\n",
              "    .dataframe tbody tr th {\n",
              "        vertical-align: top;\n",
              "    }\n",
              "\n",
              "    .dataframe thead th {\n",
              "        text-align: right;\n",
              "    }\n",
              "</style>\n",
              "<table border=\"1\" class=\"dataframe\">\n",
              "  <thead>\n",
              "    <tr style=\"text-align: right;\">\n",
              "      <th></th>\n",
              "      <th>date</th>\n",
              "      <th>mmm yy</th>\n",
              "      <th>week no</th>\n",
              "      <th>day_type</th>\n",
              "    </tr>\n",
              "  </thead>\n",
              "  <tbody>\n",
              "    <tr>\n",
              "      <th>0</th>\n",
              "      <td>2022-05-01</td>\n",
              "      <td>May 22</td>\n",
              "      <td>19</td>\n",
              "      <td>weekend</td>\n",
              "    </tr>\n",
              "    <tr>\n",
              "      <th>1</th>\n",
              "      <td>2022-05-02</td>\n",
              "      <td>May 22</td>\n",
              "      <td>19</td>\n",
              "      <td>weekeday</td>\n",
              "    </tr>\n",
              "    <tr>\n",
              "      <th>2</th>\n",
              "      <td>2022-05-03</td>\n",
              "      <td>May 22</td>\n",
              "      <td>19</td>\n",
              "      <td>weekeday</td>\n",
              "    </tr>\n",
              "    <tr>\n",
              "      <th>3</th>\n",
              "      <td>2022-05-04</td>\n",
              "      <td>May 22</td>\n",
              "      <td>19</td>\n",
              "      <td>weekeday</td>\n",
              "    </tr>\n",
              "    <tr>\n",
              "      <th>4</th>\n",
              "      <td>2022-05-05</td>\n",
              "      <td>May 22</td>\n",
              "      <td>19</td>\n",
              "      <td>weekeday</td>\n",
              "    </tr>\n",
              "  </tbody>\n",
              "</table>\n",
              "</div>\n",
              "      <button class=\"colab-df-convert\" onclick=\"convertToInteractive('df-bfd723a2-c0d8-409b-baec-967c5db8fd82')\"\n",
              "              title=\"Convert this dataframe to an interactive table.\"\n",
              "              style=\"display:none;\">\n",
              "        \n",
              "  <svg xmlns=\"http://www.w3.org/2000/svg\" height=\"24px\"viewBox=\"0 0 24 24\"\n",
              "       width=\"24px\">\n",
              "    <path d=\"M0 0h24v24H0V0z\" fill=\"none\"/>\n",
              "    <path d=\"M18.56 5.44l.94 2.06.94-2.06 2.06-.94-2.06-.94-.94-2.06-.94 2.06-2.06.94zm-11 1L8.5 8.5l.94-2.06 2.06-.94-2.06-.94L8.5 2.5l-.94 2.06-2.06.94zm10 10l.94 2.06.94-2.06 2.06-.94-2.06-.94-.94-2.06-.94 2.06-2.06.94z\"/><path d=\"M17.41 7.96l-1.37-1.37c-.4-.4-.92-.59-1.43-.59-.52 0-1.04.2-1.43.59L10.3 9.45l-7.72 7.72c-.78.78-.78 2.05 0 2.83L4 21.41c.39.39.9.59 1.41.59.51 0 1.02-.2 1.41-.59l7.78-7.78 2.81-2.81c.8-.78.8-2.07 0-2.86zM5.41 20L4 18.59l7.72-7.72 1.47 1.35L5.41 20z\"/>\n",
              "  </svg>\n",
              "      </button>\n",
              "      \n",
              "  <style>\n",
              "    .colab-df-container {\n",
              "      display:flex;\n",
              "      flex-wrap:wrap;\n",
              "      gap: 12px;\n",
              "    }\n",
              "\n",
              "    .colab-df-convert {\n",
              "      background-color: #E8F0FE;\n",
              "      border: none;\n",
              "      border-radius: 50%;\n",
              "      cursor: pointer;\n",
              "      display: none;\n",
              "      fill: #1967D2;\n",
              "      height: 32px;\n",
              "      padding: 0 0 0 0;\n",
              "      width: 32px;\n",
              "    }\n",
              "\n",
              "    .colab-df-convert:hover {\n",
              "      background-color: #E2EBFA;\n",
              "      box-shadow: 0px 1px 2px rgba(60, 64, 67, 0.3), 0px 1px 3px 1px rgba(60, 64, 67, 0.15);\n",
              "      fill: #174EA6;\n",
              "    }\n",
              "\n",
              "    [theme=dark] .colab-df-convert {\n",
              "      background-color: #3B4455;\n",
              "      fill: #D2E3FC;\n",
              "    }\n",
              "\n",
              "    [theme=dark] .colab-df-convert:hover {\n",
              "      background-color: #434B5C;\n",
              "      box-shadow: 0px 1px 3px 1px rgba(0, 0, 0, 0.15);\n",
              "      filter: drop-shadow(0px 1px 2px rgba(0, 0, 0, 0.3));\n",
              "      fill: #FFFFFF;\n",
              "    }\n",
              "  </style>\n",
              "\n",
              "      <script>\n",
              "        const buttonEl =\n",
              "          document.querySelector('#df-bfd723a2-c0d8-409b-baec-967c5db8fd82 button.colab-df-convert');\n",
              "        buttonEl.style.display =\n",
              "          google.colab.kernel.accessAllowed ? 'block' : 'none';\n",
              "\n",
              "        async function convertToInteractive(key) {\n",
              "          const element = document.querySelector('#df-bfd723a2-c0d8-409b-baec-967c5db8fd82');\n",
              "          const dataTable =\n",
              "            await google.colab.kernel.invokeFunction('convertToInteractive',\n",
              "                                                     [key], {});\n",
              "          if (!dataTable) return;\n",
              "\n",
              "          const docLinkHtml = 'Like what you see? Visit the ' +\n",
              "            '<a target=\"_blank\" href=https://colab.research.google.com/notebooks/data_table.ipynb>data table notebook</a>'\n",
              "            + ' to learn more about interactive tables.';\n",
              "          element.innerHTML = '';\n",
              "          dataTable['output_type'] = 'display_data';\n",
              "          await google.colab.output.renderOutput(dataTable, element);\n",
              "          const docLink = document.createElement('div');\n",
              "          docLink.innerHTML = docLinkHtml;\n",
              "          element.appendChild(docLink);\n",
              "        }\n",
              "      </script>\n",
              "    </div>\n",
              "  </div>\n",
              "  "
            ]
          },
          "metadata": {},
          "execution_count": 523
        }
      ]
    },
    {
      "cell_type": "markdown",
      "source": [
        "### Aggr Bookings Table"
      ],
      "metadata": {
        "id": "t4_Ylx4Mj6sJ"
      }
    },
    {
      "cell_type": "code",
      "source": [
        "fact_aggr_bookings.info()"
      ],
      "metadata": {
        "colab": {
          "base_uri": "https://localhost:8080/"
        },
        "id": "c67fQfNej_hH",
        "outputId": "febd7b25-8d1d-4de3-8a08-07558cde336f"
      },
      "execution_count": 524,
      "outputs": [
        {
          "output_type": "stream",
          "name": "stdout",
          "text": [
            "<class 'pandas.core.frame.DataFrame'>\n",
            "RangeIndex: 9200 entries, 0 to 9199\n",
            "Data columns (total 5 columns):\n",
            " #   Column               Non-Null Count  Dtype \n",
            "---  ------               --------------  ----- \n",
            " 0   property_id          9200 non-null   int64 \n",
            " 1   check_in_date        9200 non-null   object\n",
            " 2   room_category        9200 non-null   object\n",
            " 3   successful_bookings  9200 non-null   int64 \n",
            " 4   capacity             9200 non-null   int64 \n",
            "dtypes: int64(3), object(2)\n",
            "memory usage: 359.5+ KB\n"
          ]
        }
      ]
    },
    {
      "cell_type": "code",
      "source": [
        "# Conversion of Date from object data type to datetime\n",
        "fact_aggr_bookings.check_in_date = fact_aggr_bookings.check_in_date.apply(pd.to_datetime)"
      ],
      "metadata": {
        "id": "m3GK4Tf6kzJz"
      },
      "execution_count": 525,
      "outputs": []
    },
    {
      "cell_type": "code",
      "source": [
        "fact_aggr_bookings.info()"
      ],
      "metadata": {
        "colab": {
          "base_uri": "https://localhost:8080/"
        },
        "id": "q8j9Bp1UlBcq",
        "outputId": "ec174d6d-6eee-48d8-84ed-29e930ea14dc"
      },
      "execution_count": 526,
      "outputs": [
        {
          "output_type": "stream",
          "name": "stdout",
          "text": [
            "<class 'pandas.core.frame.DataFrame'>\n",
            "RangeIndex: 9200 entries, 0 to 9199\n",
            "Data columns (total 5 columns):\n",
            " #   Column               Non-Null Count  Dtype         \n",
            "---  ------               --------------  -----         \n",
            " 0   property_id          9200 non-null   int64         \n",
            " 1   check_in_date        9200 non-null   datetime64[ns]\n",
            " 2   room_category        9200 non-null   object        \n",
            " 3   successful_bookings  9200 non-null   int64         \n",
            " 4   capacity             9200 non-null   int64         \n",
            "dtypes: datetime64[ns](1), int64(3), object(1)\n",
            "memory usage: 359.5+ KB\n"
          ]
        }
      ]
    },
    {
      "cell_type": "code",
      "source": [
        "fact_aggr_bookings.head()"
      ],
      "metadata": {
        "colab": {
          "base_uri": "https://localhost:8080/",
          "height": 206
        },
        "id": "hV7wXgJhlILQ",
        "outputId": "c3de5855-77d2-49fc-c368-46ba7c9b5a8b"
      },
      "execution_count": 527,
      "outputs": [
        {
          "output_type": "execute_result",
          "data": {
            "text/plain": [
              "   property_id check_in_date room_category  successful_bookings  capacity\n",
              "0        16559    2022-05-01           RT1                   25        30\n",
              "1        19562    2022-05-01           RT1                   28        30\n",
              "2        19563    2022-05-01           RT1                   23        30\n",
              "3        17558    2022-05-01           RT1                   13        19\n",
              "4        16558    2022-05-01           RT1                   18        19"
            ],
            "text/html": [
              "\n",
              "  <div id=\"df-7ea12bf7-32b7-458d-92f1-77d40ff8f2af\">\n",
              "    <div class=\"colab-df-container\">\n",
              "      <div>\n",
              "<style scoped>\n",
              "    .dataframe tbody tr th:only-of-type {\n",
              "        vertical-align: middle;\n",
              "    }\n",
              "\n",
              "    .dataframe tbody tr th {\n",
              "        vertical-align: top;\n",
              "    }\n",
              "\n",
              "    .dataframe thead th {\n",
              "        text-align: right;\n",
              "    }\n",
              "</style>\n",
              "<table border=\"1\" class=\"dataframe\">\n",
              "  <thead>\n",
              "    <tr style=\"text-align: right;\">\n",
              "      <th></th>\n",
              "      <th>property_id</th>\n",
              "      <th>check_in_date</th>\n",
              "      <th>room_category</th>\n",
              "      <th>successful_bookings</th>\n",
              "      <th>capacity</th>\n",
              "    </tr>\n",
              "  </thead>\n",
              "  <tbody>\n",
              "    <tr>\n",
              "      <th>0</th>\n",
              "      <td>16559</td>\n",
              "      <td>2022-05-01</td>\n",
              "      <td>RT1</td>\n",
              "      <td>25</td>\n",
              "      <td>30</td>\n",
              "    </tr>\n",
              "    <tr>\n",
              "      <th>1</th>\n",
              "      <td>19562</td>\n",
              "      <td>2022-05-01</td>\n",
              "      <td>RT1</td>\n",
              "      <td>28</td>\n",
              "      <td>30</td>\n",
              "    </tr>\n",
              "    <tr>\n",
              "      <th>2</th>\n",
              "      <td>19563</td>\n",
              "      <td>2022-05-01</td>\n",
              "      <td>RT1</td>\n",
              "      <td>23</td>\n",
              "      <td>30</td>\n",
              "    </tr>\n",
              "    <tr>\n",
              "      <th>3</th>\n",
              "      <td>17558</td>\n",
              "      <td>2022-05-01</td>\n",
              "      <td>RT1</td>\n",
              "      <td>13</td>\n",
              "      <td>19</td>\n",
              "    </tr>\n",
              "    <tr>\n",
              "      <th>4</th>\n",
              "      <td>16558</td>\n",
              "      <td>2022-05-01</td>\n",
              "      <td>RT1</td>\n",
              "      <td>18</td>\n",
              "      <td>19</td>\n",
              "    </tr>\n",
              "  </tbody>\n",
              "</table>\n",
              "</div>\n",
              "      <button class=\"colab-df-convert\" onclick=\"convertToInteractive('df-7ea12bf7-32b7-458d-92f1-77d40ff8f2af')\"\n",
              "              title=\"Convert this dataframe to an interactive table.\"\n",
              "              style=\"display:none;\">\n",
              "        \n",
              "  <svg xmlns=\"http://www.w3.org/2000/svg\" height=\"24px\"viewBox=\"0 0 24 24\"\n",
              "       width=\"24px\">\n",
              "    <path d=\"M0 0h24v24H0V0z\" fill=\"none\"/>\n",
              "    <path d=\"M18.56 5.44l.94 2.06.94-2.06 2.06-.94-2.06-.94-.94-2.06-.94 2.06-2.06.94zm-11 1L8.5 8.5l.94-2.06 2.06-.94-2.06-.94L8.5 2.5l-.94 2.06-2.06.94zm10 10l.94 2.06.94-2.06 2.06-.94-2.06-.94-.94-2.06-.94 2.06-2.06.94z\"/><path d=\"M17.41 7.96l-1.37-1.37c-.4-.4-.92-.59-1.43-.59-.52 0-1.04.2-1.43.59L10.3 9.45l-7.72 7.72c-.78.78-.78 2.05 0 2.83L4 21.41c.39.39.9.59 1.41.59.51 0 1.02-.2 1.41-.59l7.78-7.78 2.81-2.81c.8-.78.8-2.07 0-2.86zM5.41 20L4 18.59l7.72-7.72 1.47 1.35L5.41 20z\"/>\n",
              "  </svg>\n",
              "      </button>\n",
              "      \n",
              "  <style>\n",
              "    .colab-df-container {\n",
              "      display:flex;\n",
              "      flex-wrap:wrap;\n",
              "      gap: 12px;\n",
              "    }\n",
              "\n",
              "    .colab-df-convert {\n",
              "      background-color: #E8F0FE;\n",
              "      border: none;\n",
              "      border-radius: 50%;\n",
              "      cursor: pointer;\n",
              "      display: none;\n",
              "      fill: #1967D2;\n",
              "      height: 32px;\n",
              "      padding: 0 0 0 0;\n",
              "      width: 32px;\n",
              "    }\n",
              "\n",
              "    .colab-df-convert:hover {\n",
              "      background-color: #E2EBFA;\n",
              "      box-shadow: 0px 1px 2px rgba(60, 64, 67, 0.3), 0px 1px 3px 1px rgba(60, 64, 67, 0.15);\n",
              "      fill: #174EA6;\n",
              "    }\n",
              "\n",
              "    [theme=dark] .colab-df-convert {\n",
              "      background-color: #3B4455;\n",
              "      fill: #D2E3FC;\n",
              "    }\n",
              "\n",
              "    [theme=dark] .colab-df-convert:hover {\n",
              "      background-color: #434B5C;\n",
              "      box-shadow: 0px 1px 3px 1px rgba(0, 0, 0, 0.15);\n",
              "      filter: drop-shadow(0px 1px 2px rgba(0, 0, 0, 0.3));\n",
              "      fill: #FFFFFF;\n",
              "    }\n",
              "  </style>\n",
              "\n",
              "      <script>\n",
              "        const buttonEl =\n",
              "          document.querySelector('#df-7ea12bf7-32b7-458d-92f1-77d40ff8f2af button.colab-df-convert');\n",
              "        buttonEl.style.display =\n",
              "          google.colab.kernel.accessAllowed ? 'block' : 'none';\n",
              "\n",
              "        async function convertToInteractive(key) {\n",
              "          const element = document.querySelector('#df-7ea12bf7-32b7-458d-92f1-77d40ff8f2af');\n",
              "          const dataTable =\n",
              "            await google.colab.kernel.invokeFunction('convertToInteractive',\n",
              "                                                     [key], {});\n",
              "          if (!dataTable) return;\n",
              "\n",
              "          const docLinkHtml = 'Like what you see? Visit the ' +\n",
              "            '<a target=\"_blank\" href=https://colab.research.google.com/notebooks/data_table.ipynb>data table notebook</a>'\n",
              "            + ' to learn more about interactive tables.';\n",
              "          element.innerHTML = '';\n",
              "          dataTable['output_type'] = 'display_data';\n",
              "          await google.colab.output.renderOutput(dataTable, element);\n",
              "          const docLink = document.createElement('div');\n",
              "          docLink.innerHTML = docLinkHtml;\n",
              "          element.appendChild(docLink);\n",
              "        }\n",
              "      </script>\n",
              "    </div>\n",
              "  </div>\n",
              "  "
            ]
          },
          "metadata": {},
          "execution_count": 527
        }
      ]
    },
    {
      "cell_type": "markdown",
      "source": [
        "### Bookings Table"
      ],
      "metadata": {
        "id": "awNTCprSlVOc"
      }
    },
    {
      "cell_type": "code",
      "source": [
        "fact_bookings.info()"
      ],
      "metadata": {
        "colab": {
          "base_uri": "https://localhost:8080/"
        },
        "id": "dadg0lmtlUsE",
        "outputId": "a50886ef-f035-4487-cff1-0d642112900b"
      },
      "execution_count": 528,
      "outputs": [
        {
          "output_type": "stream",
          "name": "stdout",
          "text": [
            "<class 'pandas.core.frame.DataFrame'>\n",
            "RangeIndex: 134590 entries, 0 to 134589\n",
            "Data columns (total 12 columns):\n",
            " #   Column             Non-Null Count   Dtype  \n",
            "---  ------             --------------   -----  \n",
            " 0   booking_id         134590 non-null  object \n",
            " 1   property_id        134590 non-null  int64  \n",
            " 2   booking_date       134590 non-null  object \n",
            " 3   check_in_date      134590 non-null  object \n",
            " 4   checkout_date      134590 non-null  object \n",
            " 5   no_guests          134590 non-null  int64  \n",
            " 6   room_category      134590 non-null  object \n",
            " 7   booking_platform   134590 non-null  object \n",
            " 8   ratings_given      56683 non-null   float64\n",
            " 9   booking_status     134590 non-null  object \n",
            " 10  revenue_generated  134590 non-null  int64  \n",
            " 11  revenue_realized   134590 non-null  int64  \n",
            "dtypes: float64(1), int64(4), object(7)\n",
            "memory usage: 12.3+ MB\n"
          ]
        }
      ]
    },
    {
      "cell_type": "code",
      "source": [
        "# Conversion of Date from object data type to datetime\n",
        "fact_bookings.booking_date = fact_bookings.booking_date.apply(pd.to_datetime)"
      ],
      "metadata": {
        "id": "O6KxSO7UmMaH"
      },
      "execution_count": 529,
      "outputs": []
    },
    {
      "cell_type": "code",
      "source": [
        "# Conversion of Date from object data type to datetime\n",
        "fact_bookings.check_in_date = fact_bookings.check_in_date.apply(pd.to_datetime)"
      ],
      "metadata": {
        "id": "vtgnGi7kmFwc"
      },
      "execution_count": 530,
      "outputs": []
    },
    {
      "cell_type": "code",
      "source": [
        "# Conversion of Date from object data type to datetime\n",
        "fact_bookings.checkout_date = fact_bookings.checkout_date.apply(pd.to_datetime)"
      ],
      "metadata": {
        "id": "MOJUcDJtmV01"
      },
      "execution_count": 531,
      "outputs": []
    },
    {
      "cell_type": "code",
      "source": [
        "fact_bookings.info()"
      ],
      "metadata": {
        "colab": {
          "base_uri": "https://localhost:8080/"
        },
        "id": "ZzYm3kJTmcSh",
        "outputId": "2c42d1cb-20a1-4cd5-99b6-55588fd463e9"
      },
      "execution_count": 532,
      "outputs": [
        {
          "output_type": "stream",
          "name": "stdout",
          "text": [
            "<class 'pandas.core.frame.DataFrame'>\n",
            "RangeIndex: 134590 entries, 0 to 134589\n",
            "Data columns (total 12 columns):\n",
            " #   Column             Non-Null Count   Dtype         \n",
            "---  ------             --------------   -----         \n",
            " 0   booking_id         134590 non-null  object        \n",
            " 1   property_id        134590 non-null  int64         \n",
            " 2   booking_date       134590 non-null  datetime64[ns]\n",
            " 3   check_in_date      134590 non-null  datetime64[ns]\n",
            " 4   checkout_date      134590 non-null  datetime64[ns]\n",
            " 5   no_guests          134590 non-null  int64         \n",
            " 6   room_category      134590 non-null  object        \n",
            " 7   booking_platform   134590 non-null  object        \n",
            " 8   ratings_given      56683 non-null   float64       \n",
            " 9   booking_status     134590 non-null  object        \n",
            " 10  revenue_generated  134590 non-null  int64         \n",
            " 11  revenue_realized   134590 non-null  int64         \n",
            "dtypes: datetime64[ns](3), float64(1), int64(4), object(4)\n",
            "memory usage: 12.3+ MB\n"
          ]
        }
      ]
    },
    {
      "cell_type": "markdown",
      "source": [
        "## Data Exploration"
      ],
      "metadata": {
        "id": "TGKEVS6RoWaD"
      }
    },
    {
      "cell_type": "markdown",
      "source": [
        "### Checking Missing Values"
      ],
      "metadata": {
        "id": "0U2WpE3Yog0b"
      }
    },
    {
      "cell_type": "code",
      "source": [
        "plt.figure(figsize=(14,4))\n",
        "\n",
        "plt.subplot(1,3,1)\n",
        "plt.title('Missing Values in Date')\n",
        "color = sns.color_palette(\"Set3\")\n",
        "sns.heatmap(dim_date.isnull(), cmap = color, yticklabels=False, cbar=False)\n",
        "\n",
        "plt.subplot(1,3,2)\n",
        "plt.title('Missing Values in Hotels')\n",
        "color = sns.color_palette(\"BuPu_r\")\n",
        "sns.heatmap(dim_hotels.isnull(), cmap = color, yticklabels=False, cbar=False)\n",
        "\n",
        "plt.subplot(1,3,3)\n",
        "plt.title('Missing Values in Rooms')\n",
        "color = sns.color_palette(\"Accent\")\n",
        "sns.heatmap(dim_rooms.isnull(), cmap = color, yticklabels=False, cbar=False)\n",
        "\n",
        "plt.show()"
      ],
      "metadata": {
        "colab": {
          "base_uri": "https://localhost:8080/",
          "height": 347
        },
        "id": "AnZWkkcpnTNU",
        "outputId": "ab45aebe-741e-4632-df0d-cce5ab079b51"
      },
      "execution_count": 533,
      "outputs": [
        {
          "output_type": "display_data",
          "data": {
            "text/plain": [
              "<Figure size 1008x288 with 3 Axes>"
            ],
            "image/png": "[encoded data removed]"
          },
          "metadata": {
            "needs_background": "light"
          }
        }
      ]
    },
    {
      "cell_type": "code",
      "source": [
        "plt.figure(figsize=(14,4))\n",
        "\n",
        "plt.subplot(1,2,1)\n",
        "plt.title('Missing Values in Aggr Bookings')\n",
        "color = sns.color_palette(\"OrRd_r\")\n",
        "sns.heatmap(fact_aggr_bookings.isnull(), cmap = color, yticklabels=False, cbar=False)\n",
        "\n",
        "plt.subplot(1,2,2)\n",
        "plt.title('Miising Values in Bookings')\n",
        "color = sns.color_palette(\"cividis\")\n",
        "sns.heatmap(fact_bookings.isnull(), cmap = color, yticklabels=False, cbar=False)\n",
        "\n",
        "plt.show()"
      ],
      "metadata": {
        "colab": {
          "base_uri": "https://localhost:8080/",
          "height": 373
        },
        "id": "e5TAl6x4p6mV",
        "outputId": "5c15dff6-4fa3-4329-e570-ba0b62690482"
      },
      "execution_count": 534,
      "outputs": [
        {
          "output_type": "display_data",
          "data": {
            "text/plain": [
              "<Figure size 1008x288 with 2 Axes>"
            ],
            "image/png": "[encoded data removed]"
          },
          "metadata": {
            "needs_background": "light"
          }
        }
      ]
    },
    {
      "cell_type": "code",
      "source": [
        "na_rat_giv = fact_bookings.ratings_given.isnull().sum() / fact_bookings.shape[0] * 100"
      ],
      "metadata": {
        "id": "6YIwSi1Qrc8J"
      },
      "execution_count": 535,
      "outputs": []
    },
    {
      "cell_type": "markdown",
      "source": [
        "Note: Only missing values are there in *Ratings given* that is **58 %**"
      ],
      "metadata": {
        "id": "Qg9TBDjhtBb5"
      }
    },
    {
      "cell_type": "markdown",
      "source": [
        "### Combine Tables"
      ],
      "metadata": {
        "id": "pXxmDaKWwRTI"
      }
    },
    {
      "cell_type": "code",
      "source": [
        "property_details = fact_aggr_bookings.merge(dim_hotels, how='outer')"
      ],
      "metadata": {
        "id": "JpJGUFi7uuRi"
      },
      "execution_count": 536,
      "outputs": []
    },
    {
      "cell_type": "code",
      "source": [
        "property_details = property_details.merge(dim_rooms, how = 'outer', \n",
        "                                          left_on='room_category', \n",
        "                                          right_on='room_id'\n",
        "                                          ).drop('room_id', axis = 1)"
      ],
      "metadata": {
        "id": "03dumoJTw2Bi"
      },
      "execution_count": 537,
      "outputs": []
    },
    {
      "cell_type": "code",
      "source": [
        "property_details.head()"
      ],
      "metadata": {
        "colab": {
          "base_uri": "https://localhost:8080/",
          "height": 270
        },
        "id": "Mncgs4bPzOuk",
        "outputId": "9d0ea761-6ccd-46f0-b47c-aae8faf7f92b"
      },
      "execution_count": 538,
      "outputs": [
        {
          "output_type": "execute_result",
          "data": {
            "text/plain": [
              "   property_id check_in_date room_category  successful_bookings  capacity  \\\n",
              "0        16559    2022-05-01           RT1                   25        30   \n",
              "1        16559    2022-05-02           RT1                   20        30   \n",
              "2        16559    2022-05-03           RT1                   17        30   \n",
              "3        16559    2022-05-04           RT1                   21        30   \n",
              "4        16559    2022-05-05           RT1                   16        30   \n",
              "\n",
              "   property_name category    city room_class  \n",
              "0  Atliq Exotica   Luxury  Mumbai   Standard  \n",
              "1  Atliq Exotica   Luxury  Mumbai   Standard  \n",
              "2  Atliq Exotica   Luxury  Mumbai   Standard  \n",
              "3  Atliq Exotica   Luxury  Mumbai   Standard  \n",
              "4  Atliq Exotica   Luxury  Mumbai   Standard  "
            ],
            "text/html": [
              "\n",
              "  <div id=\"df-7b1b4fee-5a36-470d-9f7f-8af06af49ec1\">\n",
              "    <div class=\"colab-df-container\">\n",
              "      <div>\n",
              "<style scoped>\n",
              "    .dataframe tbody tr th:only-of-type {\n",
              "        vertical-align: middle;\n",
              "    }\n",
              "\n",
              "    .dataframe tbody tr th {\n",
              "        vertical-align: top;\n",
              "    }\n",
              "\n",
              "    .dataframe thead th {\n",
              "        text-align: right;\n",
              "    }\n",
              "</style>\n",
              "<table border=\"1\" class=\"dataframe\">\n",
              "  <thead>\n",
              "    <tr style=\"text-align: right;\">\n",
              "      <th></th>\n",
              "      <th>property_id</th>\n",
              "      <th>check_in_date</th>\n",
              "      <th>room_category</th>\n",
              "      <th>successful_bookings</th>\n",
              "      <th>capacity</th>\n",
              "      <th>property_name</th>\n",
              "      <th>category</th>\n",
              "      <th>city</th>\n",
              "      <th>room_class</th>\n",
              "    </tr>\n",
              "  </thead>\n",
              "  <tbody>\n",
              "    <tr>\n",
              "      <th>0</th>\n",
              "      <td>16559</td>\n",
              "      <td>2022-05-01</td>\n",
              "      <td>RT1</td>\n",
              "      <td>25</td>\n",
              "      <td>30</td>\n",
              "      <td>Atliq Exotica</td>\n",
              "      <td>Luxury</td>\n",
              "      <td>Mumbai</td>\n",
              "      <td>Standard</td>\n",
              "    </tr>\n",
              "    <tr>\n",
              "      <th>1</th>\n",
              "      <td>16559</td>\n",
              "      <td>2022-05-02</td>\n",
              "      <td>RT1</td>\n",
              "      <td>20</td>\n",
              "      <td>30</td>\n",
              "      <td>Atliq Exotica</td>\n",
              "      <td>Luxury</td>\n",
              "      <td>Mumbai</td>\n",
              "      <td>Standard</td>\n",
              "    </tr>\n",
              "    <tr>\n",
              "      <th>2</th>\n",
              "      <td>16559</td>\n",
              "      <td>2022-05-03</td>\n",
              "      <td>RT1</td>\n",
              "      <td>17</td>\n",
              "      <td>30</td>\n",
              "      <td>Atliq Exotica</td>\n",
              "      <td>Luxury</td>\n",
              "      <td>Mumbai</td>\n",
              "      <td>Standard</td>\n",
              "    </tr>\n",
              "    <tr>\n",
              "      <th>3</th>\n",
              "      <td>16559</td>\n",
              "      <td>2022-05-04</td>\n",
              "      <td>RT1</td>\n",
              "      <td>21</td>\n",
              "      <td>30</td>\n",
              "      <td>Atliq Exotica</td>\n",
              "      <td>Luxury</td>\n",
              "      <td>Mumbai</td>\n",
              "      <td>Standard</td>\n",
              "    </tr>\n",
              "    <tr>\n",
              "      <th>4</th>\n",
              "      <td>16559</td>\n",
              "      <td>2022-05-05</td>\n",
              "      <td>RT1</td>\n",
              "      <td>16</td>\n",
              "      <td>30</td>\n",
              "      <td>Atliq Exotica</td>\n",
              "      <td>Luxury</td>\n",
              "      <td>Mumbai</td>\n",
              "      <td>Standard</td>\n",
              "    </tr>\n",
              "  </tbody>\n",
              "</table>\n",
              "</div>\n",
              "      <button class=\"colab-df-convert\" onclick=\"convertToInteractive('df-7b1b4fee-5a36-470d-9f7f-8af06af49ec1')\"\n",
              "              title=\"Convert this dataframe to an interactive table.\"\n",
              "              style=\"display:none;\">\n",
              "        \n",
              "  <svg xmlns=\"http://www.w3.org/2000/svg\" height=\"24px\"viewBox=\"0 0 24 24\"\n",
              "       width=\"24px\">\n",
              "    <path d=\"M0 0h24v24H0V0z\" fill=\"none\"/>\n",
              "    <path d=\"M18.56 5.44l.94 2.06.94-2.06 2.06-.94-2.06-.94-.94-2.06-.94 2.06-2.06.94zm-11 1L8.5 8.5l.94-2.06 2.06-.94-2.06-.94L8.5 2.5l-.94 2.06-2.06.94zm10 10l.94 2.06.94-2.06 2.06-.94-2.06-.94-.94-2.06-.94 2.06-2.06.94z\"/><path d=\"M17.41 7.96l-1.37-1.37c-.4-.4-.92-.59-1.43-.59-.52 0-1.04.2-1.43.59L10.3 9.45l-7.72 7.72c-.78.78-.78 2.05 0 2.83L4 21.41c.39.39.9.59 1.41.59.51 0 1.02-.2 1.41-.59l7.78-7.78 2.81-2.81c.8-.78.8-2.07 0-2.86zM5.41 20L4 18.59l7.72-7.72 1.47 1.35L5.41 20z\"/>\n",
              "  </svg>\n",
              "      </button>\n",
              "      \n",
              "  <style>\n",
              "    .colab-df-container {\n",
              "      display:flex;\n",
              "      flex-wrap:wrap;\n",
              "      gap: 12px;\n",
              "    }\n",
              "\n",
              "    .colab-df-convert {\n",
              "      background-color: #E8F0FE;\n",
              "      border: none;\n",
              "      border-radius: 50%;\n",
              "      cursor: pointer;\n",
              "      display: none;\n",
              "      fill: #1967D2;\n",
              "      height: 32px;\n",
              "      padding: 0 0 0 0;\n",
              "      width: 32px;\n",
              "    }\n",
              "\n",
              "    .colab-df-convert:hover {\n",
              "      background-color: #E2EBFA;\n",
              "      box-shadow: 0px 1px 2px rgba(60, 64, 67, 0.3), 0px 1px 3px 1px rgba(60, 64, 67, 0.15);\n",
              "      fill: #174EA6;\n",
              "    }\n",
              "\n",
              "    [theme=dark] .colab-df-convert {\n",
              "      background-color: #3B4455;\n",
              "      fill: #D2E3FC;\n",
              "    }\n",
              "\n",
              "    [theme=dark] .colab-df-convert:hover {\n",
              "      background-color: #434B5C;\n",
              "      box-shadow: 0px 1px 3px 1px rgba(0, 0, 0, 0.15);\n",
              "      filter: drop-shadow(0px 1px 2px rgba(0, 0, 0, 0.3));\n",
              "      fill: #FFFFFF;\n",
              "    }\n",
              "  </style>\n",
              "\n",
              "      <script>\n",
              "        const buttonEl =\n",
              "          document.querySelector('#df-7b1b4fee-5a36-470d-9f7f-8af06af49ec1 button.colab-df-convert');\n",
              "        buttonEl.style.display =\n",
              "          google.colab.kernel.accessAllowed ? 'block' : 'none';\n",
              "\n",
              "        async function convertToInteractive(key) {\n",
              "          const element = document.querySelector('#df-7b1b4fee-5a36-470d-9f7f-8af06af49ec1');\n",
              "          const dataTable =\n",
              "            await google.colab.kernel.invokeFunction('convertToInteractive',\n",
              "                                                     [key], {});\n",
              "          if (!dataTable) return;\n",
              "\n",
              "          const docLinkHtml = 'Like what you see? Visit the ' +\n",
              "            '<a target=\"_blank\" href=https://colab.research.google.com/notebooks/data_table.ipynb>data table notebook</a>'\n",
              "            + ' to learn more about interactive tables.';\n",
              "          element.innerHTML = '';\n",
              "          dataTable['output_type'] = 'display_data';\n",
              "          await google.colab.output.renderOutput(dataTable, element);\n",
              "          const docLink = document.createElement('div');\n",
              "          docLink.innerHTML = docLinkHtml;\n",
              "          element.appendChild(docLink);\n",
              "        }\n",
              "      </script>\n",
              "    </div>\n",
              "  </div>\n",
              "  "
            ]
          },
          "metadata": {},
          "execution_count": 538
        }
      ]
    },
    {
      "cell_type": "code",
      "source": [
        "fact_bookings = fact_bookings.merge(dim_date, how = 'outer', \n",
        "                                    left_on = 'check_in_date', \n",
        "                                    right_on = 'date'\n",
        "                                    )"
      ],
      "metadata": {
        "id": "fqzXcdXqzYKx"
      },
      "execution_count": 539,
      "outputs": []
    },
    {
      "cell_type": "code",
      "source": [
        "fact_bookings.drop('date', axis = 1, inplace = True)"
      ],
      "metadata": {
        "id": "5k9x1e2T3guU"
      },
      "execution_count": 540,
      "outputs": []
    },
    {
      "cell_type": "code",
      "source": [
        "fact_bookings.head()"
      ],
      "metadata": {
        "colab": {
          "base_uri": "https://localhost:8080/",
          "height": 374
        },
        "id": "P2IPYeEy5rW1",
        "outputId": "f67f75a3-d674-4a80-d3d6-a27c1f796143"
      },
      "execution_count": 541,
      "outputs": [
        {
          "output_type": "execute_result",
          "data": {
            "text/plain": [
              "         booking_id  property_id booking_date check_in_date checkout_date  \\\n",
              "0  May012216558RT11        16558   2022-04-27    2022-05-01    2022-05-02   \n",
              "1  May012216558RT12        16558   2022-04-30    2022-05-01    2022-05-02   \n",
              "2  May012216558RT13        16558   2022-04-28    2022-05-01    2022-05-04   \n",
              "3  May012216558RT14        16558   2022-04-28    2022-05-01    2022-05-02   \n",
              "4  May012216558RT15        16558   2022-04-27    2022-05-01    2022-05-02   \n",
              "\n",
              "   no_guests room_category booking_platform  ratings_given booking_status  \\\n",
              "0          3           RT1    direct online            1.0    Checked Out   \n",
              "1          2           RT1           others            NaN      Cancelled   \n",
              "2          2           RT1          logtrip            5.0    Checked Out   \n",
              "3          2           RT1           others            NaN      Cancelled   \n",
              "4          4           RT1    direct online            5.0    Checked Out   \n",
              "\n",
              "   revenue_generated  revenue_realized  mmm yy  week no day_type  \n",
              "0              10010             10010  May 22       19  weekend  \n",
              "1               9100              3640  May 22       19  weekend  \n",
              "2               9100              9100  May 22       19  weekend  \n",
              "3               9100              3640  May 22       19  weekend  \n",
              "4              10920             10920  May 22       19  weekend  "
            ],
            "text/html": [
              "\n",
              "  <div id=\"df-73d4a3c2-68a9-4f50-88c5-5285ec7ececf\">\n",
              "    <div class=\"colab-df-container\">\n",
              "      <div>\n",
              "<style scoped>\n",
              "    .dataframe tbody tr th:only-of-type {\n",
              "        vertical-align: middle;\n",
              "    }\n",
              "\n",
              "    .dataframe tbody tr th {\n",
              "        vertical-align: top;\n",
              "    }\n",
              "\n",
              "    .dataframe thead th {\n",
              "        text-align: right;\n",
              "    }\n",
              "</style>\n",
              "<table border=\"1\" class=\"dataframe\">\n",
              "  <thead>\n",
              "    <tr style=\"text-align: right;\">\n",
              "      <th></th>\n",
              "      <th>booking_id</th>\n",
              "      <th>property_id</th>\n",
              "      <th>booking_date</th>\n",
              "      <th>check_in_date</th>\n",
              "      <th>checkout_date</th>\n",
              "      <th>no_guests</th>\n",
              "      <th>room_category</th>\n",
              "      <th>booking_platform</th>\n",
              "      <th>ratings_given</th>\n",
              "      <th>booking_status</th>\n",
              "      <th>revenue_generated</th>\n",
              "      <th>revenue_realized</th>\n",
              "      <th>mmm yy</th>\n",
              "      <th>week no</th>\n",
              "      <th>day_type</th>\n",
              "    </tr>\n",
              "  </thead>\n",
              "  <tbody>\n",
              "    <tr>\n",
              "      <th>0</th>\n",
              "      <td>May012216558RT11</td>\n",
              "      <td>16558</td>\n",
              "      <td>2022-04-27</td>\n",
              "      <td>2022-05-01</td>\n",
              "      <td>2022-05-02</td>\n",
              "      <td>3</td>\n",
              "      <td>RT1</td>\n",
              "      <td>direct online</td>\n",
              "      <td>1.0</td>\n",
              "      <td>Checked Out</td>\n",
              "      <td>10010</td>\n",
              "      <td>10010</td>\n",
              "      <td>May 22</td>\n",
              "      <td>19</td>\n",
              "      <td>weekend</td>\n",
              "    </tr>\n",
              "    <tr>\n",
              "      <th>1</th>\n",
              "      <td>May012216558RT12</td>\n",
              "      <td>16558</td>\n",
              "      <td>2022-04-30</td>\n",
              "      <td>2022-05-01</td>\n",
              "      <td>2022-05-02</td>\n",
              "      <td>2</td>\n",
              "      <td>RT1</td>\n",
              "      <td>others</td>\n",
              "      <td>NaN</td>\n",
              "      <td>Cancelled</td>\n",
              "      <td>9100</td>\n",
              "      <td>3640</td>\n",
              "      <td>May 22</td>\n",
              "      <td>19</td>\n",
              "      <td>weekend</td>\n",
              "    </tr>\n",
              "    <tr>\n",
              "      <th>2</th>\n",
              "      <td>May012216558RT13</td>\n",
              "      <td>16558</td>\n",
              "      <td>2022-04-28</td>\n",
              "      <td>2022-05-01</td>\n",
              "      <td>2022-05-04</td>\n",
              "      <td>2</td>\n",
              "      <td>RT1</td>\n",
              "      <td>logtrip</td>\n",
              "      <td>5.0</td>\n",
              "      <td>Checked Out</td>\n",
              "      <td>9100</td>\n",
              "      <td>9100</td>\n",
              "      <td>May 22</td>\n",
              "      <td>19</td>\n",
              "      <td>weekend</td>\n",
              "    </tr>\n",
              "    <tr>\n",
              "      <th>3</th>\n",
              "      <td>May012216558RT14</td>\n",
              "      <td>16558</td>\n",
              "      <td>2022-04-28</td>\n",
              "      <td>2022-05-01</td>\n",
              "      <td>2022-05-02</td>\n",
              "      <td>2</td>\n",
              "      <td>RT1</td>\n",
              "      <td>others</td>\n",
              "      <td>NaN</td>\n",
              "      <td>Cancelled</td>\n",
              "      <td>9100</td>\n",
              "      <td>3640</td>\n",
              "      <td>May 22</td>\n",
              "      <td>19</td>\n",
              "      <td>weekend</td>\n",
              "    </tr>\n",
              "    <tr>\n",
              "      <th>4</th>\n",
              "      <td>May012216558RT15</td>\n",
              "      <td>16558</td>\n",
              "      <td>2022-04-27</td>\n",
              "      <td>2022-05-01</td>\n",
              "      <td>2022-05-02</td>\n",
              "      <td>4</td>\n",
              "      <td>RT1</td>\n",
              "      <td>direct online</td>\n",
              "      <td>5.0</td>\n",
              "      <td>Checked Out</td>\n",
              "      <td>10920</td>\n",
              "      <td>10920</td>\n",
              "      <td>May 22</td>\n",
              "      <td>19</td>\n",
              "      <td>weekend</td>\n",
              "    </tr>\n",
              "  </tbody>\n",
              "</table>\n",
              "</div>\n",
              "      <button class=\"colab-df-convert\" onclick=\"convertToInteractive('df-73d4a3c2-68a9-4f50-88c5-5285ec7ececf')\"\n",
              "              title=\"Convert this dataframe to an interactive table.\"\n",
              "              style=\"display:none;\">\n",
              "        \n",
              "  <svg xmlns=\"http://www.w3.org/2000/svg\" height=\"24px\"viewBox=\"0 0 24 24\"\n",
              "       width=\"24px\">\n",
              "    <path d=\"M0 0h24v24H0V0z\" fill=\"none\"/>\n",
              "    <path d=\"M18.56 5.44l.94 2.06.94-2.06 2.06-.94-2.06-.94-.94-2.06-.94 2.06-2.06.94zm-11 1L8.5 8.5l.94-2.06 2.06-.94-2.06-.94L8.5 2.5l-.94 2.06-2.06.94zm10 10l.94 2.06.94-2.06 2.06-.94-2.06-.94-.94-2.06-.94 2.06-2.06.94z\"/><path d=\"M17.41 7.96l-1.37-1.37c-.4-.4-.92-.59-1.43-.59-.52 0-1.04.2-1.43.59L10.3 9.45l-7.72 7.72c-.78.78-.78 2.05 0 2.83L4 21.41c.39.39.9.59 1.41.59.51 0 1.02-.2 1.41-.59l7.78-7.78 2.81-2.81c.8-.78.8-2.07 0-2.86zM5.41 20L4 18.59l7.72-7.72 1.47 1.35L5.41 20z\"/>\n",
              "  </svg>\n",
              "      </button>\n",
              "      \n",
              "  <style>\n",
              "    .colab-df-container {\n",
              "      display:flex;\n",
              "      flex-wrap:wrap;\n",
              "      gap: 12px;\n",
              "    }\n",
              "\n",
              "    .colab-df-convert {\n",
              "      background-color: #E8F0FE;\n",
              "      border: none;\n",
              "      border-radius: 50%;\n",
              "      cursor: pointer;\n",
              "      display: none;\n",
              "      fill: #1967D2;\n",
              "      height: 32px;\n",
              "      padding: 0 0 0 0;\n",
              "      width: 32px;\n",
              "    }\n",
              "\n",
              "    .colab-df-convert:hover {\n",
              "      background-color: #E2EBFA;\n",
              "      box-shadow: 0px 1px 2px rgba(60, 64, 67, 0.3), 0px 1px 3px 1px rgba(60, 64, 67, 0.15);\n",
              "      fill: #174EA6;\n",
              "    }\n",
              "\n",
              "    [theme=dark] .colab-df-convert {\n",
              "      background-color: #3B4455;\n",
              "      fill: #D2E3FC;\n",
              "    }\n",
              "\n",
              "    [theme=dark] .colab-df-convert:hover {\n",
              "      background-color: #434B5C;\n",
              "      box-shadow: 0px 1px 3px 1px rgba(0, 0, 0, 0.15);\n",
              "      filter: drop-shadow(0px 1px 2px rgba(0, 0, 0, 0.3));\n",
              "      fill: #FFFFFF;\n",
              "    }\n",
              "  </style>\n",
              "\n",
              "      <script>\n",
              "        const buttonEl =\n",
              "          document.querySelector('#df-73d4a3c2-68a9-4f50-88c5-5285ec7ececf button.colab-df-convert');\n",
              "        buttonEl.style.display =\n",
              "          google.colab.kernel.accessAllowed ? 'block' : 'none';\n",
              "\n",
              "        async function convertToInteractive(key) {\n",
              "          const element = document.querySelector('#df-73d4a3c2-68a9-4f50-88c5-5285ec7ececf');\n",
              "          const dataTable =\n",
              "            await google.colab.kernel.invokeFunction('convertToInteractive',\n",
              "                                                     [key], {});\n",
              "          if (!dataTable) return;\n",
              "\n",
              "          const docLinkHtml = 'Like what you see? Visit the ' +\n",
              "            '<a target=\"_blank\" href=https://colab.research.google.com/notebooks/data_table.ipynb>data table notebook</a>'\n",
              "            + ' to learn more about interactive tables.';\n",
              "          element.innerHTML = '';\n",
              "          dataTable['output_type'] = 'display_data';\n",
              "          await google.colab.output.renderOutput(dataTable, element);\n",
              "          const docLink = document.createElement('div');\n",
              "          docLink.innerHTML = docLinkHtml;\n",
              "          element.appendChild(docLink);\n",
              "        }\n",
              "      </script>\n",
              "    </div>\n",
              "  </div>\n",
              "  "
            ]
          },
          "metadata": {},
          "execution_count": 541
        }
      ]
    },
    {
      "cell_type": "code",
      "source": [
        "df = fact_bookings.merge(property_details, how = 'outer')\n",
        "df.head()"
      ],
      "metadata": {
        "colab": {
          "base_uri": "https://localhost:8080/",
          "height": 404
        },
        "id": "gJHFbTcA1Vjw",
        "outputId": "9b2c12a9-105a-4abe-d99e-0befb3acdc44"
      },
      "execution_count": 542,
      "outputs": [
        {
          "output_type": "execute_result",
          "data": {
            "text/plain": [
              "         booking_id  property_id booking_date check_in_date checkout_date  \\\n",
              "0  May012216558RT11        16558   2022-04-27    2022-05-01    2022-05-02   \n",
              "1  May012216558RT12        16558   2022-04-30    2022-05-01    2022-05-02   \n",
              "2  May012216558RT13        16558   2022-04-28    2022-05-01    2022-05-04   \n",
              "3  May012216558RT14        16558   2022-04-28    2022-05-01    2022-05-02   \n",
              "4  May012216558RT15        16558   2022-04-27    2022-05-01    2022-05-02   \n",
              "\n",
              "   no_guests room_category booking_platform  ratings_given booking_status  \\\n",
              "0          3           RT1    direct online            1.0    Checked Out   \n",
              "1          2           RT1           others            NaN      Cancelled   \n",
              "2          2           RT1          logtrip            5.0    Checked Out   \n",
              "3          2           RT1           others            NaN      Cancelled   \n",
              "4          4           RT1    direct online            5.0    Checked Out   \n",
              "\n",
              "   ...  revenue_realized  mmm yy week no  day_type successful_bookings  \\\n",
              "0  ...             10010  May 22      19   weekend                  18   \n",
              "1  ...              3640  May 22      19   weekend                  18   \n",
              "2  ...              9100  May 22      19   weekend                  18   \n",
              "3  ...              3640  May 22      19   weekend                  18   \n",
              "4  ...             10920  May 22      19   weekend                  18   \n",
              "\n",
              "   capacity  property_name category   city room_class  \n",
              "0        19   Atliq Grands   Luxury  Delhi   Standard  \n",
              "1        19   Atliq Grands   Luxury  Delhi   Standard  \n",
              "2        19   Atliq Grands   Luxury  Delhi   Standard  \n",
              "3        19   Atliq Grands   Luxury  Delhi   Standard  \n",
              "4        19   Atliq Grands   Luxury  Delhi   Standard  \n",
              "\n",
              "[5 rows x 21 columns]"
            ],
            "text/html": [
              "\n",
              "  <div id=\"df-e8a0d8ea-0162-4e2f-86f0-1abcace7486e\">\n",
              "    <div class=\"colab-df-container\">\n",
              "      <div>\n",
              "<style scoped>\n",
              "    .dataframe tbody tr th:only-of-type {\n",
              "        vertical-align: middle;\n",
              "    }\n",
              "\n",
              "    .dataframe tbody tr th {\n",
              "        vertical-align: top;\n",
              "    }\n",
              "\n",
              "    .dataframe thead th {\n",
              "        text-align: right;\n",
              "    }\n",
              "</style>\n",
              "<table border=\"1\" class=\"dataframe\">\n",
              "  <thead>\n",
              "    <tr style=\"text-align: right;\">\n",
              "      <th></th>\n",
              "      <th>booking_id</th>\n",
              "      <th>property_id</th>\n",
              "      <th>booking_date</th>\n",
              "      <th>check_in_date</th>\n",
              "      <th>checkout_date</th>\n",
              "      <th>no_guests</th>\n",
              "      <th>room_category</th>\n",
              "      <th>booking_platform</th>\n",
              "      <th>ratings_given</th>\n",
              "      <th>booking_status</th>\n",
              "      <th>...</th>\n",
              "      <th>revenue_realized</th>\n",
              "      <th>mmm yy</th>\n",
              "      <th>week no</th>\n",
              "      <th>day_type</th>\n",
              "      <th>successful_bookings</th>\n",
              "      <th>capacity</th>\n",
              "      <th>property_name</th>\n",
              "      <th>category</th>\n",
              "      <th>city</th>\n",
              "      <th>room_class</th>\n",
              "    </tr>\n",
              "  </thead>\n",
              "  <tbody>\n",
              "    <tr>\n",
              "      <th>0</th>\n",
              "      <td>May012216558RT11</td>\n",
              "      <td>16558</td>\n",
              "      <td>2022-04-27</td>\n",
              "      <td>2022-05-01</td>\n",
              "      <td>2022-05-02</td>\n",
              "      <td>3</td>\n",
              "      <td>RT1</td>\n",
              "      <td>direct online</td>\n",
              "      <td>1.0</td>\n",
              "      <td>Checked Out</td>\n",
              "      <td>...</td>\n",
              "      <td>10010</td>\n",
              "      <td>May 22</td>\n",
              "      <td>19</td>\n",
              "      <td>weekend</td>\n",
              "      <td>18</td>\n",
              "      <td>19</td>\n",
              "      <td>Atliq Grands</td>\n",
              "      <td>Luxury</td>\n",
              "      <td>Delhi</td>\n",
              "      <td>Standard</td>\n",
              "    </tr>\n",
              "    <tr>\n",
              "      <th>1</th>\n",
              "      <td>May012216558RT12</td>\n",
              "      <td>16558</td>\n",
              "      <td>2022-04-30</td>\n",
              "      <td>2022-05-01</td>\n",
              "      <td>2022-05-02</td>\n",
              "      <td>2</td>\n",
              "      <td>RT1</td>\n",
              "      <td>others</td>\n",
              "      <td>NaN</td>\n",
              "      <td>Cancelled</td>\n",
              "      <td>...</td>\n",
              "      <td>3640</td>\n",
              "      <td>May 22</td>\n",
              "      <td>19</td>\n",
              "      <td>weekend</td>\n",
              "      <td>18</td>\n",
              "      <td>19</td>\n",
              "      <td>Atliq Grands</td>\n",
              "      <td>Luxury</td>\n",
              "      <td>Delhi</td>\n",
              "      <td>Standard</td>\n",
              "    </tr>\n",
              "    <tr>\n",
              "      <th>2</th>\n",
              "      <td>May012216558RT13</td>\n",
              "      <td>16558</td>\n",
              "      <td>2022-04-28</td>\n",
              "      <td>2022-05-01</td>\n",
              "      <td>2022-05-04</td>\n",
              "      <td>2</td>\n",
              "      <td>RT1</td>\n",
              "      <td>logtrip</td>\n",
              "      <td>5.0</td>\n",
              "      <td>Checked Out</td>\n",
              "      <td>...</td>\n",
              "      <td>9100</td>\n",
              "      <td>May 22</td>\n",
              "      <td>19</td>\n",
              "      <td>weekend</td>\n",
              "      <td>18</td>\n",
              "      <td>19</td>\n",
              "      <td>Atliq Grands</td>\n",
              "      <td>Luxury</td>\n",
              "      <td>Delhi</td>\n",
              "      <td>Standard</td>\n",
              "    </tr>\n",
              "    <tr>\n",
              "      <th>3</th>\n",
              "      <td>May012216558RT14</td>\n",
              "      <td>16558</td>\n",
              "      <td>2022-04-28</td>\n",
              "      <td>2022-05-01</td>\n",
              "      <td>2022-05-02</td>\n",
              "      <td>2</td>\n",
              "      <td>RT1</td>\n",
              "      <td>others</td>\n",
              "      <td>NaN</td>\n",
              "      <td>Cancelled</td>\n",
              "      <td>...</td>\n",
              "      <td>3640</td>\n",
              "      <td>May 22</td>\n",
              "      <td>19</td>\n",
              "      <td>weekend</td>\n",
              "      <td>18</td>\n",
              "      <td>19</td>\n",
              "      <td>Atliq Grands</td>\n",
              "      <td>Luxury</td>\n",
              "      <td>Delhi</td>\n",
              "      <td>Standard</td>\n",
              "    </tr>\n",
              "    <tr>\n",
              "      <th>4</th>\n",
              "      <td>May012216558RT15</td>\n",
              "      <td>16558</td>\n",
              "      <td>2022-04-27</td>\n",
              "      <td>2022-05-01</td>\n",
              "      <td>2022-05-02</td>\n",
              "      <td>4</td>\n",
              "      <td>RT1</td>\n",
              "      <td>direct online</td>\n",
              "      <td>5.0</td>\n",
              "      <td>Checked Out</td>\n",
              "      <td>...</td>\n",
              "      <td>10920</td>\n",
              "      <td>May 22</td>\n",
              "      <td>19</td>\n",
              "      <td>weekend</td>\n",
              "      <td>18</td>\n",
              "      <td>19</td>\n",
              "      <td>Atliq Grands</td>\n",
              "      <td>Luxury</td>\n",
              "      <td>Delhi</td>\n",
              "      <td>Standard</td>\n",
              "    </tr>\n",
              "  </tbody>\n",
              "</table>\n",
              "<p>5 rows × 21 columns</p>\n",
              "</div>\n",
              "      <button class=\"colab-df-convert\" onclick=\"convertToInteractive('df-e8a0d8ea-0162-4e2f-86f0-1abcace7486e')\"\n",
              "              title=\"Convert this dataframe to an interactive table.\"\n",
              "              style=\"display:none;\">\n",
              "        \n",
              "  <svg xmlns=\"http://www.w3.org/2000/svg\" height=\"24px\"viewBox=\"0 0 24 24\"\n",
              "       width=\"24px\">\n",
              "    <path d=\"M0 0h24v24H0V0z\" fill=\"none\"/>\n",
              "    <path d=\"M18.56 5.44l.94 2.06.94-2.06 2.06-.94-2.06-.94-.94-2.06-.94 2.06-2.06.94zm-11 1L8.5 8.5l.94-2.06 2.06-.94-2.06-.94L8.5 2.5l-.94 2.06-2.06.94zm10 10l.94 2.06.94-2.06 2.06-.94-2.06-.94-.94-2.06-.94 2.06-2.06.94z\"/><path d=\"M17.41 7.96l-1.37-1.37c-.4-.4-.92-.59-1.43-.59-.52 0-1.04.2-1.43.59L10.3 9.45l-7.72 7.72c-.78.78-.78 2.05 0 2.83L4 21.41c.39.39.9.59 1.41.59.51 0 1.02-.2 1.41-.59l7.78-7.78 2.81-2.81c.8-.78.8-2.07 0-2.86zM5.41 20L4 18.59l7.72-7.72 1.47 1.35L5.41 20z\"/>\n",
              "  </svg>\n",
              "      </button>\n",
              "      \n",
              "  <style>\n",
              "    .colab-df-container {\n",
              "      display:flex;\n",
              "      flex-wrap:wrap;\n",
              "      gap: 12px;\n",
              "    }\n",
              "\n",
              "    .colab-df-convert {\n",
              "      background-color: #E8F0FE;\n",
              "      border: none;\n",
              "      border-radius: 50%;\n",
              "      cursor: pointer;\n",
              "      display: none;\n",
              "      fill: #1967D2;\n",
              "      height: 32px;\n",
              "      padding: 0 0 0 0;\n",
              "      width: 32px;\n",
              "    }\n",
              "\n",
              "    .colab-df-convert:hover {\n",
              "      background-color: #E2EBFA;\n",
              "      box-shadow: 0px 1px 2px rgba(60, 64, 67, 0.3), 0px 1px 3px 1px rgba(60, 64, 67, 0.15);\n",
              "      fill: #174EA6;\n",
              "    }\n",
              "\n",
              "    [theme=dark] .colab-df-convert {\n",
              "      background-color: #3B4455;\n",
              "      fill: #D2E3FC;\n",
              "    }\n",
              "\n",
              "    [theme=dark] .colab-df-convert:hover {\n",
              "      background-color: #434B5C;\n",
              "      box-shadow: 0px 1px 3px 1px rgba(0, 0, 0, 0.15);\n",
              "      filter: drop-shadow(0px 1px 2px rgba(0, 0, 0, 0.3));\n",
              "      fill: #FFFFFF;\n",
              "    }\n",
              "  </style>\n",
              "\n",
              "      <script>\n",
              "        const buttonEl =\n",
              "          document.querySelector('#df-e8a0d8ea-0162-4e2f-86f0-1abcace7486e button.colab-df-convert');\n",
              "        buttonEl.style.display =\n",
              "          google.colab.kernel.accessAllowed ? 'block' : 'none';\n",
              "\n",
              "        async function convertToInteractive(key) {\n",
              "          const element = document.querySelector('#df-e8a0d8ea-0162-4e2f-86f0-1abcace7486e');\n",
              "          const dataTable =\n",
              "            await google.colab.kernel.invokeFunction('convertToInteractive',\n",
              "                                                     [key], {});\n",
              "          if (!dataTable) return;\n",
              "\n",
              "          const docLinkHtml = 'Like what you see? Visit the ' +\n",
              "            '<a target=\"_blank\" href=https://colab.research.google.com/notebooks/data_table.ipynb>data table notebook</a>'\n",
              "            + ' to learn more about interactive tables.';\n",
              "          element.innerHTML = '';\n",
              "          dataTable['output_type'] = 'display_data';\n",
              "          await google.colab.output.renderOutput(dataTable, element);\n",
              "          const docLink = document.createElement('div');\n",
              "          docLink.innerHTML = docLinkHtml;\n",
              "          element.appendChild(docLink);\n",
              "        }\n",
              "      </script>\n",
              "    </div>\n",
              "  </div>\n",
              "  "
            ]
          },
          "metadata": {},
          "execution_count": 542
        }
      ]
    },
    {
      "cell_type": "code",
      "source": [
        "df.info()"
      ],
      "metadata": {
        "id": "4ha1Nd5_7sGz",
        "outputId": "aa8aab50-7004-46b2-f561-fc49a8360d1b",
        "colab": {
          "base_uri": "https://localhost:8080/"
        }
      },
      "execution_count": 543,
      "outputs": [
        {
          "output_type": "stream",
          "name": "stdout",
          "text": [
            "<class 'pandas.core.frame.DataFrame'>\n",
            "Int64Index: 134590 entries, 0 to 134589\n",
            "Data columns (total 21 columns):\n",
            " #   Column               Non-Null Count   Dtype         \n",
            "---  ------               --------------   -----         \n",
            " 0   booking_id           134590 non-null  object        \n",
            " 1   property_id          134590 non-null  int64         \n",
            " 2   booking_date         134590 non-null  datetime64[ns]\n",
            " 3   check_in_date        134590 non-null  datetime64[ns]\n",
            " 4   checkout_date        134590 non-null  datetime64[ns]\n",
            " 5   no_guests            134590 non-null  int64         \n",
            " 6   room_category        134590 non-null  object        \n",
            " 7   booking_platform     134590 non-null  object        \n",
            " 8   ratings_given        56683 non-null   float64       \n",
            " 9   booking_status       134590 non-null  object        \n",
            " 10  revenue_generated    134590 non-null  int64         \n",
            " 11  revenue_realized     134590 non-null  int64         \n",
            " 12  mmm yy               134590 non-null  object        \n",
            " 13  week no              134590 non-null  int64         \n",
            " 14  day_type             134590 non-null  object        \n",
            " 15  successful_bookings  134590 non-null  int64         \n",
            " 16  capacity             134590 non-null  int64         \n",
            " 17  property_name        134590 non-null  object        \n",
            " 18  category             134590 non-null  object        \n",
            " 19  city                 134590 non-null  object        \n",
            " 20  room_class           134590 non-null  object        \n",
            "dtypes: datetime64[ns](3), float64(1), int64(7), object(10)\n",
            "memory usage: 22.6+ MB\n"
          ]
        }
      ]
    },
    {
      "cell_type": "markdown",
      "source": [
        "## Data Analysis"
      ],
      "metadata": {
        "id": "OAUxg0_bePkT"
      }
    },
    {
      "cell_type": "markdown",
      "source": [
        "### Bookings"
      ],
      "metadata": {
        "id": "YBSBrOUN05qq"
      }
    },
    {
      "cell_type": "markdown",
      "source": [
        "#### Booking by Platform"
      ],
      "metadata": {
        "id": "6HDKvRfU09_X"
      }
    },
    {
      "cell_type": "code",
      "source": [
        "bookings_by_platform = df.groupby('booking_platform')['no_guests'].sum().reset_index().sort_values(by = 'no_guests', ascending = False)\n",
        "bookings_by_platform.no_guests = bookings_by_platform.no_guests / bookings_by_platform.no_guests.sum() * 100\n",
        "bookings_by_platform"
      ],
      "metadata": {
        "colab": {
          "base_uri": "https://localhost:8080/",
          "height": 269
        },
        "id": "D6vTFfgj1SWq",
        "outputId": "855467e6-7371-4517-a24b-c2974f8c4076"
      },
      "execution_count": 544,
      "outputs": [
        {
          "output_type": "execute_result",
          "data": {
            "text/plain": [
              "  booking_platform  no_guests\n",
              "5           others  40.862863\n",
              "4     makeyourtrip  19.982928\n",
              "3          logtrip  10.900873\n",
              "1    direct online   9.961187\n",
              "6         tripster   7.253752\n",
              "2          journey   6.029533\n",
              "0   direct offline   5.008864"
            ],
            "text/html": [
              "\n",
              "  <div id=\"df-b8245b35-2cfc-44c4-9645-78b9d66ce8cf\">\n",
              "    <div class=\"colab-df-container\">\n",
              "      <div>\n",
              "<style scoped>\n",
              "    .dataframe tbody tr th:only-of-type {\n",
              "        vertical-align: middle;\n",
              "    }\n",
              "\n",
              "    .dataframe tbody tr th {\n",
              "        vertical-align: top;\n",
              "    }\n",
              "\n",
              "    .dataframe thead th {\n",
              "        text-align: right;\n",
              "    }\n",
              "</style>\n",
              "<table border=\"1\" class=\"dataframe\">\n",
              "  <thead>\n",
              "    <tr style=\"text-align: right;\">\n",
              "      <th></th>\n",
              "      <th>booking_platform</th>\n",
              "      <th>no_guests</th>\n",
              "    </tr>\n",
              "  </thead>\n",
              "  <tbody>\n",
              "    <tr>\n",
              "      <th>5</th>\n",
              "      <td>others</td>\n",
              "      <td>40.862863</td>\n",
              "    </tr>\n",
              "    <tr>\n",
              "      <th>4</th>\n",
              "      <td>makeyourtrip</td>\n",
              "      <td>19.982928</td>\n",
              "    </tr>\n",
              "    <tr>\n",
              "      <th>3</th>\n",
              "      <td>logtrip</td>\n",
              "      <td>10.900873</td>\n",
              "    </tr>\n",
              "    <tr>\n",
              "      <th>1</th>\n",
              "      <td>direct online</td>\n",
              "      <td>9.961187</td>\n",
              "    </tr>\n",
              "    <tr>\n",
              "      <th>6</th>\n",
              "      <td>tripster</td>\n",
              "      <td>7.253752</td>\n",
              "    </tr>\n",
              "    <tr>\n",
              "      <th>2</th>\n",
              "      <td>journey</td>\n",
              "      <td>6.029533</td>\n",
              "    </tr>\n",
              "    <tr>\n",
              "      <th>0</th>\n",
              "      <td>direct offline</td>\n",
              "      <td>5.008864</td>\n",
              "    </tr>\n",
              "  </tbody>\n",
              "</table>\n",
              "</div>\n",
              "      <button class=\"colab-df-convert\" onclick=\"convertToInteractive('df-b8245b35-2cfc-44c4-9645-78b9d66ce8cf')\"\n",
              "              title=\"Convert this dataframe to an interactive table.\"\n",
              "              style=\"display:none;\">\n",
              "        \n",
              "  <svg xmlns=\"http://www.w3.org/2000/svg\" height=\"24px\"viewBox=\"0 0 24 24\"\n",
              "       width=\"24px\">\n",
              "    <path d=\"M0 0h24v24H0V0z\" fill=\"none\"/>\n",
              "    <path d=\"M18.56 5.44l.94 2.06.94-2.06 2.06-.94-2.06-.94-.94-2.06-.94 2.06-2.06.94zm-11 1L8.5 8.5l.94-2.06 2.06-.94-2.06-.94L8.5 2.5l-.94 2.06-2.06.94zm10 10l.94 2.06.94-2.06 2.06-.94-2.06-.94-.94-2.06-.94 2.06-2.06.94z\"/><path d=\"M17.41 7.96l-1.37-1.37c-.4-.4-.92-.59-1.43-.59-.52 0-1.04.2-1.43.59L10.3 9.45l-7.72 7.72c-.78.78-.78 2.05 0 2.83L4 21.41c.39.39.9.59 1.41.59.51 0 1.02-.2 1.41-.59l7.78-7.78 2.81-2.81c.8-.78.8-2.07 0-2.86zM5.41 20L4 18.59l7.72-7.72 1.47 1.35L5.41 20z\"/>\n",
              "  </svg>\n",
              "      </button>\n",
              "      \n",
              "  <style>\n",
              "    .colab-df-container {\n",
              "      display:flex;\n",
              "      flex-wrap:wrap;\n",
              "      gap: 12px;\n",
              "    }\n",
              "\n",
              "    .colab-df-convert {\n",
              "      background-color: #E8F0FE;\n",
              "      border: none;\n",
              "      border-radius: 50%;\n",
              "      cursor: pointer;\n",
              "      display: none;\n",
              "      fill: #1967D2;\n",
              "      height: 32px;\n",
              "      padding: 0 0 0 0;\n",
              "      width: 32px;\n",
              "    }\n",
              "\n",
              "    .colab-df-convert:hover {\n",
              "      background-color: #E2EBFA;\n",
              "      box-shadow: 0px 1px 2px rgba(60, 64, 67, 0.3), 0px 1px 3px 1px rgba(60, 64, 67, 0.15);\n",
              "      fill: #174EA6;\n",
              "    }\n",
              "\n",
              "    [theme=dark] .colab-df-convert {\n",
              "      background-color: #3B4455;\n",
              "      fill: #D2E3FC;\n",
              "    }\n",
              "\n",
              "    [theme=dark] .colab-df-convert:hover {\n",
              "      background-color: #434B5C;\n",
              "      box-shadow: 0px 1px 3px 1px rgba(0, 0, 0, 0.15);\n",
              "      filter: drop-shadow(0px 1px 2px rgba(0, 0, 0, 0.3));\n",
              "      fill: #FFFFFF;\n",
              "    }\n",
              "  </style>\n",
              "\n",
              "      <script>\n",
              "        const buttonEl =\n",
              "          document.querySelector('#df-b8245b35-2cfc-44c4-9645-78b9d66ce8cf button.colab-df-convert');\n",
              "        buttonEl.style.display =\n",
              "          google.colab.kernel.accessAllowed ? 'block' : 'none';\n",
              "\n",
              "        async function convertToInteractive(key) {\n",
              "          const element = document.querySelector('#df-b8245b35-2cfc-44c4-9645-78b9d66ce8cf');\n",
              "          const dataTable =\n",
              "            await google.colab.kernel.invokeFunction('convertToInteractive',\n",
              "                                                     [key], {});\n",
              "          if (!dataTable) return;\n",
              "\n",
              "          const docLinkHtml = 'Like what you see? Visit the ' +\n",
              "            '<a target=\"_blank\" href=https://colab.research.google.com/notebooks/data_table.ipynb>data table notebook</a>'\n",
              "            + ' to learn more about interactive tables.';\n",
              "          element.innerHTML = '';\n",
              "          dataTable['output_type'] = 'display_data';\n",
              "          await google.colab.output.renderOutput(dataTable, element);\n",
              "          const docLink = document.createElement('div');\n",
              "          docLink.innerHTML = docLinkHtml;\n",
              "          element.appendChild(docLink);\n",
              "        }\n",
              "      </script>\n",
              "    </div>\n",
              "  </div>\n",
              "  "
            ]
          },
          "metadata": {},
          "execution_count": 544
        }
      ]
    },
    {
      "cell_type": "code",
      "source": [
        "# Plotting\n",
        "plt.figure(figsize=(11,4))\n",
        "plot = sns.barplot(y='booking_platform', x='no_guests', data = bookings_by_platform)\n",
        "plt.xlabel('No guests')\n",
        "plt.ylabel('Booking Platform')\n",
        "plt.title('Booking from diff Platforms')\n",
        "plot.set_xticklabels(['0', '5%', '10%', '15%',\n",
        "                   '20%', '25%', '30%', '35%', '40%'])\n",
        "plt.show()"
      ],
      "metadata": {
        "colab": {
          "base_uri": "https://localhost:8080/",
          "height": 295
        },
        "id": "XVhG28_s2wy7",
        "outputId": "f36b04c6-9438-4305-9ba6-0086b3b7e32c"
      },
      "execution_count": 545,
      "outputs": [
        {
          "output_type": "display_data",
          "data": {
            "text/plain": [
              "<Figure size 792x288 with 1 Axes>"
            ],
            "image/png": "[encoded data removed]"
          },
          "metadata": {
            "needs_background": "light"
          }
        }
      ]
    },
    {
      "cell_type": "markdown",
      "source": [
        "#### Occupancy by Property Name"
      ],
      "metadata": {
        "id": "p0aAp-Lx6fhu"
      }
    },
    {
      "cell_type": "code",
      "source": [
        "df['occupancy_perc'] = df.successful_bookings / df.capacity * 100\n",
        "df.occupancy_perc"
      ],
      "metadata": {
        "colab": {
          "base_uri": "https://localhost:8080/"
        },
        "outputId": "739448a7-0241-4902-ac55-8252f6cabce3",
        "id": "QxhOSgmh6fh5"
      },
      "execution_count": 546,
      "outputs": [
        {
          "output_type": "execute_result",
          "data": {
            "text/plain": [
              "0         94.736842\n",
              "1         94.736842\n",
              "2         94.736842\n",
              "3         94.736842\n",
              "4         94.736842\n",
              "            ...    \n",
              "134585    58.823529\n",
              "134586    58.823529\n",
              "134587    58.823529\n",
              "134588    58.823529\n",
              "134589    58.823529\n",
              "Name: occupancy_perc, Length: 134590, dtype: float64"
            ]
          },
          "metadata": {},
          "execution_count": 546
        }
      ]
    },
    {
      "cell_type": "code",
      "source": [
        "occ_by_prop_name = df.groupby('property_name')['occupancy_perc'].mean().reset_index().sort_values(by = 'occupancy_perc', ascending = False)\n",
        "occ_by_prop_name"
      ],
      "metadata": {
        "colab": {
          "base_uri": "https://localhost:8080/",
          "height": 269
        },
        "id": "VLgVbKzO8CB1",
        "outputId": "42a4c2fe-ab29-4b22-d1eb-53459892710a"
      },
      "execution_count": 586,
      "outputs": [
        {
          "output_type": "execute_result",
          "data": {
            "text/plain": [
              "   property_name  occupancy_perc\n",
              "1      Atliq Blu       65.479591\n",
              "5   Atliq Palace       63.390959\n",
              "2     Atliq City       62.962652\n",
              "0      Atliq Bay       62.461621\n",
              "3  Atliq Exotica       61.496971\n",
              "4   Atliq Grands       56.032315\n",
              "6  Atliq Seasons       46.749176"
            ],
            "text/html": [
              "\n",
              "  <div id=\"df-a47bf23c-df77-4470-8122-95376034d056\">\n",
              "    <div class=\"colab-df-container\">\n",
              "      <div>\n",
              "<style scoped>\n",
              "    .dataframe tbody tr th:only-of-type {\n",
              "        vertical-align: middle;\n",
              "    }\n",
              "\n",
              "    .dataframe tbody tr th {\n",
              "        vertical-align: top;\n",
              "    }\n",
              "\n",
              "    .dataframe thead th {\n",
              "        text-align: right;\n",
              "    }\n",
              "</style>\n",
              "<table border=\"1\" class=\"dataframe\">\n",
              "  <thead>\n",
              "    <tr style=\"text-align: right;\">\n",
              "      <th></th>\n",
              "      <th>property_name</th>\n",
              "      <th>occupancy_perc</th>\n",
              "    </tr>\n",
              "  </thead>\n",
              "  <tbody>\n",
              "    <tr>\n",
              "      <th>1</th>\n",
              "      <td>Atliq Blu</td>\n",
              "      <td>65.479591</td>\n",
              "    </tr>\n",
              "    <tr>\n",
              "      <th>5</th>\n",
              "      <td>Atliq Palace</td>\n",
              "      <td>63.390959</td>\n",
              "    </tr>\n",
              "    <tr>\n",
              "      <th>2</th>\n",
              "      <td>Atliq City</td>\n",
              "      <td>62.962652</td>\n",
              "    </tr>\n",
              "    <tr>\n",
              "      <th>0</th>\n",
              "      <td>Atliq Bay</td>\n",
              "      <td>62.461621</td>\n",
              "    </tr>\n",
              "    <tr>\n",
              "      <th>3</th>\n",
              "      <td>Atliq Exotica</td>\n",
              "      <td>61.496971</td>\n",
              "    </tr>\n",
              "    <tr>\n",
              "      <th>4</th>\n",
              "      <td>Atliq Grands</td>\n",
              "      <td>56.032315</td>\n",
              "    </tr>\n",
              "    <tr>\n",
              "      <th>6</th>\n",
              "      <td>Atliq Seasons</td>\n",
              "      <td>46.749176</td>\n",
              "    </tr>\n",
              "  </tbody>\n",
              "</table>\n",
              "</div>\n",
              "      <button class=\"colab-df-convert\" onclick=\"convertToInteractive('df-a47bf23c-df77-4470-8122-95376034d056')\"\n",
              "              title=\"Convert this dataframe to an interactive table.\"\n",
              "              style=\"display:none;\">\n",
              "        \n",
              "  <svg xmlns=\"http://www.w3.org/2000/svg\" height=\"24px\"viewBox=\"0 0 24 24\"\n",
              "       width=\"24px\">\n",
              "    <path d=\"M0 0h24v24H0V0z\" fill=\"none\"/>\n",
              "    <path d=\"M18.56 5.44l.94 2.06.94-2.06 2.06-.94-2.06-.94-.94-2.06-.94 2.06-2.06.94zm-11 1L8.5 8.5l.94-2.06 2.06-.94-2.06-.94L8.5 2.5l-.94 2.06-2.06.94zm10 10l.94 2.06.94-2.06 2.06-.94-2.06-.94-.94-2.06-.94 2.06-2.06.94z\"/><path d=\"M17.41 7.96l-1.37-1.37c-.4-.4-.92-.59-1.43-.59-.52 0-1.04.2-1.43.59L10.3 9.45l-7.72 7.72c-.78.78-.78 2.05 0 2.83L4 21.41c.39.39.9.59 1.41.59.51 0 1.02-.2 1.41-.59l7.78-7.78 2.81-2.81c.8-.78.8-2.07 0-2.86zM5.41 20L4 18.59l7.72-7.72 1.47 1.35L5.41 20z\"/>\n",
              "  </svg>\n",
              "      </button>\n",
              "      \n",
              "  <style>\n",
              "    .colab-df-container {\n",
              "      display:flex;\n",
              "      flex-wrap:wrap;\n",
              "      gap: 12px;\n",
              "    }\n",
              "\n",
              "    .colab-df-convert {\n",
              "      background-color: #E8F0FE;\n",
              "      border: none;\n",
              "      border-radius: 50%;\n",
              "      cursor: pointer;\n",
              "      display: none;\n",
              "      fill: #1967D2;\n",
              "      height: 32px;\n",
              "      padding: 0 0 0 0;\n",
              "      width: 32px;\n",
              "    }\n",
              "\n",
              "    .colab-df-convert:hover {\n",
              "      background-color: #E2EBFA;\n",
              "      box-shadow: 0px 1px 2px rgba(60, 64, 67, 0.3), 0px 1px 3px 1px rgba(60, 64, 67, 0.15);\n",
              "      fill: #174EA6;\n",
              "    }\n",
              "\n",
              "    [theme=dark] .colab-df-convert {\n",
              "      background-color: #3B4455;\n",
              "      fill: #D2E3FC;\n",
              "    }\n",
              "\n",
              "    [theme=dark] .colab-df-convert:hover {\n",
              "      background-color: #434B5C;\n",
              "      box-shadow: 0px 1px 3px 1px rgba(0, 0, 0, 0.15);\n",
              "      filter: drop-shadow(0px 1px 2px rgba(0, 0, 0, 0.3));\n",
              "      fill: #FFFFFF;\n",
              "    }\n",
              "  </style>\n",
              "\n",
              "      <script>\n",
              "        const buttonEl =\n",
              "          document.querySelector('#df-a47bf23c-df77-4470-8122-95376034d056 button.colab-df-convert');\n",
              "        buttonEl.style.display =\n",
              "          google.colab.kernel.accessAllowed ? 'block' : 'none';\n",
              "\n",
              "        async function convertToInteractive(key) {\n",
              "          const element = document.querySelector('#df-a47bf23c-df77-4470-8122-95376034d056');\n",
              "          const dataTable =\n",
              "            await google.colab.kernel.invokeFunction('convertToInteractive',\n",
              "                                                     [key], {});\n",
              "          if (!dataTable) return;\n",
              "\n",
              "          const docLinkHtml = 'Like what you see? Visit the ' +\n",
              "            '<a target=\"_blank\" href=https://colab.research.google.com/notebooks/data_table.ipynb>data table notebook</a>'\n",
              "            + ' to learn more about interactive tables.';\n",
              "          element.innerHTML = '';\n",
              "          dataTable['output_type'] = 'display_data';\n",
              "          await google.colab.output.renderOutput(dataTable, element);\n",
              "          const docLink = document.createElement('div');\n",
              "          docLink.innerHTML = docLinkHtml;\n",
              "          element.appendChild(docLink);\n",
              "        }\n",
              "      </script>\n",
              "    </div>\n",
              "  </div>\n",
              "  "
            ]
          },
          "metadata": {},
          "execution_count": 586
        }
      ]
    },
    {
      "cell_type": "code",
      "source": [
        "# Plotting\n",
        "plt.figure(figsize=(11,4))\n",
        "plot = sns.barplot(y='property_name', x='occupancy_perc', data = occ_by_prop_name)\n",
        "plt.xlabel('Occupancy')\n",
        "plt.ylabel('Property Name')\n",
        "plt.title('Occupancy by Property Name')\n",
        "plot.set_xticklabels(['0%', '10%', '20%', '30%',\n",
        "                   '40%', '50%', '60%', '70%', '80%'])\n",
        "plt.show()"
      ],
      "metadata": {
        "colab": {
          "base_uri": "https://localhost:8080/",
          "height": 295
        },
        "outputId": "caab18d9-fb17-4cf5-df62-3cb04d865362",
        "id": "1qDlSiGQ6fh5"
      },
      "execution_count": 587,
      "outputs": [
        {
          "output_type": "display_data",
          "data": {
            "text/plain": [
              "<Figure size 792x288 with 1 Axes>"
            ],
            "image/png": "[encoded data removed]"
          },
          "metadata": {
            "needs_background": "light"
          }
        }
      ]
    },
    {
      "cell_type": "markdown",
      "source": [
        "#### Occupancy by Day Type"
      ],
      "metadata": {
        "id": "buZ_g0bG-SG8"
      }
    },
    {
      "cell_type": "code",
      "source": [
        "occ_by_day_type = df.groupby('day_type')['occupancy_perc'].mean().reset_index()\n",
        "occ_by_day_type"
      ],
      "metadata": {
        "colab": {
          "base_uri": "https://localhost:8080/",
          "height": 112
        },
        "outputId": "72fcfd28-90e9-4725-9c67-3232527132e2",
        "id": "CQc0tWaw-HmO"
      },
      "execution_count": 549,
      "outputs": [
        {
          "output_type": "execute_result",
          "data": {
            "text/plain": [
              "   day_type  occupancy_perc\n",
              "0  weekeday       53.237194\n",
              "1   weekend       76.059113"
            ],
            "text/html": [
              "\n",
              "  <div id=\"df-92c3496a-324e-4c71-af08-d15bf2a0c5f6\">\n",
              "    <div class=\"colab-df-container\">\n",
              "      <div>\n",
              "<style scoped>\n",
              "    .dataframe tbody tr th:only-of-type {\n",
              "        vertical-align: middle;\n",
              "    }\n",
              "\n",
              "    .dataframe tbody tr th {\n",
              "        vertical-align: top;\n",
              "    }\n",
              "\n",
              "    .dataframe thead th {\n",
              "        text-align: right;\n",
              "    }\n",
              "</style>\n",
              "<table border=\"1\" class=\"dataframe\">\n",
              "  <thead>\n",
              "    <tr style=\"text-align: right;\">\n",
              "      <th></th>\n",
              "      <th>day_type</th>\n",
              "      <th>occupancy_perc</th>\n",
              "    </tr>\n",
              "  </thead>\n",
              "  <tbody>\n",
              "    <tr>\n",
              "      <th>0</th>\n",
              "      <td>weekeday</td>\n",
              "      <td>53.237194</td>\n",
              "    </tr>\n",
              "    <tr>\n",
              "      <th>1</th>\n",
              "      <td>weekend</td>\n",
              "      <td>76.059113</td>\n",
              "    </tr>\n",
              "  </tbody>\n",
              "</table>\n",
              "</div>\n",
              "      <button class=\"colab-df-convert\" onclick=\"convertToInteractive('df-92c3496a-324e-4c71-af08-d15bf2a0c5f6')\"\n",
              "              title=\"Convert this dataframe to an interactive table.\"\n",
              "              style=\"display:none;\">\n",
              "        \n",
              "  <svg xmlns=\"http://www.w3.org/2000/svg\" height=\"24px\"viewBox=\"0 0 24 24\"\n",
              "       width=\"24px\">\n",
              "    <path d=\"M0 0h24v24H0V0z\" fill=\"none\"/>\n",
              "    <path d=\"M18.56 5.44l.94 2.06.94-2.06 2.06-.94-2.06-.94-.94-2.06-.94 2.06-2.06.94zm-11 1L8.5 8.5l.94-2.06 2.06-.94-2.06-.94L8.5 2.5l-.94 2.06-2.06.94zm10 10l.94 2.06.94-2.06 2.06-.94-2.06-.94-.94-2.06-.94 2.06-2.06.94z\"/><path d=\"M17.41 7.96l-1.37-1.37c-.4-.4-.92-.59-1.43-.59-.52 0-1.04.2-1.43.59L10.3 9.45l-7.72 7.72c-.78.78-.78 2.05 0 2.83L4 21.41c.39.39.9.59 1.41.59.51 0 1.02-.2 1.41-.59l7.78-7.78 2.81-2.81c.8-.78.8-2.07 0-2.86zM5.41 20L4 18.59l7.72-7.72 1.47 1.35L5.41 20z\"/>\n",
              "  </svg>\n",
              "      </button>\n",
              "      \n",
              "  <style>\n",
              "    .colab-df-container {\n",
              "      display:flex;\n",
              "      flex-wrap:wrap;\n",
              "      gap: 12px;\n",
              "    }\n",
              "\n",
              "    .colab-df-convert {\n",
              "      background-color: #E8F0FE;\n",
              "      border: none;\n",
              "      border-radius: 50%;\n",
              "      cursor: pointer;\n",
              "      display: none;\n",
              "      fill: #1967D2;\n",
              "      height: 32px;\n",
              "      padding: 0 0 0 0;\n",
              "      width: 32px;\n",
              "    }\n",
              "\n",
              "    .colab-df-convert:hover {\n",
              "      background-color: #E2EBFA;\n",
              "      box-shadow: 0px 1px 2px rgba(60, 64, 67, 0.3), 0px 1px 3px 1px rgba(60, 64, 67, 0.15);\n",
              "      fill: #174EA6;\n",
              "    }\n",
              "\n",
              "    [theme=dark] .colab-df-convert {\n",
              "      background-color: #3B4455;\n",
              "      fill: #D2E3FC;\n",
              "    }\n",
              "\n",
              "    [theme=dark] .colab-df-convert:hover {\n",
              "      background-color: #434B5C;\n",
              "      box-shadow: 0px 1px 3px 1px rgba(0, 0, 0, 0.15);\n",
              "      filter: drop-shadow(0px 1px 2px rgba(0, 0, 0, 0.3));\n",
              "      fill: #FFFFFF;\n",
              "    }\n",
              "  </style>\n",
              "\n",
              "      <script>\n",
              "        const buttonEl =\n",
              "          document.querySelector('#df-92c3496a-324e-4c71-af08-d15bf2a0c5f6 button.colab-df-convert');\n",
              "        buttonEl.style.display =\n",
              "          google.colab.kernel.accessAllowed ? 'block' : 'none';\n",
              "\n",
              "        async function convertToInteractive(key) {\n",
              "          const element = document.querySelector('#df-92c3496a-324e-4c71-af08-d15bf2a0c5f6');\n",
              "          const dataTable =\n",
              "            await google.colab.kernel.invokeFunction('convertToInteractive',\n",
              "                                                     [key], {});\n",
              "          if (!dataTable) return;\n",
              "\n",
              "          const docLinkHtml = 'Like what you see? Visit the ' +\n",
              "            '<a target=\"_blank\" href=https://colab.research.google.com/notebooks/data_table.ipynb>data table notebook</a>'\n",
              "            + ' to learn more about interactive tables.';\n",
              "          element.innerHTML = '';\n",
              "          dataTable['output_type'] = 'display_data';\n",
              "          await google.colab.output.renderOutput(dataTable, element);\n",
              "          const docLink = document.createElement('div');\n",
              "          docLink.innerHTML = docLinkHtml;\n",
              "          element.appendChild(docLink);\n",
              "        }\n",
              "      </script>\n",
              "    </div>\n",
              "  </div>\n",
              "  "
            ]
          },
          "metadata": {},
          "execution_count": 549
        }
      ]
    },
    {
      "cell_type": "code",
      "source": [
        "# Plotting\n",
        "plt.figure(figsize=(8,8))\n",
        "plt.pie(occ_by_day_type['occupancy_perc'], labels=occ_by_day_type['day_type'],\n",
        "        autopct='%1.2f%%', pctdistance=0.5)\n",
        "my_circle=plt.Circle((0,0), 0.7, color='white')\n",
        "p=plt.gcf()\n",
        "p.gca().add_artist(my_circle)\n",
        "plt.title('Occupacncy by Day Type')\n",
        "plt.show()"
      ],
      "metadata": {
        "colab": {
          "base_uri": "https://localhost:8080/",
          "height": 482
        },
        "outputId": "69b7cb86-f011-49ab-d8a4-ee6e34ca9551",
        "id": "W7nmkBoP-HmY"
      },
      "execution_count": 550,
      "outputs": [
        {
          "output_type": "display_data",
          "data": {
            "text/plain": [
              "<Figure size 576x576 with 1 Axes>"
            ],
            "image/png": "[encoded data removed]"
          },
          "metadata": {}
        }
      ]
    },
    {
      "cell_type": "markdown",
      "source": [
        "#### Occupancy by Property Name with categorized by Room Class"
      ],
      "metadata": {
        "id": "ioeKOgbSCtZB"
      }
    },
    {
      "cell_type": "code",
      "source": [
        "occupancy_by_prop_cat_room_class = df.groupby(['property_name','room_class'])['occupancy_perc'].mean().reset_index()\n",
        "occupancy_by_prop_cat_room_class"
      ],
      "metadata": {
        "colab": {
          "base_uri": "https://localhost:8080/",
          "height": 927
        },
        "outputId": "3aeb2abb-36ca-4edd-8f76-d3e6ba8eace4",
        "id": "zeGA-Yi5CtZO"
      },
      "execution_count": 551,
      "outputs": [
        {
          "output_type": "execute_result",
          "data": {
            "text/plain": [
              "    property_name    room_class  occupancy_perc\n",
              "0       Atliq Bay         Elite       60.944206\n",
              "1       Atliq Bay       Premium       62.514877\n",
              "2       Atliq Bay  Presidential       66.187590\n",
              "3       Atliq Bay      Standard       62.489399\n",
              "4       Atliq Blu         Elite       65.157233\n",
              "5       Atliq Blu       Premium       65.597861\n",
              "6       Atliq Blu  Presidential       67.653243\n",
              "7       Atliq Blu      Standard       65.202828\n",
              "8      Atliq City         Elite       63.014321\n",
              "9      Atliq City       Premium       62.582597\n",
              "10     Atliq City  Presidential       65.351227\n",
              "11     Atliq City      Standard       62.183012\n",
              "12  Atliq Exotica         Elite       61.209852\n",
              "13  Atliq Exotica       Premium       61.830579\n",
              "14  Atliq Exotica  Presidential       62.994326\n",
              "15  Atliq Exotica      Standard       60.957826\n",
              "16   Atliq Grands         Elite       56.098263\n",
              "17   Atliq Grands       Premium       55.471770\n",
              "18   Atliq Grands  Presidential       57.356652\n",
              "19   Atliq Grands      Standard       55.894266\n",
              "20   Atliq Palace         Elite       63.720663\n",
              "21   Atliq Palace       Premium       62.013470\n",
              "22   Atliq Palace  Presidential       64.499338\n",
              "23   Atliq Palace      Standard       63.370268\n",
              "24  Atliq Seasons         Elite       46.725395\n",
              "25  Atliq Seasons       Premium       47.600000\n",
              "26  Atliq Seasons  Presidential       46.264834\n",
              "27  Atliq Seasons      Standard       46.010433"
            ],
            "text/html": [
              "\n",
              "  <div id=\"df-56b042ef-b0e7-406e-9a4a-0debc99e6b2a\">\n",
              "    <div class=\"colab-df-container\">\n",
              "      <div>\n",
              "<style scoped>\n",
              "    .dataframe tbody tr th:only-of-type {\n",
              "        vertical-align: middle;\n",
              "    }\n",
              "\n",
              "    .dataframe tbody tr th {\n",
              "        vertical-align: top;\n",
              "    }\n",
              "\n",
              "    .dataframe thead th {\n",
              "        text-align: right;\n",
              "    }\n",
              "</style>\n",
              "<table border=\"1\" class=\"dataframe\">\n",
              "  <thead>\n",
              "    <tr style=\"text-align: right;\">\n",
              "      <th></th>\n",
              "      <th>property_name</th>\n",
              "      <th>room_class</th>\n",
              "      <th>occupancy_perc</th>\n",
              "    </tr>\n",
              "  </thead>\n",
              "  <tbody>\n",
              "    <tr>\n",
              "      <th>0</th>\n",
              "      <td>Atliq Bay</td>\n",
              "      <td>Elite</td>\n",
              "      <td>60.944206</td>\n",
              "    </tr>\n",
              "    <tr>\n",
              "      <th>1</th>\n",
              "      <td>Atliq Bay</td>\n",
              "      <td>Premium</td>\n",
              "      <td>62.514877</td>\n",
              "    </tr>\n",
              "    <tr>\n",
              "      <th>2</th>\n",
              "      <td>Atliq Bay</td>\n",
              "      <td>Presidential</td>\n",
              "      <td>66.187590</td>\n",
              "    </tr>\n",
              "    <tr>\n",
              "      <th>3</th>\n",
              "      <td>Atliq Bay</td>\n",
              "      <td>Standard</td>\n",
              "      <td>62.489399</td>\n",
              "    </tr>\n",
              "    <tr>\n",
              "      <th>4</th>\n",
              "      <td>Atliq Blu</td>\n",
              "      <td>Elite</td>\n",
              "      <td>65.157233</td>\n",
              "    </tr>\n",
              "    <tr>\n",
              "      <th>5</th>\n",
              "      <td>Atliq Blu</td>\n",
              "      <td>Premium</td>\n",
              "      <td>65.597861</td>\n",
              "    </tr>\n",
              "    <tr>\n",
              "      <th>6</th>\n",
              "      <td>Atliq Blu</td>\n",
              "      <td>Presidential</td>\n",
              "      <td>67.653243</td>\n",
              "    </tr>\n",
              "    <tr>\n",
              "      <th>7</th>\n",
              "      <td>Atliq Blu</td>\n",
              "      <td>Standard</td>\n",
              "      <td>65.202828</td>\n",
              "    </tr>\n",
              "    <tr>\n",
              "      <th>8</th>\n",
              "      <td>Atliq City</td>\n",
              "      <td>Elite</td>\n",
              "      <td>63.014321</td>\n",
              "    </tr>\n",
              "    <tr>\n",
              "      <th>9</th>\n",
              "      <td>Atliq City</td>\n",
              "      <td>Premium</td>\n",
              "      <td>62.582597</td>\n",
              "    </tr>\n",
              "    <tr>\n",
              "      <th>10</th>\n",
              "      <td>Atliq City</td>\n",
              "      <td>Presidential</td>\n",
              "      <td>65.351227</td>\n",
              "    </tr>\n",
              "    <tr>\n",
              "      <th>11</th>\n",
              "      <td>Atliq City</td>\n",
              "      <td>Standard</td>\n",
              "      <td>62.183012</td>\n",
              "    </tr>\n",
              "    <tr>\n",
              "      <th>12</th>\n",
              "      <td>Atliq Exotica</td>\n",
              "      <td>Elite</td>\n",
              "      <td>61.209852</td>\n",
              "    </tr>\n",
              "    <tr>\n",
              "      <th>13</th>\n",
              "      <td>Atliq Exotica</td>\n",
              "      <td>Premium</td>\n",
              "      <td>61.830579</td>\n",
              "    </tr>\n",
              "    <tr>\n",
              "      <th>14</th>\n",
              "      <td>Atliq Exotica</td>\n",
              "      <td>Presidential</td>\n",
              "      <td>62.994326</td>\n",
              "    </tr>\n",
              "    <tr>\n",
              "      <th>15</th>\n",
              "      <td>Atliq Exotica</td>\n",
              "      <td>Standard</td>\n",
              "      <td>60.957826</td>\n",
              "    </tr>\n",
              "    <tr>\n",
              "      <th>16</th>\n",
              "      <td>Atliq Grands</td>\n",
              "      <td>Elite</td>\n",
              "      <td>56.098263</td>\n",
              "    </tr>\n",
              "    <tr>\n",
              "      <th>17</th>\n",
              "      <td>Atliq Grands</td>\n",
              "      <td>Premium</td>\n",
              "      <td>55.471770</td>\n",
              "    </tr>\n",
              "    <tr>\n",
              "      <th>18</th>\n",
              "      <td>Atliq Grands</td>\n",
              "      <td>Presidential</td>\n",
              "      <td>57.356652</td>\n",
              "    </tr>\n",
              "    <tr>\n",
              "      <th>19</th>\n",
              "      <td>Atliq Grands</td>\n",
              "      <td>Standard</td>\n",
              "      <td>55.894266</td>\n",
              "    </tr>\n",
              "    <tr>\n",
              "      <th>20</th>\n",
              "      <td>Atliq Palace</td>\n",
              "      <td>Elite</td>\n",
              "      <td>63.720663</td>\n",
              "    </tr>\n",
              "    <tr>\n",
              "      <th>21</th>\n",
              "      <td>Atliq Palace</td>\n",
              "      <td>Premium</td>\n",
              "      <td>62.013470</td>\n",
              "    </tr>\n",
              "    <tr>\n",
              "      <th>22</th>\n",
              "      <td>Atliq Palace</td>\n",
              "      <td>Presidential</td>\n",
              "      <td>64.499338</td>\n",
              "    </tr>\n",
              "    <tr>\n",
              "      <th>23</th>\n",
              "      <td>Atliq Palace</td>\n",
              "      <td>Standard</td>\n",
              "      <td>63.370268</td>\n",
              "    </tr>\n",
              "    <tr>\n",
              "      <th>24</th>\n",
              "      <td>Atliq Seasons</td>\n",
              "      <td>Elite</td>\n",
              "      <td>46.725395</td>\n",
              "    </tr>\n",
              "    <tr>\n",
              "      <th>25</th>\n",
              "      <td>Atliq Seasons</td>\n",
              "      <td>Premium</td>\n",
              "      <td>47.600000</td>\n",
              "    </tr>\n",
              "    <tr>\n",
              "      <th>26</th>\n",
              "      <td>Atliq Seasons</td>\n",
              "      <td>Presidential</td>\n",
              "      <td>46.264834</td>\n",
              "    </tr>\n",
              "    <tr>\n",
              "      <th>27</th>\n",
              "      <td>Atliq Seasons</td>\n",
              "      <td>Standard</td>\n",
              "      <td>46.010433</td>\n",
              "    </tr>\n",
              "  </tbody>\n",
              "</table>\n",
              "</div>\n",
              "      <button class=\"colab-df-convert\" onclick=\"convertToInteractive('df-56b042ef-b0e7-406e-9a4a-0debc99e6b2a')\"\n",
              "              title=\"Convert this dataframe to an interactive table.\"\n",
              "              style=\"display:none;\">\n",
              "        \n",
              "  <svg xmlns=\"http://www.w3.org/2000/svg\" height=\"24px\"viewBox=\"0 0 24 24\"\n",
              "       width=\"24px\">\n",
              "    <path d=\"M0 0h24v24H0V0z\" fill=\"none\"/>\n",
              "    <path d=\"M18.56 5.44l.94 2.06.94-2.06 2.06-.94-2.06-.94-.94-2.06-.94 2.06-2.06.94zm-11 1L8.5 8.5l.94-2.06 2.06-.94-2.06-.94L8.5 2.5l-.94 2.06-2.06.94zm10 10l.94 2.06.94-2.06 2.06-.94-2.06-.94-.94-2.06-.94 2.06-2.06.94z\"/><path d=\"M17.41 7.96l-1.37-1.37c-.4-.4-.92-.59-1.43-.59-.52 0-1.04.2-1.43.59L10.3 9.45l-7.72 7.72c-.78.78-.78 2.05 0 2.83L4 21.41c.39.39.9.59 1.41.59.51 0 1.02-.2 1.41-.59l7.78-7.78 2.81-2.81c.8-.78.8-2.07 0-2.86zM5.41 20L4 18.59l7.72-7.72 1.47 1.35L5.41 20z\"/>\n",
              "  </svg>\n",
              "      </button>\n",
              "      \n",
              "  <style>\n",
              "    .colab-df-container {\n",
              "      display:flex;\n",
              "      flex-wrap:wrap;\n",
              "      gap: 12px;\n",
              "    }\n",
              "\n",
              "    .colab-df-convert {\n",
              "      background-color: #E8F0FE;\n",
              "      border: none;\n",
              "      border-radius: 50%;\n",
              "      cursor: pointer;\n",
              "      display: none;\n",
              "      fill: #1967D2;\n",
              "      height: 32px;\n",
              "      padding: 0 0 0 0;\n",
              "      width: 32px;\n",
              "    }\n",
              "\n",
              "    .colab-df-convert:hover {\n",
              "      background-color: #E2EBFA;\n",
              "      box-shadow: 0px 1px 2px rgba(60, 64, 67, 0.3), 0px 1px 3px 1px rgba(60, 64, 67, 0.15);\n",
              "      fill: #174EA6;\n",
              "    }\n",
              "\n",
              "    [theme=dark] .colab-df-convert {\n",
              "      background-color: #3B4455;\n",
              "      fill: #D2E3FC;\n",
              "    }\n",
              "\n",
              "    [theme=dark] .colab-df-convert:hover {\n",
              "      background-color: #434B5C;\n",
              "      box-shadow: 0px 1px 3px 1px rgba(0, 0, 0, 0.15);\n",
              "      filter: drop-shadow(0px 1px 2px rgba(0, 0, 0, 0.3));\n",
              "      fill: #FFFFFF;\n",
              "    }\n",
              "  </style>\n",
              "\n",
              "      <script>\n",
              "        const buttonEl =\n",
              "          document.querySelector('#df-56b042ef-b0e7-406e-9a4a-0debc99e6b2a button.colab-df-convert');\n",
              "        buttonEl.style.display =\n",
              "          google.colab.kernel.accessAllowed ? 'block' : 'none';\n",
              "\n",
              "        async function convertToInteractive(key) {\n",
              "          const element = document.querySelector('#df-56b042ef-b0e7-406e-9a4a-0debc99e6b2a');\n",
              "          const dataTable =\n",
              "            await google.colab.kernel.invokeFunction('convertToInteractive',\n",
              "                                                     [key], {});\n",
              "          if (!dataTable) return;\n",
              "\n",
              "          const docLinkHtml = 'Like what you see? Visit the ' +\n",
              "            '<a target=\"_blank\" href=https://colab.research.google.com/notebooks/data_table.ipynb>data table notebook</a>'\n",
              "            + ' to learn more about interactive tables.';\n",
              "          element.innerHTML = '';\n",
              "          dataTable['output_type'] = 'display_data';\n",
              "          await google.colab.output.renderOutput(dataTable, element);\n",
              "          const docLink = document.createElement('div');\n",
              "          docLink.innerHTML = docLinkHtml;\n",
              "          element.appendChild(docLink);\n",
              "        }\n",
              "      </script>\n",
              "    </div>\n",
              "  </div>\n",
              "  "
            ]
          },
          "metadata": {},
          "execution_count": 551
        }
      ]
    },
    {
      "cell_type": "code",
      "source": [
        "# Plotting\n",
        "plot = sns.catplot(y=\"property_name\", x=\"occupancy_perc\", hue=\"room_class\", data=occupancy_by_prop_cat_room_class, kind=\"bar\")\n",
        "plt.title('Occupancy by Property Name by Room Class')\n",
        "plot.set_xticklabels(['0%', '10%', '20%', '30%',\n",
        "                   '40%', '50%', '60%', '70%', '80%'])\n",
        "plt.show()"
      ],
      "metadata": {
        "colab": {
          "base_uri": "https://localhost:8080/",
          "height": 385
        },
        "outputId": "41c1a728-5da9-4aba-b47b-deebff8d5b40",
        "id": "z57qXpxfCtZO"
      },
      "execution_count": 552,
      "outputs": [
        {
          "output_type": "display_data",
          "data": {
            "text/plain": [
              "<Figure size 454.625x360 with 1 Axes>"
            ],
            "image/png": "[encoded data removed]"
          },
          "metadata": {
            "needs_background": "light"
          }
        }
      ]
    },
    {
      "cell_type": "markdown",
      "source": [
        "#### Occupancy by Property Name with categorized by City"
      ],
      "metadata": {
        "id": "BQnJYXADBfxC"
      }
    },
    {
      "cell_type": "code",
      "source": [
        "occupancy_by_prop_cat_city = df.groupby(['property_name','city'])['occupancy_perc'].mean().reset_index()\n",
        "occupancy_by_prop_cat_city"
      ],
      "metadata": {
        "colab": {
          "base_uri": "https://localhost:8080/",
          "height": 802
        },
        "outputId": "a57b5b88-808e-4f16-a614-6523bd51e1e3",
        "id": "01x8AHSBBfxD"
      },
      "execution_count": 553,
      "outputs": [
        {
          "output_type": "execute_result",
          "data": {
            "text/plain": [
              "    property_name       city  occupancy_perc\n",
              "0       Atliq Bay  Bangalore       68.999398\n",
              "1       Atliq Bay      Delhi       55.905413\n",
              "2       Atliq Bay  Hyderabad       68.868465\n",
              "3       Atliq Bay     Mumbai       46.872242\n",
              "4       Atliq Blu  Bangalore       55.816520\n",
              "5       Atliq Blu      Delhi       68.903260\n",
              "6       Atliq Blu  Hyderabad       68.732645\n",
              "7       Atliq Blu     Mumbai       69.202026\n",
              "8      Atliq City  Bangalore       68.780437\n",
              "9      Atliq City      Delhi       56.147140\n",
              "10     Atliq City  Hyderabad       69.241237\n",
              "11     Atliq City     Mumbai       55.565914\n",
              "12  Atliq Exotica  Bangalore       56.117634\n",
              "13  Atliq Exotica  Hyderabad       46.817037\n",
              "14  Atliq Exotica     Mumbai       69.098419\n",
              "15   Atliq Grands  Bangalore       46.488010\n",
              "16   Atliq Grands      Delhi       69.314673\n",
              "17   Atliq Grands  Hyderabad       55.771551\n",
              "18   Atliq Grands     Mumbai       56.232038\n",
              "19   Atliq Palace  Bangalore       55.937374\n",
              "20   Atliq Palace      Delhi       69.299952\n",
              "21   Atliq Palace  Hyderabad       55.350536\n",
              "22   Atliq Palace     Mumbai       69.092364\n",
              "23  Atliq Seasons     Mumbai       46.749176"
            ],
            "text/html": [
              "\n",
              "  <div id=\"df-7ad53c83-1fb6-4252-b012-a45a7251c2a8\">\n",
              "    <div class=\"colab-df-container\">\n",
              "      <div>\n",
              "<style scoped>\n",
              "    .dataframe tbody tr th:only-of-type {\n",
              "        vertical-align: middle;\n",
              "    }\n",
              "\n",
              "    .dataframe tbody tr th {\n",
              "        vertical-align: top;\n",
              "    }\n",
              "\n",
              "    .dataframe thead th {\n",
              "        text-align: right;\n",
              "    }\n",
              "</style>\n",
              "<table border=\"1\" class=\"dataframe\">\n",
              "  <thead>\n",
              "    <tr style=\"text-align: right;\">\n",
              "      <th></th>\n",
              "      <th>property_name</th>\n",
              "      <th>city</th>\n",
              "      <th>occupancy_perc</th>\n",
              "    </tr>\n",
              "  </thead>\n",
              "  <tbody>\n",
              "    <tr>\n",
              "      <th>0</th>\n",
              "      <td>Atliq Bay</td>\n",
              "      <td>Bangalore</td>\n",
              "      <td>68.999398</td>\n",
              "    </tr>\n",
              "    <tr>\n",
              "      <th>1</th>\n",
              "      <td>Atliq Bay</td>\n",
              "      <td>Delhi</td>\n",
              "      <td>55.905413</td>\n",
              "    </tr>\n",
              "    <tr>\n",
              "      <th>2</th>\n",
              "      <td>Atliq Bay</td>\n",
              "      <td>Hyderabad</td>\n",
              "      <td>68.868465</td>\n",
              "    </tr>\n",
              "    <tr>\n",
              "      <th>3</th>\n",
              "      <td>Atliq Bay</td>\n",
              "      <td>Mumbai</td>\n",
              "      <td>46.872242</td>\n",
              "    </tr>\n",
              "    <tr>\n",
              "      <th>4</th>\n",
              "      <td>Atliq Blu</td>\n",
              "      <td>Bangalore</td>\n",
              "      <td>55.816520</td>\n",
              "    </tr>\n",
              "    <tr>\n",
              "      <th>5</th>\n",
              "      <td>Atliq Blu</td>\n",
              "      <td>Delhi</td>\n",
              "      <td>68.903260</td>\n",
              "    </tr>\n",
              "    <tr>\n",
              "      <th>6</th>\n",
              "      <td>Atliq Blu</td>\n",
              "      <td>Hyderabad</td>\n",
              "      <td>68.732645</td>\n",
              "    </tr>\n",
              "    <tr>\n",
              "      <th>7</th>\n",
              "      <td>Atliq Blu</td>\n",
              "      <td>Mumbai</td>\n",
              "      <td>69.202026</td>\n",
              "    </tr>\n",
              "    <tr>\n",
              "      <th>8</th>\n",
              "      <td>Atliq City</td>\n",
              "      <td>Bangalore</td>\n",
              "      <td>68.780437</td>\n",
              "    </tr>\n",
              "    <tr>\n",
              "      <th>9</th>\n",
              "      <td>Atliq City</td>\n",
              "      <td>Delhi</td>\n",
              "      <td>56.147140</td>\n",
              "    </tr>\n",
              "    <tr>\n",
              "      <th>10</th>\n",
              "      <td>Atliq City</td>\n",
              "      <td>Hyderabad</td>\n",
              "      <td>69.241237</td>\n",
              "    </tr>\n",
              "    <tr>\n",
              "      <th>11</th>\n",
              "      <td>Atliq City</td>\n",
              "      <td>Mumbai</td>\n",
              "      <td>55.565914</td>\n",
              "    </tr>\n",
              "    <tr>\n",
              "      <th>12</th>\n",
              "      <td>Atliq Exotica</td>\n",
              "      <td>Bangalore</td>\n",
              "      <td>56.117634</td>\n",
              "    </tr>\n",
              "    <tr>\n",
              "      <th>13</th>\n",
              "      <td>Atliq Exotica</td>\n",
              "      <td>Hyderabad</td>\n",
              "      <td>46.817037</td>\n",
              "    </tr>\n",
              "    <tr>\n",
              "      <th>14</th>\n",
              "      <td>Atliq Exotica</td>\n",
              "      <td>Mumbai</td>\n",
              "      <td>69.098419</td>\n",
              "    </tr>\n",
              "    <tr>\n",
              "      <th>15</th>\n",
              "      <td>Atliq Grands</td>\n",
              "      <td>Bangalore</td>\n",
              "      <td>46.488010</td>\n",
              "    </tr>\n",
              "    <tr>\n",
              "      <th>16</th>\n",
              "      <td>Atliq Grands</td>\n",
              "      <td>Delhi</td>\n",
              "      <td>69.314673</td>\n",
              "    </tr>\n",
              "    <tr>\n",
              "      <th>17</th>\n",
              "      <td>Atliq Grands</td>\n",
              "      <td>Hyderabad</td>\n",
              "      <td>55.771551</td>\n",
              "    </tr>\n",
              "    <tr>\n",
              "      <th>18</th>\n",
              "      <td>Atliq Grands</td>\n",
              "      <td>Mumbai</td>\n",
              "      <td>56.232038</td>\n",
              "    </tr>\n",
              "    <tr>\n",
              "      <th>19</th>\n",
              "      <td>Atliq Palace</td>\n",
              "      <td>Bangalore</td>\n",
              "      <td>55.937374</td>\n",
              "    </tr>\n",
              "    <tr>\n",
              "      <th>20</th>\n",
              "      <td>Atliq Palace</td>\n",
              "      <td>Delhi</td>\n",
              "      <td>69.299952</td>\n",
              "    </tr>\n",
              "    <tr>\n",
              "      <th>21</th>\n",
              "      <td>Atliq Palace</td>\n",
              "      <td>Hyderabad</td>\n",
              "      <td>55.350536</td>\n",
              "    </tr>\n",
              "    <tr>\n",
              "      <th>22</th>\n",
              "      <td>Atliq Palace</td>\n",
              "      <td>Mumbai</td>\n",
              "      <td>69.092364</td>\n",
              "    </tr>\n",
              "    <tr>\n",
              "      <th>23</th>\n",
              "      <td>Atliq Seasons</td>\n",
              "      <td>Mumbai</td>\n",
              "      <td>46.749176</td>\n",
              "    </tr>\n",
              "  </tbody>\n",
              "</table>\n",
              "</div>\n",
              "      <button class=\"colab-df-convert\" onclick=\"convertToInteractive('df-7ad53c83-1fb6-4252-b012-a45a7251c2a8')\"\n",
              "              title=\"Convert this dataframe to an interactive table.\"\n",
              "              style=\"display:none;\">\n",
              "        \n",
              "  <svg xmlns=\"http://www.w3.org/2000/svg\" height=\"24px\"viewBox=\"0 0 24 24\"\n",
              "       width=\"24px\">\n",
              "    <path d=\"M0 0h24v24H0V0z\" fill=\"none\"/>\n",
              "    <path d=\"M18.56 5.44l.94 2.06.94-2.06 2.06-.94-2.06-.94-.94-2.06-.94 2.06-2.06.94zm-11 1L8.5 8.5l.94-2.06 2.06-.94-2.06-.94L8.5 2.5l-.94 2.06-2.06.94zm10 10l.94 2.06.94-2.06 2.06-.94-2.06-.94-.94-2.06-.94 2.06-2.06.94z\"/><path d=\"M17.41 7.96l-1.37-1.37c-.4-.4-.92-.59-1.43-.59-.52 0-1.04.2-1.43.59L10.3 9.45l-7.72 7.72c-.78.78-.78 2.05 0 2.83L4 21.41c.39.39.9.59 1.41.59.51 0 1.02-.2 1.41-.59l7.78-7.78 2.81-2.81c.8-.78.8-2.07 0-2.86zM5.41 20L4 18.59l7.72-7.72 1.47 1.35L5.41 20z\"/>\n",
              "  </svg>\n",
              "      </button>\n",
              "      \n",
              "  <style>\n",
              "    .colab-df-container {\n",
              "      display:flex;\n",
              "      flex-wrap:wrap;\n",
              "      gap: 12px;\n",
              "    }\n",
              "\n",
              "    .colab-df-convert {\n",
              "      background-color: #E8F0FE;\n",
              "      border: none;\n",
              "      border-radius: 50%;\n",
              "      cursor: pointer;\n",
              "      display: none;\n",
              "      fill: #1967D2;\n",
              "      height: 32px;\n",
              "      padding: 0 0 0 0;\n",
              "      width: 32px;\n",
              "    }\n",
              "\n",
              "    .colab-df-convert:hover {\n",
              "      background-color: #E2EBFA;\n",
              "      box-shadow: 0px 1px 2px rgba(60, 64, 67, 0.3), 0px 1px 3px 1px rgba(60, 64, 67, 0.15);\n",
              "      fill: #174EA6;\n",
              "    }\n",
              "\n",
              "    [theme=dark] .colab-df-convert {\n",
              "      background-color: #3B4455;\n",
              "      fill: #D2E3FC;\n",
              "    }\n",
              "\n",
              "    [theme=dark] .colab-df-convert:hover {\n",
              "      background-color: #434B5C;\n",
              "      box-shadow: 0px 1px 3px 1px rgba(0, 0, 0, 0.15);\n",
              "      filter: drop-shadow(0px 1px 2px rgba(0, 0, 0, 0.3));\n",
              "      fill: #FFFFFF;\n",
              "    }\n",
              "  </style>\n",
              "\n",
              "      <script>\n",
              "        const buttonEl =\n",
              "          document.querySelector('#df-7ad53c83-1fb6-4252-b012-a45a7251c2a8 button.colab-df-convert');\n",
              "        buttonEl.style.display =\n",
              "          google.colab.kernel.accessAllowed ? 'block' : 'none';\n",
              "\n",
              "        async function convertToInteractive(key) {\n",
              "          const element = document.querySelector('#df-7ad53c83-1fb6-4252-b012-a45a7251c2a8');\n",
              "          const dataTable =\n",
              "            await google.colab.kernel.invokeFunction('convertToInteractive',\n",
              "                                                     [key], {});\n",
              "          if (!dataTable) return;\n",
              "\n",
              "          const docLinkHtml = 'Like what you see? Visit the ' +\n",
              "            '<a target=\"_blank\" href=https://colab.research.google.com/notebooks/data_table.ipynb>data table notebook</a>'\n",
              "            + ' to learn more about interactive tables.';\n",
              "          element.innerHTML = '';\n",
              "          dataTable['output_type'] = 'display_data';\n",
              "          await google.colab.output.renderOutput(dataTable, element);\n",
              "          const docLink = document.createElement('div');\n",
              "          docLink.innerHTML = docLinkHtml;\n",
              "          element.appendChild(docLink);\n",
              "        }\n",
              "      </script>\n",
              "    </div>\n",
              "  </div>\n",
              "  "
            ]
          },
          "metadata": {},
          "execution_count": 553
        }
      ]
    },
    {
      "cell_type": "code",
      "source": [
        "# Plotting\n",
        "plot = sns.catplot(y=\"property_name\", x=\"occupancy_perc\", hue=\"city\", data=occupancy_by_prop_cat_city, kind=\"bar\")\n",
        "plt.title('Occupancy by Property Name by City')\n",
        "plot.set_xticklabels(['0%', '10%', '20%', '30%',\n",
        "                   '40%', '50%', '60%', '70%', '80%'])\n",
        "plt.show()"
      ],
      "metadata": {
        "colab": {
          "base_uri": "https://localhost:8080/",
          "height": 385
        },
        "outputId": "7081ed7a-8718-4f3b-cafc-a4d4dc9b6fb6",
        "id": "guWF1RoABfxF"
      },
      "execution_count": 554,
      "outputs": [
        {
          "output_type": "display_data",
          "data": {
            "text/plain": [
              "<Figure size 450.875x360 with 1 Axes>"
            ],
            "image/png": "[encoded data removed]"
          },
          "metadata": {
            "needs_background": "light"
          }
        }
      ]
    },
    {
      "cell_type": "markdown",
      "source": [
        "#### Cancellation Rate"
      ],
      "metadata": {
        "id": "N2KfjS6fW0yB"
      }
    },
    {
      "cell_type": "code",
      "source": [
        "cancellation_rate = df.groupby('check_in_date')['booking_status'].apply(lambda x: (x == 'Cancelled').sum() / len(x) * 100).reset_index()\n",
        "cancellation_rate"
      ],
      "metadata": {
        "colab": {
          "base_uri": "https://localhost:8080/",
          "height": 424
        },
        "id": "LBwmcGHuEaWs",
        "outputId": "f1d5a582-2d1f-4bc6-d97d-5528276a3f8b"
      },
      "execution_count": 555,
      "outputs": [
        {
          "output_type": "execute_result",
          "data": {
            "text/plain": [
              "   check_in_date  booking_status\n",
              "0     2022-05-01       24.837905\n",
              "1     2022-05-02       26.080692\n",
              "2     2022-05-03       25.054152\n",
              "3     2022-05-04       25.541126\n",
              "4     2022-05-05       25.336164\n",
              "..           ...             ...\n",
              "87    2022-07-27       24.407375\n",
              "88    2022-07-28       25.108225\n",
              "89    2022-07-29       22.433132\n",
              "90    2022-07-30       23.137973\n",
              "91    2022-07-31       23.985463\n",
              "\n",
              "[92 rows x 2 columns]"
            ],
            "text/html": [
              "\n",
              "  <div id=\"df-3e8d0df6-ed5a-4a26-a45e-a430ea8f68cf\">\n",
              "    <div class=\"colab-df-container\">\n",
              "      <div>\n",
              "<style scoped>\n",
              "    .dataframe tbody tr th:only-of-type {\n",
              "        vertical-align: middle;\n",
              "    }\n",
              "\n",
              "    .dataframe tbody tr th {\n",
              "        vertical-align: top;\n",
              "    }\n",
              "\n",
              "    .dataframe thead th {\n",
              "        text-align: right;\n",
              "    }\n",
              "</style>\n",
              "<table border=\"1\" class=\"dataframe\">\n",
              "  <thead>\n",
              "    <tr style=\"text-align: right;\">\n",
              "      <th></th>\n",
              "      <th>check_in_date</th>\n",
              "      <th>booking_status</th>\n",
              "    </tr>\n",
              "  </thead>\n",
              "  <tbody>\n",
              "    <tr>\n",
              "      <th>0</th>\n",
              "      <td>2022-05-01</td>\n",
              "      <td>24.837905</td>\n",
              "    </tr>\n",
              "    <tr>\n",
              "      <th>1</th>\n",
              "      <td>2022-05-02</td>\n",
              "      <td>26.080692</td>\n",
              "    </tr>\n",
              "    <tr>\n",
              "      <th>2</th>\n",
              "      <td>2022-05-03</td>\n",
              "      <td>25.054152</td>\n",
              "    </tr>\n",
              "    <tr>\n",
              "      <th>3</th>\n",
              "      <td>2022-05-04</td>\n",
              "      <td>25.541126</td>\n",
              "    </tr>\n",
              "    <tr>\n",
              "      <th>4</th>\n",
              "      <td>2022-05-05</td>\n",
              "      <td>25.336164</td>\n",
              "    </tr>\n",
              "    <tr>\n",
              "      <th>...</th>\n",
              "      <td>...</td>\n",
              "      <td>...</td>\n",
              "    </tr>\n",
              "    <tr>\n",
              "      <th>87</th>\n",
              "      <td>2022-07-27</td>\n",
              "      <td>24.407375</td>\n",
              "    </tr>\n",
              "    <tr>\n",
              "      <th>88</th>\n",
              "      <td>2022-07-28</td>\n",
              "      <td>25.108225</td>\n",
              "    </tr>\n",
              "    <tr>\n",
              "      <th>89</th>\n",
              "      <td>2022-07-29</td>\n",
              "      <td>22.433132</td>\n",
              "    </tr>\n",
              "    <tr>\n",
              "      <th>90</th>\n",
              "      <td>2022-07-30</td>\n",
              "      <td>23.137973</td>\n",
              "    </tr>\n",
              "    <tr>\n",
              "      <th>91</th>\n",
              "      <td>2022-07-31</td>\n",
              "      <td>23.985463</td>\n",
              "    </tr>\n",
              "  </tbody>\n",
              "</table>\n",
              "<p>92 rows × 2 columns</p>\n",
              "</div>\n",
              "      <button class=\"colab-df-convert\" onclick=\"convertToInteractive('df-3e8d0df6-ed5a-4a26-a45e-a430ea8f68cf')\"\n",
              "              title=\"Convert this dataframe to an interactive table.\"\n",
              "              style=\"display:none;\">\n",
              "        \n",
              "  <svg xmlns=\"http://www.w3.org/2000/svg\" height=\"24px\"viewBox=\"0 0 24 24\"\n",
              "       width=\"24px\">\n",
              "    <path d=\"M0 0h24v24H0V0z\" fill=\"none\"/>\n",
              "    <path d=\"M18.56 5.44l.94 2.06.94-2.06 2.06-.94-2.06-.94-.94-2.06-.94 2.06-2.06.94zm-11 1L8.5 8.5l.94-2.06 2.06-.94-2.06-.94L8.5 2.5l-.94 2.06-2.06.94zm10 10l.94 2.06.94-2.06 2.06-.94-2.06-.94-.94-2.06-.94 2.06-2.06.94z\"/><path d=\"M17.41 7.96l-1.37-1.37c-.4-.4-.92-.59-1.43-.59-.52 0-1.04.2-1.43.59L10.3 9.45l-7.72 7.72c-.78.78-.78 2.05 0 2.83L4 21.41c.39.39.9.59 1.41.59.51 0 1.02-.2 1.41-.59l7.78-7.78 2.81-2.81c.8-.78.8-2.07 0-2.86zM5.41 20L4 18.59l7.72-7.72 1.47 1.35L5.41 20z\"/>\n",
              "  </svg>\n",
              "      </button>\n",
              "      \n",
              "  <style>\n",
              "    .colab-df-container {\n",
              "      display:flex;\n",
              "      flex-wrap:wrap;\n",
              "      gap: 12px;\n",
              "    }\n",
              "\n",
              "    .colab-df-convert {\n",
              "      background-color: #E8F0FE;\n",
              "      border: none;\n",
              "      border-radius: 50%;\n",
              "      cursor: pointer;\n",
              "      display: none;\n",
              "      fill: #1967D2;\n",
              "      height: 32px;\n",
              "      padding: 0 0 0 0;\n",
              "      width: 32px;\n",
              "    }\n",
              "\n",
              "    .colab-df-convert:hover {\n",
              "      background-color: #E2EBFA;\n",
              "      box-shadow: 0px 1px 2px rgba(60, 64, 67, 0.3), 0px 1px 3px 1px rgba(60, 64, 67, 0.15);\n",
              "      fill: #174EA6;\n",
              "    }\n",
              "\n",
              "    [theme=dark] .colab-df-convert {\n",
              "      background-color: #3B4455;\n",
              "      fill: #D2E3FC;\n",
              "    }\n",
              "\n",
              "    [theme=dark] .colab-df-convert:hover {\n",
              "      background-color: #434B5C;\n",
              "      box-shadow: 0px 1px 3px 1px rgba(0, 0, 0, 0.15);\n",
              "      filter: drop-shadow(0px 1px 2px rgba(0, 0, 0, 0.3));\n",
              "      fill: #FFFFFF;\n",
              "    }\n",
              "  </style>\n",
              "\n",
              "      <script>\n",
              "        const buttonEl =\n",
              "          document.querySelector('#df-3e8d0df6-ed5a-4a26-a45e-a430ea8f68cf button.colab-df-convert');\n",
              "        buttonEl.style.display =\n",
              "          google.colab.kernel.accessAllowed ? 'block' : 'none';\n",
              "\n",
              "        async function convertToInteractive(key) {\n",
              "          const element = document.querySelector('#df-3e8d0df6-ed5a-4a26-a45e-a430ea8f68cf');\n",
              "          const dataTable =\n",
              "            await google.colab.kernel.invokeFunction('convertToInteractive',\n",
              "                                                     [key], {});\n",
              "          if (!dataTable) return;\n",
              "\n",
              "          const docLinkHtml = 'Like what you see? Visit the ' +\n",
              "            '<a target=\"_blank\" href=https://colab.research.google.com/notebooks/data_table.ipynb>data table notebook</a>'\n",
              "            + ' to learn more about interactive tables.';\n",
              "          element.innerHTML = '';\n",
              "          dataTable['output_type'] = 'display_data';\n",
              "          await google.colab.output.renderOutput(dataTable, element);\n",
              "          const docLink = document.createElement('div');\n",
              "          docLink.innerHTML = docLinkHtml;\n",
              "          element.appendChild(docLink);\n",
              "        }\n",
              "      </script>\n",
              "    </div>\n",
              "  </div>\n",
              "  "
            ]
          },
          "metadata": {},
          "execution_count": 555
        }
      ]
    },
    {
      "cell_type": "code",
      "source": [
        "# For May\n",
        "start_date = '2022-05-01'\n",
        "end_date = '2022-05-31'\n",
        "cancellation_rate_may = cancellation_rate.query('check_in_date >= @start_date and check_in_date <= @end_date')\n",
        "\n",
        "# For June\n",
        "start_date = '2022-06-01'\n",
        "end_date = '2022-06-30'\n",
        "cancellation_rate_june = cancellation_rate.query('check_in_date >= @start_date and check_in_date <= @end_date')\n",
        "\n",
        "# For July\n",
        "start_date = '2022-07-01'\n",
        "end_date = '2022-07-31'\n",
        "cancellation_rate_july = cancellation_rate.query('check_in_date >= @start_date and check_in_date <= @end_date')"
      ],
      "metadata": {
        "id": "DhQaKbLIOcTK"
      },
      "execution_count": 556,
      "outputs": []
    },
    {
      "cell_type": "code",
      "source": [
        "#Plotting\n",
        "plt.figure(figsize=(12,6))\n",
        "plot = sns.lineplot(x=range(1,32), y=\"booking_status\", data=cancellation_rate_may)\n",
        "plot = sns.lineplot(x=range(1,31), y=\"booking_status\", data=cancellation_rate_june)\n",
        "plot = sns.lineplot(x=range(1,32), y=\"booking_status\", data=cancellation_rate_july)\n",
        "plt.title('Cancellation Rate for May, June & July')\n",
        "plot.set_yticklabels(['23%', '24%', '25%', '26%',\n",
        "                   '27%', '28%', '29%', '30%', '31%'])\n",
        "plt.xlabel('Date')\n",
        "plt.ylabel('Cancellation Rate')\n",
        "plt.show()"
      ],
      "metadata": {
        "colab": {
          "base_uri": "https://localhost:8080/",
          "height": 404
        },
        "id": "A0GPOoV5R-oy",
        "outputId": "dbc043b4-4ed3-4151-e867-8db2c1519aca"
      },
      "execution_count": 557,
      "outputs": [
        {
          "output_type": "display_data",
          "data": {
            "text/plain": [
              "<Figure size 864x432 with 1 Axes>"
            ],
            "image/png": "[encoded data removed]"
          },
          "metadata": {
            "needs_background": "light"
          }
        }
      ]
    },
    {
      "cell_type": "markdown",
      "source": [
        "#### Comparison of Bookings & Cancellations"
      ],
      "metadata": {
        "id": "4VXhjGPao-Ie"
      }
    },
    {
      "cell_type": "code",
      "source": [
        "df['bookings'] = df.booking_status.map({'Cancelled':0, 'Checked Out':1, 'No Show': 1})"
      ],
      "metadata": {
        "id": "qnXkwzTRpJhq"
      },
      "execution_count": 558,
      "outputs": []
    },
    {
      "cell_type": "code",
      "source": [
        "booking_status = df.groupby('room_class')['bookings'].value_counts()\n",
        "plt.figure(figsize=(12,6))\n",
        "booking_status.plot(kind='bar', rot = 30, colormap='summer')\n",
        "for i in range(len(booking_status)):\n",
        "    count = booking_status.values[i]\n",
        "    label = count\n",
        "    plt.annotate(label, (i, count), ha = 'center', va='bottom')\n",
        "plt.ylabel('No of Bookings')\n",
        "plt.xlabel('Room Class')\n",
        "plt.title('Bookings vs Cancellations')\n",
        "plt.show()"
      ],
      "metadata": {
        "colab": {
          "base_uri": "https://localhost:8080/",
          "height": 442
        },
        "id": "hoHn4_ERtJQA",
        "outputId": "a36abd64-1e10-461e-9ab5-e291817f631a"
      },
      "execution_count": 559,
      "outputs": [
        {
          "output_type": "display_data",
          "data": {
            "text/plain": [
              "<Figure size 864x432 with 1 Axes>"
            ],
            "image/png": "[encoded data removed]"
          },
          "metadata": {
            "needs_background": "light"
          }
        }
      ]
    },
    {
      "cell_type": "markdown",
      "source": [
        "#### Ratings"
      ],
      "metadata": {
        "id": "GM7QMOUm8ah_"
      }
    },
    {
      "cell_type": "code",
      "source": [
        "df_checked_out = df[df.booking_status == 'Checked Out']\n",
        "df_ratings_given = df_checked_out[~df_checked_out.ratings_given.isnull()]"
      ],
      "metadata": {
        "id": "A6ZmK1ji50xL"
      },
      "execution_count": 560,
      "outputs": []
    },
    {
      "cell_type": "code",
      "source": [
        "ratings_by_city = df_ratings_given.groupby('city')['ratings_given'].mean().reset_index().sort_values(by = 'ratings_given', ascending = False)\n",
        "ratings_by_city"
      ],
      "metadata": {
        "colab": {
          "base_uri": "https://localhost:8080/",
          "height": 175
        },
        "outputId": "62128730-a960-47e9-ab6a-372929e30ff8",
        "id": "9kKB-qX88m4k"
      },
      "execution_count": 561,
      "outputs": [
        {
          "output_type": "execute_result",
          "data": {
            "text/plain": [
              "        city  ratings_given\n",
              "1      Delhi       3.779015\n",
              "2  Hyderabad       3.661132\n",
              "3     Mumbai       3.650455\n",
              "0  Bangalore       3.407681"
            ],
            "text/html": [
              "\n",
              "  <div id=\"df-14527d81-b959-4d3f-bff8-db4a22581a8f\">\n",
              "    <div class=\"colab-df-container\">\n",
              "      <div>\n",
              "<style scoped>\n",
              "    .dataframe tbody tr th:only-of-type {\n",
              "        vertical-align: middle;\n",
              "    }\n",
              "\n",
              "    .dataframe tbody tr th {\n",
              "        vertical-align: top;\n",
              "    }\n",
              "\n",
              "    .dataframe thead th {\n",
              "        text-align: right;\n",
              "    }\n",
              "</style>\n",
              "<table border=\"1\" class=\"dataframe\">\n",
              "  <thead>\n",
              "    <tr style=\"text-align: right;\">\n",
              "      <th></th>\n",
              "      <th>city</th>\n",
              "      <th>ratings_given</th>\n",
              "    </tr>\n",
              "  </thead>\n",
              "  <tbody>\n",
              "    <tr>\n",
              "      <th>1</th>\n",
              "      <td>Delhi</td>\n",
              "      <td>3.779015</td>\n",
              "    </tr>\n",
              "    <tr>\n",
              "      <th>2</th>\n",
              "      <td>Hyderabad</td>\n",
              "      <td>3.661132</td>\n",
              "    </tr>\n",
              "    <tr>\n",
              "      <th>3</th>\n",
              "      <td>Mumbai</td>\n",
              "      <td>3.650455</td>\n",
              "    </tr>\n",
              "    <tr>\n",
              "      <th>0</th>\n",
              "      <td>Bangalore</td>\n",
              "      <td>3.407681</td>\n",
              "    </tr>\n",
              "  </tbody>\n",
              "</table>\n",
              "</div>\n",
              "      <button class=\"colab-df-convert\" onclick=\"convertToInteractive('df-14527d81-b959-4d3f-bff8-db4a22581a8f')\"\n",
              "              title=\"Convert this dataframe to an interactive table.\"\n",
              "              style=\"display:none;\">\n",
              "        \n",
              "  <svg xmlns=\"http://www.w3.org/2000/svg\" height=\"24px\"viewBox=\"0 0 24 24\"\n",
              "       width=\"24px\">\n",
              "    <path d=\"M0 0h24v24H0V0z\" fill=\"none\"/>\n",
              "    <path d=\"M18.56 5.44l.94 2.06.94-2.06 2.06-.94-2.06-.94-.94-2.06-.94 2.06-2.06.94zm-11 1L8.5 8.5l.94-2.06 2.06-.94-2.06-.94L8.5 2.5l-.94 2.06-2.06.94zm10 10l.94 2.06.94-2.06 2.06-.94-2.06-.94-.94-2.06-.94 2.06-2.06.94z\"/><path d=\"M17.41 7.96l-1.37-1.37c-.4-.4-.92-.59-1.43-.59-.52 0-1.04.2-1.43.59L10.3 9.45l-7.72 7.72c-.78.78-.78 2.05 0 2.83L4 21.41c.39.39.9.59 1.41.59.51 0 1.02-.2 1.41-.59l7.78-7.78 2.81-2.81c.8-.78.8-2.07 0-2.86zM5.41 20L4 18.59l7.72-7.72 1.47 1.35L5.41 20z\"/>\n",
              "  </svg>\n",
              "      </button>\n",
              "      \n",
              "  <style>\n",
              "    .colab-df-container {\n",
              "      display:flex;\n",
              "      flex-wrap:wrap;\n",
              "      gap: 12px;\n",
              "    }\n",
              "\n",
              "    .colab-df-convert {\n",
              "      background-color: #E8F0FE;\n",
              "      border: none;\n",
              "      border-radius: 50%;\n",
              "      cursor: pointer;\n",
              "      display: none;\n",
              "      fill: #1967D2;\n",
              "      height: 32px;\n",
              "      padding: 0 0 0 0;\n",
              "      width: 32px;\n",
              "    }\n",
              "\n",
              "    .colab-df-convert:hover {\n",
              "      background-color: #E2EBFA;\n",
              "      box-shadow: 0px 1px 2px rgba(60, 64, 67, 0.3), 0px 1px 3px 1px rgba(60, 64, 67, 0.15);\n",
              "      fill: #174EA6;\n",
              "    }\n",
              "\n",
              "    [theme=dark] .colab-df-convert {\n",
              "      background-color: #3B4455;\n",
              "      fill: #D2E3FC;\n",
              "    }\n",
              "\n",
              "    [theme=dark] .colab-df-convert:hover {\n",
              "      background-color: #434B5C;\n",
              "      box-shadow: 0px 1px 3px 1px rgba(0, 0, 0, 0.15);\n",
              "      filter: drop-shadow(0px 1px 2px rgba(0, 0, 0, 0.3));\n",
              "      fill: #FFFFFF;\n",
              "    }\n",
              "  </style>\n",
              "\n",
              "      <script>\n",
              "        const buttonEl =\n",
              "          document.querySelector('#df-14527d81-b959-4d3f-bff8-db4a22581a8f button.colab-df-convert');\n",
              "        buttonEl.style.display =\n",
              "          google.colab.kernel.accessAllowed ? 'block' : 'none';\n",
              "\n",
              "        async function convertToInteractive(key) {\n",
              "          const element = document.querySelector('#df-14527d81-b959-4d3f-bff8-db4a22581a8f');\n",
              "          const dataTable =\n",
              "            await google.colab.kernel.invokeFunction('convertToInteractive',\n",
              "                                                     [key], {});\n",
              "          if (!dataTable) return;\n",
              "\n",
              "          const docLinkHtml = 'Like what you see? Visit the ' +\n",
              "            '<a target=\"_blank\" href=https://colab.research.google.com/notebooks/data_table.ipynb>data table notebook</a>'\n",
              "            + ' to learn more about interactive tables.';\n",
              "          element.innerHTML = '';\n",
              "          dataTable['output_type'] = 'display_data';\n",
              "          await google.colab.output.renderOutput(dataTable, element);\n",
              "          const docLink = document.createElement('div');\n",
              "          docLink.innerHTML = docLinkHtml;\n",
              "          element.appendChild(docLink);\n",
              "        }\n",
              "      </script>\n",
              "    </div>\n",
              "  </div>\n",
              "  "
            ]
          },
          "metadata": {},
          "execution_count": 561
        }
      ]
    },
    {
      "cell_type": "code",
      "source": [
        "# Plotting\n",
        "plt.figure(figsize=(11,4))\n",
        "plot = sns.barplot(y='city', x='ratings_given', data = ratings_by_city)\n",
        "plt.xlabel('Ratings')\n",
        "plt.ylabel('City')\n",
        "plt.title('Ratings from diff Cities')\n",
        "plt.show()"
      ],
      "metadata": {
        "colab": {
          "base_uri": "https://localhost:8080/",
          "height": 295
        },
        "outputId": "981a3563-a724-4612-b18e-6668d99f221b",
        "id": "HZZvXPz68m4l"
      },
      "execution_count": 562,
      "outputs": [
        {
          "output_type": "display_data",
          "data": {
            "text/plain": [
              "<Figure size 792x288 with 1 Axes>"
            ],
            "image/png": "[encoded data removed]"
          },
          "metadata": {
            "needs_background": "light"
          }
        }
      ]
    },
    {
      "cell_type": "markdown",
      "source": [
        "### Revenue generated"
      ],
      "metadata": {
        "id": "DfDd1XfzeK7k"
      }
    },
    {
      "cell_type": "markdown",
      "source": [
        "#### Revenue by Property Name"
      ],
      "metadata": {
        "id": "CG6ZLSlieWii"
      }
    },
    {
      "cell_type": "code",
      "source": [
        "revenue_by_property = df.groupby('property_name')['revenue_realized'].sum().sort_values()\n",
        "revenue_by_property"
      ],
      "metadata": {
        "id": "YA7ttjX5epWt",
        "colab": {
          "base_uri": "https://localhost:8080/"
        },
        "outputId": "b419569e-3f75-4384-d727-c3734c4a8e5f"
      },
      "execution_count": 568,
      "outputs": [
        {
          "output_type": "execute_result",
          "data": {
            "text/plain": [
              "property_name\n",
              "Atliq Seasons     66125495\n",
              "Atliq Grands     211532764\n",
              "Atliq Bay        260051178\n",
              "Atliq Blu        260855522\n",
              "Atliq City       285811939\n",
              "Atliq Palace     304081863\n",
              "Atliq Exotica    320312468\n",
              "Name: revenue_realized, dtype: int64"
            ]
          },
          "metadata": {},
          "execution_count": 568
        }
      ]
    },
    {
      "cell_type": "code",
      "source": [
        "# Plotting\n",
        "plt.figure(figsize=(12,4))\n",
        "plot = sns.barplot(x=revenue_by_property.index, y=revenue_by_property.values)\n",
        "plt.xlabel('Property Name')\n",
        "plt.ylabel('Revenue Generated')\n",
        "plt.title('Revenue Generated by Property Name')\n",
        "plt.xticks(rotation=45)\n",
        "plot.set_yticklabels(['0', '50M', '100M', '150M',\n",
        "                   '200M', '250M', '300M', '350M', '400M'])\n",
        "plt.show()"
      ],
      "metadata": {
        "colab": {
          "base_uri": "https://localhost:8080/",
          "height": 340
        },
        "id": "UeASYjxMeOhc",
        "outputId": "54238d48-b1d3-4866-90e8-0f93d9120181"
      },
      "execution_count": 569,
      "outputs": [
        {
          "output_type": "display_data",
          "data": {
            "text/plain": [
              "<Figure size 864x288 with 1 Axes>"
            ],
            "image/png": "[encoded data removed]"
          },
          "metadata": {
            "needs_background": "light"
          }
        }
      ]
    },
    {
      "cell_type": "markdown",
      "source": [
        "#### Revenue by City"
      ],
      "metadata": {
        "id": "ANaukISFYCAI"
      }
    },
    {
      "cell_type": "code",
      "source": [
        "revenue_by_city = df.groupby('city')['revenue_realized'].sum().sort_values(ascending = False)\n",
        "revenue_by_city"
      ],
      "metadata": {
        "colab": {
          "base_uri": "https://localhost:8080/"
        },
        "outputId": "2a26083e-aa05-4f86-ccce-919e8acdb138",
        "id": "Ix9t7ftWYCAJ"
      },
      "execution_count": 570,
      "outputs": [
        {
          "output_type": "execute_result",
          "data": {
            "text/plain": [
              "city\n",
              "Mumbai       668640991\n",
              "Bangalore    420397050\n",
              "Hyderabad    325232870\n",
              "Delhi        294500318\n",
              "Name: revenue_realized, dtype: int64"
            ]
          },
          "metadata": {},
          "execution_count": 570
        }
      ]
    },
    {
      "cell_type": "code",
      "source": [
        "# Plotting\n",
        "plt.figure(figsize=(11,4))\n",
        "plot = sns.barplot(x = revenue_by_city.values, y = revenue_by_city.index)\n",
        "plt.xlabel('City')\n",
        "plt.ylabel('Revenue Generated')\n",
        "plt.title('Revenue Generated by City')\n",
        "plot.set_xticklabels(['0', '100M', '200M', '300M',\n",
        "                   '400M', '500M', '600M', '700M', '800M'])\n",
        "plt.show()"
      ],
      "metadata": {
        "colab": {
          "base_uri": "https://localhost:8080/",
          "height": 295
        },
        "id": "XXSpdKoZeXH2",
        "outputId": "5aaa554e-ee45-4e14-8318-b4b86ae368d9"
      },
      "execution_count": 571,
      "outputs": [
        {
          "output_type": "display_data",
          "data": {
            "text/plain": [
              "<Figure size 792x288 with 1 Axes>"
            ],
            "image/png": "[encoded data removed]"
          },
          "metadata": {
            "needs_background": "light"
          }
        }
      ]
    },
    {
      "cell_type": "markdown",
      "source": [
        "#### Revenue by Room Class"
      ],
      "metadata": {
        "id": "F8tz1GWRc45w"
      }
    },
    {
      "cell_type": "code",
      "source": [
        "revenue_by_room_class = df.groupby('room_class')['revenue_realized'].sum().reset_index()\n",
        "revenue_by_room_class"
      ],
      "metadata": {
        "colab": {
          "base_uri": "https://localhost:8080/",
          "height": 175
        },
        "outputId": "a572965a-7005-4002-a933-400c754aaa80",
        "id": "9raYBaipc45_"
      },
      "execution_count": 572,
      "outputs": [
        {
          "output_type": "execute_result",
          "data": {
            "text/plain": [
              "     room_class  revenue_realized\n",
              "0         Elite         560271204\n",
              "1       Premium         462166344\n",
              "2  Presidential         376752786\n",
              "3      Standard         309580895"
            ],
            "text/html": [
              "\n",
              "  <div id=\"df-5f68b897-82f8-4a5d-99da-095fade19e4b\">\n",
              "    <div class=\"colab-df-container\">\n",
              "      <div>\n",
              "<style scoped>\n",
              "    .dataframe tbody tr th:only-of-type {\n",
              "        vertical-align: middle;\n",
              "    }\n",
              "\n",
              "    .dataframe tbody tr th {\n",
              "        vertical-align: top;\n",
              "    }\n",
              "\n",
              "    .dataframe thead th {\n",
              "        text-align: right;\n",
              "    }\n",
              "</style>\n",
              "<table border=\"1\" class=\"dataframe\">\n",
              "  <thead>\n",
              "    <tr style=\"text-align: right;\">\n",
              "      <th></th>\n",
              "      <th>room_class</th>\n",
              "      <th>revenue_realized</th>\n",
              "    </tr>\n",
              "  </thead>\n",
              "  <tbody>\n",
              "    <tr>\n",
              "      <th>0</th>\n",
              "      <td>Elite</td>\n",
              "      <td>560271204</td>\n",
              "    </tr>\n",
              "    <tr>\n",
              "      <th>1</th>\n",
              "      <td>Premium</td>\n",
              "      <td>462166344</td>\n",
              "    </tr>\n",
              "    <tr>\n",
              "      <th>2</th>\n",
              "      <td>Presidential</td>\n",
              "      <td>376752786</td>\n",
              "    </tr>\n",
              "    <tr>\n",
              "      <th>3</th>\n",
              "      <td>Standard</td>\n",
              "      <td>309580895</td>\n",
              "    </tr>\n",
              "  </tbody>\n",
              "</table>\n",
              "</div>\n",
              "      <button class=\"colab-df-convert\" onclick=\"convertToInteractive('df-5f68b897-82f8-4a5d-99da-095fade19e4b')\"\n",
              "              title=\"Convert this dataframe to an interactive table.\"\n",
              "              style=\"display:none;\">\n",
              "        \n",
              "  <svg xmlns=\"http://www.w3.org/2000/svg\" height=\"24px\"viewBox=\"0 0 24 24\"\n",
              "       width=\"24px\">\n",
              "    <path d=\"M0 0h24v24H0V0z\" fill=\"none\"/>\n",
              "    <path d=\"M18.56 5.44l.94 2.06.94-2.06 2.06-.94-2.06-.94-.94-2.06-.94 2.06-2.06.94zm-11 1L8.5 8.5l.94-2.06 2.06-.94-2.06-.94L8.5 2.5l-.94 2.06-2.06.94zm10 10l.94 2.06.94-2.06 2.06-.94-2.06-.94-.94-2.06-.94 2.06-2.06.94z\"/><path d=\"M17.41 7.96l-1.37-1.37c-.4-.4-.92-.59-1.43-.59-.52 0-1.04.2-1.43.59L10.3 9.45l-7.72 7.72c-.78.78-.78 2.05 0 2.83L4 21.41c.39.39.9.59 1.41.59.51 0 1.02-.2 1.41-.59l7.78-7.78 2.81-2.81c.8-.78.8-2.07 0-2.86zM5.41 20L4 18.59l7.72-7.72 1.47 1.35L5.41 20z\"/>\n",
              "  </svg>\n",
              "      </button>\n",
              "      \n",
              "  <style>\n",
              "    .colab-df-container {\n",
              "      display:flex;\n",
              "      flex-wrap:wrap;\n",
              "      gap: 12px;\n",
              "    }\n",
              "\n",
              "    .colab-df-convert {\n",
              "      background-color: #E8F0FE;\n",
              "      border: none;\n",
              "      border-radius: 50%;\n",
              "      cursor: pointer;\n",
              "      display: none;\n",
              "      fill: #1967D2;\n",
              "      height: 32px;\n",
              "      padding: 0 0 0 0;\n",
              "      width: 32px;\n",
              "    }\n",
              "\n",
              "    .colab-df-convert:hover {\n",
              "      background-color: #E2EBFA;\n",
              "      box-shadow: 0px 1px 2px rgba(60, 64, 67, 0.3), 0px 1px 3px 1px rgba(60, 64, 67, 0.15);\n",
              "      fill: #174EA6;\n",
              "    }\n",
              "\n",
              "    [theme=dark] .colab-df-convert {\n",
              "      background-color: #3B4455;\n",
              "      fill: #D2E3FC;\n",
              "    }\n",
              "\n",
              "    [theme=dark] .colab-df-convert:hover {\n",
              "      background-color: #434B5C;\n",
              "      box-shadow: 0px 1px 3px 1px rgba(0, 0, 0, 0.15);\n",
              "      filter: drop-shadow(0px 1px 2px rgba(0, 0, 0, 0.3));\n",
              "      fill: #FFFFFF;\n",
              "    }\n",
              "  </style>\n",
              "\n",
              "      <script>\n",
              "        const buttonEl =\n",
              "          document.querySelector('#df-5f68b897-82f8-4a5d-99da-095fade19e4b button.colab-df-convert');\n",
              "        buttonEl.style.display =\n",
              "          google.colab.kernel.accessAllowed ? 'block' : 'none';\n",
              "\n",
              "        async function convertToInteractive(key) {\n",
              "          const element = document.querySelector('#df-5f68b897-82f8-4a5d-99da-095fade19e4b');\n",
              "          const dataTable =\n",
              "            await google.colab.kernel.invokeFunction('convertToInteractive',\n",
              "                                                     [key], {});\n",
              "          if (!dataTable) return;\n",
              "\n",
              "          const docLinkHtml = 'Like what you see? Visit the ' +\n",
              "            '<a target=\"_blank\" href=https://colab.research.google.com/notebooks/data_table.ipynb>data table notebook</a>'\n",
              "            + ' to learn more about interactive tables.';\n",
              "          element.innerHTML = '';\n",
              "          dataTable['output_type'] = 'display_data';\n",
              "          await google.colab.output.renderOutput(dataTable, element);\n",
              "          const docLink = document.createElement('div');\n",
              "          docLink.innerHTML = docLinkHtml;\n",
              "          element.appendChild(docLink);\n",
              "        }\n",
              "      </script>\n",
              "    </div>\n",
              "  </div>\n",
              "  "
            ]
          },
          "metadata": {},
          "execution_count": 572
        }
      ]
    },
    {
      "cell_type": "code",
      "source": [
        "# Plotting\n",
        "plt.figure(figsize=(11,4))\n",
        "plot = sns.barplot(y = revenue_by_room_class['room_class'], x = revenue_by_room_class['revenue_realized'])\n",
        "plt.xlabel('Room Class')\n",
        "plt.ylabel('Revenue')\n",
        "plt.title('Revenue by Room Class')\n",
        "plot.set_xticklabels(['0', '100M', '200M', '300M',\n",
        "                   '400M', '500M', '600M', '700M', '800M'])\n",
        "plt.show()"
      ],
      "metadata": {
        "colab": {
          "base_uri": "https://localhost:8080/",
          "height": 295
        },
        "id": "lt-pgak6d7ZG",
        "outputId": "f1aff528-ebf7-466c-c15a-30bb1d7b214c"
      },
      "execution_count": 573,
      "outputs": [
        {
          "output_type": "display_data",
          "data": {
            "text/plain": [
              "<Figure size 792x288 with 1 Axes>"
            ],
            "image/png": "[encoded data removed]"
          },
          "metadata": {
            "needs_background": "light"
          }
        }
      ]
    },
    {
      "cell_type": "markdown",
      "source": [
        "#### Revenue by Month"
      ],
      "metadata": {
        "id": "kiWkidP-lwtN"
      }
    },
    {
      "cell_type": "code",
      "source": [
        "revenue_by_month = df.groupby('mmm yy')['revenue_realized'].sum().reset_index()\n",
        "revenue_by_month"
      ],
      "metadata": {
        "colab": {
          "base_uri": "https://localhost:8080/",
          "height": 143
        },
        "outputId": "41b43d55-7716-429b-fc4a-cf2dc6987673",
        "id": "D9sbVX5GlwtX"
      },
      "execution_count": 574,
      "outputs": [
        {
          "output_type": "execute_result",
          "data": {
            "text/plain": [
              "   mmm yy  revenue_realized\n",
              "0  Jul 22         572908208\n",
              "1  Jun 22         553932355\n",
              "2  May 22         581930666"
            ],
            "text/html": [
              "\n",
              "  <div id=\"df-16502a06-aca2-484b-a8e8-9ce54ebc8245\">\n",
              "    <div class=\"colab-df-container\">\n",
              "      <div>\n",
              "<style scoped>\n",
              "    .dataframe tbody tr th:only-of-type {\n",
              "        vertical-align: middle;\n",
              "    }\n",
              "\n",
              "    .dataframe tbody tr th {\n",
              "        vertical-align: top;\n",
              "    }\n",
              "\n",
              "    .dataframe thead th {\n",
              "        text-align: right;\n",
              "    }\n",
              "</style>\n",
              "<table border=\"1\" class=\"dataframe\">\n",
              "  <thead>\n",
              "    <tr style=\"text-align: right;\">\n",
              "      <th></th>\n",
              "      <th>mmm yy</th>\n",
              "      <th>revenue_realized</th>\n",
              "    </tr>\n",
              "  </thead>\n",
              "  <tbody>\n",
              "    <tr>\n",
              "      <th>0</th>\n",
              "      <td>Jul 22</td>\n",
              "      <td>572908208</td>\n",
              "    </tr>\n",
              "    <tr>\n",
              "      <th>1</th>\n",
              "      <td>Jun 22</td>\n",
              "      <td>553932355</td>\n",
              "    </tr>\n",
              "    <tr>\n",
              "      <th>2</th>\n",
              "      <td>May 22</td>\n",
              "      <td>581930666</td>\n",
              "    </tr>\n",
              "  </tbody>\n",
              "</table>\n",
              "</div>\n",
              "      <button class=\"colab-df-convert\" onclick=\"convertToInteractive('df-16502a06-aca2-484b-a8e8-9ce54ebc8245')\"\n",
              "              title=\"Convert this dataframe to an interactive table.\"\n",
              "              style=\"display:none;\">\n",
              "        \n",
              "  <svg xmlns=\"http://www.w3.org/2000/svg\" height=\"24px\"viewBox=\"0 0 24 24\"\n",
              "       width=\"24px\">\n",
              "    <path d=\"M0 0h24v24H0V0z\" fill=\"none\"/>\n",
              "    <path d=\"M18.56 5.44l.94 2.06.94-2.06 2.06-.94-2.06-.94-.94-2.06-.94 2.06-2.06.94zm-11 1L8.5 8.5l.94-2.06 2.06-.94-2.06-.94L8.5 2.5l-.94 2.06-2.06.94zm10 10l.94 2.06.94-2.06 2.06-.94-2.06-.94-.94-2.06-.94 2.06-2.06.94z\"/><path d=\"M17.41 7.96l-1.37-1.37c-.4-.4-.92-.59-1.43-.59-.52 0-1.04.2-1.43.59L10.3 9.45l-7.72 7.72c-.78.78-.78 2.05 0 2.83L4 21.41c.39.39.9.59 1.41.59.51 0 1.02-.2 1.41-.59l7.78-7.78 2.81-2.81c.8-.78.8-2.07 0-2.86zM5.41 20L4 18.59l7.72-7.72 1.47 1.35L5.41 20z\"/>\n",
              "  </svg>\n",
              "      </button>\n",
              "      \n",
              "  <style>\n",
              "    .colab-df-container {\n",
              "      display:flex;\n",
              "      flex-wrap:wrap;\n",
              "      gap: 12px;\n",
              "    }\n",
              "\n",
              "    .colab-df-convert {\n",
              "      background-color: #E8F0FE;\n",
              "      border: none;\n",
              "      border-radius: 50%;\n",
              "      cursor: pointer;\n",
              "      display: none;\n",
              "      fill: #1967D2;\n",
              "      height: 32px;\n",
              "      padding: 0 0 0 0;\n",
              "      width: 32px;\n",
              "    }\n",
              "\n",
              "    .colab-df-convert:hover {\n",
              "      background-color: #E2EBFA;\n",
              "      box-shadow: 0px 1px 2px rgba(60, 64, 67, 0.3), 0px 1px 3px 1px rgba(60, 64, 67, 0.15);\n",
              "      fill: #174EA6;\n",
              "    }\n",
              "\n",
              "    [theme=dark] .colab-df-convert {\n",
              "      background-color: #3B4455;\n",
              "      fill: #D2E3FC;\n",
              "    }\n",
              "\n",
              "    [theme=dark] .colab-df-convert:hover {\n",
              "      background-color: #434B5C;\n",
              "      box-shadow: 0px 1px 3px 1px rgba(0, 0, 0, 0.15);\n",
              "      filter: drop-shadow(0px 1px 2px rgba(0, 0, 0, 0.3));\n",
              "      fill: #FFFFFF;\n",
              "    }\n",
              "  </style>\n",
              "\n",
              "      <script>\n",
              "        const buttonEl =\n",
              "          document.querySelector('#df-16502a06-aca2-484b-a8e8-9ce54ebc8245 button.colab-df-convert');\n",
              "        buttonEl.style.display =\n",
              "          google.colab.kernel.accessAllowed ? 'block' : 'none';\n",
              "\n",
              "        async function convertToInteractive(key) {\n",
              "          const element = document.querySelector('#df-16502a06-aca2-484b-a8e8-9ce54ebc8245');\n",
              "          const dataTable =\n",
              "            await google.colab.kernel.invokeFunction('convertToInteractive',\n",
              "                                                     [key], {});\n",
              "          if (!dataTable) return;\n",
              "\n",
              "          const docLinkHtml = 'Like what you see? Visit the ' +\n",
              "            '<a target=\"_blank\" href=https://colab.research.google.com/notebooks/data_table.ipynb>data table notebook</a>'\n",
              "            + ' to learn more about interactive tables.';\n",
              "          element.innerHTML = '';\n",
              "          dataTable['output_type'] = 'display_data';\n",
              "          await google.colab.output.renderOutput(dataTable, element);\n",
              "          const docLink = document.createElement('div');\n",
              "          docLink.innerHTML = docLinkHtml;\n",
              "          element.appendChild(docLink);\n",
              "        }\n",
              "      </script>\n",
              "    </div>\n",
              "  </div>\n",
              "  "
            ]
          },
          "metadata": {},
          "execution_count": 574
        }
      ]
    },
    {
      "cell_type": "code",
      "source": [
        "# Plotting\n",
        "plt.figure(figsize=(8,8))\n",
        "plt.pie(revenue_by_month['revenue_realized'], labels=revenue_by_month['mmm yy'],\n",
        "        autopct='%1.2f%%', shadow = True, pctdistance=0.5)\n",
        "my_circle=plt.Circle( (0,0), 0.7, color='white')\n",
        "p=plt.gcf()\n",
        "p.gca().add_artist(my_circle)\n",
        "plt.title('Revenue by Month')\n",
        "plt.show()"
      ],
      "metadata": {
        "colab": {
          "base_uri": "https://localhost:8080/",
          "height": 482
        },
        "outputId": "3d68f6ab-c19e-47f1-ab75-1f08a0e1f30e",
        "id": "TYX8VSrZlwtY"
      },
      "execution_count": 575,
      "outputs": [
        {
          "output_type": "display_data",
          "data": {
            "text/plain": [
              "<Figure size 576x576 with 1 Axes>"
            ],
            "image/png": "[encoded data removed]"
          },
          "metadata": {}
        }
      ]
    },
    {
      "cell_type": "markdown",
      "source": [
        "#### Revenue by Week"
      ],
      "metadata": {
        "id": "3kTQyckEopZd"
      }
    },
    {
      "cell_type": "code",
      "source": [
        "revenue_by_week = df.groupby('week no')['revenue_realized'].sum().reset_index()\n",
        "revenue_by_week"
      ],
      "metadata": {
        "colab": {
          "base_uri": "https://localhost:8080/",
          "height": 488
        },
        "outputId": "e23af38b-b7fc-4a7e-e685-bffab92e61c5",
        "id": "w64AvmOUopZp"
      },
      "execution_count": 576,
      "outputs": [
        {
          "output_type": "execute_result",
          "data": {
            "text/plain": [
              "    week no  revenue_realized\n",
              "0        19         138182064\n",
              "1        20         139435920\n",
              "2        21         114922175\n",
              "3        22         138720126\n",
              "4        23         115568569\n",
              "5        24         139581703\n",
              "6        25         138674279\n",
              "7        26         114152421\n",
              "8        27         139555632\n",
              "9        28         139383916\n",
              "10       29         139730590\n",
              "11       30         114811148\n",
              "12       31         115042325\n",
              "13       32          21010361"
            ],
            "text/html": [
              "\n",
              "  <div id=\"df-dcb4e8e0-de67-4640-89b9-7db9b26aff6d\">\n",
              "    <div class=\"colab-df-container\">\n",
              "      <div>\n",
              "<style scoped>\n",
              "    .dataframe tbody tr th:only-of-type {\n",
              "        vertical-align: middle;\n",
              "    }\n",
              "\n",
              "    .dataframe tbody tr th {\n",
              "        vertical-align: top;\n",
              "    }\n",
              "\n",
              "    .dataframe thead th {\n",
              "        text-align: right;\n",
              "    }\n",
              "</style>\n",
              "<table border=\"1\" class=\"dataframe\">\n",
              "  <thead>\n",
              "    <tr style=\"text-align: right;\">\n",
              "      <th></th>\n",
              "      <th>week no</th>\n",
              "      <th>revenue_realized</th>\n",
              "    </tr>\n",
              "  </thead>\n",
              "  <tbody>\n",
              "    <tr>\n",
              "      <th>0</th>\n",
              "      <td>19</td>\n",
              "      <td>138182064</td>\n",
              "    </tr>\n",
              "    <tr>\n",
              "      <th>1</th>\n",
              "      <td>20</td>\n",
              "      <td>139435920</td>\n",
              "    </tr>\n",
              "    <tr>\n",
              "      <th>2</th>\n",
              "      <td>21</td>\n",
              "      <td>114922175</td>\n",
              "    </tr>\n",
              "    <tr>\n",
              "      <th>3</th>\n",
              "      <td>22</td>\n",
              "      <td>138720126</td>\n",
              "    </tr>\n",
              "    <tr>\n",
              "      <th>4</th>\n",
              "      <td>23</td>\n",
              "      <td>115568569</td>\n",
              "    </tr>\n",
              "    <tr>\n",
              "      <th>5</th>\n",
              "      <td>24</td>\n",
              "      <td>139581703</td>\n",
              "    </tr>\n",
              "    <tr>\n",
              "      <th>6</th>\n",
              "      <td>25</td>\n",
              "      <td>138674279</td>\n",
              "    </tr>\n",
              "    <tr>\n",
              "      <th>7</th>\n",
              "      <td>26</td>\n",
              "      <td>114152421</td>\n",
              "    </tr>\n",
              "    <tr>\n",
              "      <th>8</th>\n",
              "      <td>27</td>\n",
              "      <td>139555632</td>\n",
              "    </tr>\n",
              "    <tr>\n",
              "      <th>9</th>\n",
              "      <td>28</td>\n",
              "      <td>139383916</td>\n",
              "    </tr>\n",
              "    <tr>\n",
              "      <th>10</th>\n",
              "      <td>29</td>\n",
              "      <td>139730590</td>\n",
              "    </tr>\n",
              "    <tr>\n",
              "      <th>11</th>\n",
              "      <td>30</td>\n",
              "      <td>114811148</td>\n",
              "    </tr>\n",
              "    <tr>\n",
              "      <th>12</th>\n",
              "      <td>31</td>\n",
              "      <td>115042325</td>\n",
              "    </tr>\n",
              "    <tr>\n",
              "      <th>13</th>\n",
              "      <td>32</td>\n",
              "      <td>21010361</td>\n",
              "    </tr>\n",
              "  </tbody>\n",
              "</table>\n",
              "</div>\n",
              "      <button class=\"colab-df-convert\" onclick=\"convertToInteractive('df-dcb4e8e0-de67-4640-89b9-7db9b26aff6d')\"\n",
              "              title=\"Convert this dataframe to an interactive table.\"\n",
              "              style=\"display:none;\">\n",
              "        \n",
              "  <svg xmlns=\"http://www.w3.org/2000/svg\" height=\"24px\"viewBox=\"0 0 24 24\"\n",
              "       width=\"24px\">\n",
              "    <path d=\"M0 0h24v24H0V0z\" fill=\"none\"/>\n",
              "    <path d=\"M18.56 5.44l.94 2.06.94-2.06 2.06-.94-2.06-.94-.94-2.06-.94 2.06-2.06.94zm-11 1L8.5 8.5l.94-2.06 2.06-.94-2.06-.94L8.5 2.5l-.94 2.06-2.06.94zm10 10l.94 2.06.94-2.06 2.06-.94-2.06-.94-.94-2.06-.94 2.06-2.06.94z\"/><path d=\"M17.41 7.96l-1.37-1.37c-.4-.4-.92-.59-1.43-.59-.52 0-1.04.2-1.43.59L10.3 9.45l-7.72 7.72c-.78.78-.78 2.05 0 2.83L4 21.41c.39.39.9.59 1.41.59.51 0 1.02-.2 1.41-.59l7.78-7.78 2.81-2.81c.8-.78.8-2.07 0-2.86zM5.41 20L4 18.59l7.72-7.72 1.47 1.35L5.41 20z\"/>\n",
              "  </svg>\n",
              "      </button>\n",
              "      \n",
              "  <style>\n",
              "    .colab-df-container {\n",
              "      display:flex;\n",
              "      flex-wrap:wrap;\n",
              "      gap: 12px;\n",
              "    }\n",
              "\n",
              "    .colab-df-convert {\n",
              "      background-color: #E8F0FE;\n",
              "      border: none;\n",
              "      border-radius: 50%;\n",
              "      cursor: pointer;\n",
              "      display: none;\n",
              "      fill: #1967D2;\n",
              "      height: 32px;\n",
              "      padding: 0 0 0 0;\n",
              "      width: 32px;\n",
              "    }\n",
              "\n",
              "    .colab-df-convert:hover {\n",
              "      background-color: #E2EBFA;\n",
              "      box-shadow: 0px 1px 2px rgba(60, 64, 67, 0.3), 0px 1px 3px 1px rgba(60, 64, 67, 0.15);\n",
              "      fill: #174EA6;\n",
              "    }\n",
              "\n",
              "    [theme=dark] .colab-df-convert {\n",
              "      background-color: #3B4455;\n",
              "      fill: #D2E3FC;\n",
              "    }\n",
              "\n",
              "    [theme=dark] .colab-df-convert:hover {\n",
              "      background-color: #434B5C;\n",
              "      box-shadow: 0px 1px 3px 1px rgba(0, 0, 0, 0.15);\n",
              "      filter: drop-shadow(0px 1px 2px rgba(0, 0, 0, 0.3));\n",
              "      fill: #FFFFFF;\n",
              "    }\n",
              "  </style>\n",
              "\n",
              "      <script>\n",
              "        const buttonEl =\n",
              "          document.querySelector('#df-dcb4e8e0-de67-4640-89b9-7db9b26aff6d button.colab-df-convert');\n",
              "        buttonEl.style.display =\n",
              "          google.colab.kernel.accessAllowed ? 'block' : 'none';\n",
              "\n",
              "        async function convertToInteractive(key) {\n",
              "          const element = document.querySelector('#df-dcb4e8e0-de67-4640-89b9-7db9b26aff6d');\n",
              "          const dataTable =\n",
              "            await google.colab.kernel.invokeFunction('convertToInteractive',\n",
              "                                                     [key], {});\n",
              "          if (!dataTable) return;\n",
              "\n",
              "          const docLinkHtml = 'Like what you see? Visit the ' +\n",
              "            '<a target=\"_blank\" href=https://colab.research.google.com/notebooks/data_table.ipynb>data table notebook</a>'\n",
              "            + ' to learn more about interactive tables.';\n",
              "          element.innerHTML = '';\n",
              "          dataTable['output_type'] = 'display_data';\n",
              "          await google.colab.output.renderOutput(dataTable, element);\n",
              "          const docLink = document.createElement('div');\n",
              "          docLink.innerHTML = docLinkHtml;\n",
              "          element.appendChild(docLink);\n",
              "        }\n",
              "      </script>\n",
              "    </div>\n",
              "  </div>\n",
              "  "
            ]
          },
          "metadata": {},
          "execution_count": 576
        }
      ]
    },
    {
      "cell_type": "code",
      "source": [
        "# Plotting\n",
        "plt.figure(figsize=(8,8))\n",
        "plt.pie(revenue_by_week['revenue_realized'], labels=revenue_by_week['week no'],\n",
        "        explode = (np.ones(14)*0.03), autopct='%1.2f%%', shadow = False, pctdistance=0.5)\n",
        "my_circle=plt.Circle((0,0), 0.7, color='white')\n",
        "p=plt.gcf()\n",
        "p.gca().add_artist(my_circle)\n",
        "plt.title('Revenue by Week')\n",
        "plt.show()"
      ],
      "metadata": {
        "colab": {
          "base_uri": "https://localhost:8080/",
          "height": 482
        },
        "outputId": "1a406914-2491-4699-dae5-c31f5cb11743",
        "id": "EEiNSumeopZq"
      },
      "execution_count": 577,
      "outputs": [
        {
          "output_type": "display_data",
          "data": {
            "text/plain": [
              "<Figure size 576x576 with 1 Axes>"
            ],
            "image/png": "[encoded data removed]"
          },
          "metadata": {}
        }
      ]
    },
    {
      "cell_type": "markdown",
      "source": [
        "#### Revenue by Property Name with categorized by Room Class"
      ],
      "metadata": {
        "id": "WMwYJkUevlNH"
      }
    },
    {
      "cell_type": "code",
      "source": [
        "revenue_by_prop_cat_room = df.groupby(['property_name','room_class'])['revenue_realized'].sum().reset_index()\n",
        "revenue_by_prop_cat_room"
      ],
      "metadata": {
        "colab": {
          "base_uri": "https://localhost:8080/",
          "height": 927
        },
        "outputId": "ce8aa0a9-c2e5-441a-eae5-8837b9ebc6e9",
        "id": "ykKhHbkKvlNH"
      },
      "execution_count": 578,
      "outputs": [
        {
          "output_type": "execute_result",
          "data": {
            "text/plain": [
              "    property_name    room_class  revenue_realized\n",
              "0       Atliq Bay         Elite          72598410\n",
              "1       Atliq Bay       Premium          80266656\n",
              "2       Atliq Bay  Presidential          58234924\n",
              "3       Atliq Bay      Standard          48951188\n",
              "4       Atliq Blu         Elite          91225314\n",
              "5       Atliq Blu       Premium          79465008\n",
              "6       Atliq Blu  Presidential          39347784\n",
              "7       Atliq Blu      Standard          50817416\n",
              "8      Atliq City         Elite          93864618\n",
              "9      Atliq City       Premium          69790632\n",
              "10     Atliq City  Presidential          65959184\n",
              "11     Atliq City      Standard          56197505\n",
              "12  Atliq Exotica         Elite         103852908\n",
              "13  Atliq Exotica       Premium          85521960\n",
              "14  Atliq Exotica  Presidential          74271874\n",
              "15  Atliq Exotica      Standard          56665726\n",
              "16   Atliq Grands         Elite          78041070\n",
              "17   Atliq Grands       Premium          58552152\n",
              "18   Atliq Grands  Presidential          38403978\n",
              "19   Atliq Grands      Standard          36535564\n",
              "20   Atliq Palace         Elite          98594766\n",
              "21   Atliq Palace       Premium          70599576\n",
              "22   Atliq Palace  Presidential          80767442\n",
              "23   Atliq Palace      Standard          54120079\n",
              "24  Atliq Seasons         Elite          22094118\n",
              "25  Atliq Seasons       Premium          17970360\n",
              "26  Atliq Seasons  Presidential          19767600\n",
              "27  Atliq Seasons      Standard           6293417"
            ],
            "text/html": [
              "\n",
              "  <div id=\"df-96462591-f665-48f5-9fad-c4e710f3b124\">\n",
              "    <div class=\"colab-df-container\">\n",
              "      <div>\n",
              "<style scoped>\n",
              "    .dataframe tbody tr th:only-of-type {\n",
              "        vertical-align: middle;\n",
              "    }\n",
              "\n",
              "    .dataframe tbody tr th {\n",
              "        vertical-align: top;\n",
              "    }\n",
              "\n",
              "    .dataframe thead th {\n",
              "        text-align: right;\n",
              "    }\n",
              "</style>\n",
              "<table border=\"1\" class=\"dataframe\">\n",
              "  <thead>\n",
              "    <tr style=\"text-align: right;\">\n",
              "      <th></th>\n",
              "      <th>property_name</th>\n",
              "      <th>room_class</th>\n",
              "      <th>revenue_realized</th>\n",
              "    </tr>\n",
              "  </thead>\n",
              "  <tbody>\n",
              "    <tr>\n",
              "      <th>0</th>\n",
              "      <td>Atliq Bay</td>\n",
              "      <td>Elite</td>\n",
              "      <td>72598410</td>\n",
              "    </tr>\n",
              "    <tr>\n",
              "      <th>1</th>\n",
              "      <td>Atliq Bay</td>\n",
              "      <td>Premium</td>\n",
              "      <td>80266656</td>\n",
              "    </tr>\n",
              "    <tr>\n",
              "      <th>2</th>\n",
              "      <td>Atliq Bay</td>\n",
              "      <td>Presidential</td>\n",
              "      <td>58234924</td>\n",
              "    </tr>\n",
              "    <tr>\n",
              "      <th>3</th>\n",
              "      <td>Atliq Bay</td>\n",
              "      <td>Standard</td>\n",
              "      <td>48951188</td>\n",
              "    </tr>\n",
              "    <tr>\n",
              "      <th>4</th>\n",
              "      <td>Atliq Blu</td>\n",
              "      <td>Elite</td>\n",
              "      <td>91225314</td>\n",
              "    </tr>\n",
              "    <tr>\n",
              "      <th>5</th>\n",
              "      <td>Atliq Blu</td>\n",
              "      <td>Premium</td>\n",
              "      <td>79465008</td>\n",
              "    </tr>\n",
              "    <tr>\n",
              "      <th>6</th>\n",
              "      <td>Atliq Blu</td>\n",
              "      <td>Presidential</td>\n",
              "      <td>39347784</td>\n",
              "    </tr>\n",
              "    <tr>\n",
              "      <th>7</th>\n",
              "      <td>Atliq Blu</td>\n",
              "      <td>Standard</td>\n",
              "      <td>50817416</td>\n",
              "    </tr>\n",
              "    <tr>\n",
              "      <th>8</th>\n",
              "      <td>Atliq City</td>\n",
              "      <td>Elite</td>\n",
              "      <td>93864618</td>\n",
              "    </tr>\n",
              "    <tr>\n",
              "      <th>9</th>\n",
              "      <td>Atliq City</td>\n",
              "      <td>Premium</td>\n",
              "      <td>69790632</td>\n",
              "    </tr>\n",
              "    <tr>\n",
              "      <th>10</th>\n",
              "      <td>Atliq City</td>\n",
              "      <td>Presidential</td>\n",
              "      <td>65959184</td>\n",
              "    </tr>\n",
              "    <tr>\n",
              "      <th>11</th>\n",
              "      <td>Atliq City</td>\n",
              "      <td>Standard</td>\n",
              "      <td>56197505</td>\n",
              "    </tr>\n",
              "    <tr>\n",
              "      <th>12</th>\n",
              "      <td>Atliq Exotica</td>\n",
              "      <td>Elite</td>\n",
              "      <td>103852908</td>\n",
              "    </tr>\n",
              "    <tr>\n",
              "      <th>13</th>\n",
              "      <td>Atliq Exotica</td>\n",
              "      <td>Premium</td>\n",
              "      <td>85521960</td>\n",
              "    </tr>\n",
              "    <tr>\n",
              "      <th>14</th>\n",
              "      <td>Atliq Exotica</td>\n",
              "      <td>Presidential</td>\n",
              "      <td>74271874</td>\n",
              "    </tr>\n",
              "    <tr>\n",
              "      <th>15</th>\n",
              "      <td>Atliq Exotica</td>\n",
              "      <td>Standard</td>\n",
              "      <td>56665726</td>\n",
              "    </tr>\n",
              "    <tr>\n",
              "      <th>16</th>\n",
              "      <td>Atliq Grands</td>\n",
              "      <td>Elite</td>\n",
              "      <td>78041070</td>\n",
              "    </tr>\n",
              "    <tr>\n",
              "      <th>17</th>\n",
              "      <td>Atliq Grands</td>\n",
              "      <td>Premium</td>\n",
              "      <td>58552152</td>\n",
              "    </tr>\n",
              "    <tr>\n",
              "      <th>18</th>\n",
              "      <td>Atliq Grands</td>\n",
              "      <td>Presidential</td>\n",
              "      <td>38403978</td>\n",
              "    </tr>\n",
              "    <tr>\n",
              "      <th>19</th>\n",
              "      <td>Atliq Grands</td>\n",
              "      <td>Standard</td>\n",
              "      <td>36535564</td>\n",
              "    </tr>\n",
              "    <tr>\n",
              "      <th>20</th>\n",
              "      <td>Atliq Palace</td>\n",
              "      <td>Elite</td>\n",
              "      <td>98594766</td>\n",
              "    </tr>\n",
              "    <tr>\n",
              "      <th>21</th>\n",
              "      <td>Atliq Palace</td>\n",
              "      <td>Premium</td>\n",
              "      <td>70599576</td>\n",
              "    </tr>\n",
              "    <tr>\n",
              "      <th>22</th>\n",
              "      <td>Atliq Palace</td>\n",
              "      <td>Presidential</td>\n",
              "      <td>80767442</td>\n",
              "    </tr>\n",
              "    <tr>\n",
              "      <th>23</th>\n",
              "      <td>Atliq Palace</td>\n",
              "      <td>Standard</td>\n",
              "      <td>54120079</td>\n",
              "    </tr>\n",
              "    <tr>\n",
              "      <th>24</th>\n",
              "      <td>Atliq Seasons</td>\n",
              "      <td>Elite</td>\n",
              "      <td>22094118</td>\n",
              "    </tr>\n",
              "    <tr>\n",
              "      <th>25</th>\n",
              "      <td>Atliq Seasons</td>\n",
              "      <td>Premium</td>\n",
              "      <td>17970360</td>\n",
              "    </tr>\n",
              "    <tr>\n",
              "      <th>26</th>\n",
              "      <td>Atliq Seasons</td>\n",
              "      <td>Presidential</td>\n",
              "      <td>19767600</td>\n",
              "    </tr>\n",
              "    <tr>\n",
              "      <th>27</th>\n",
              "      <td>Atliq Seasons</td>\n",
              "      <td>Standard</td>\n",
              "      <td>6293417</td>\n",
              "    </tr>\n",
              "  </tbody>\n",
              "</table>\n",
              "</div>\n",
              "      <button class=\"colab-df-convert\" onclick=\"convertToInteractive('df-96462591-f665-48f5-9fad-c4e710f3b124')\"\n",
              "              title=\"Convert this dataframe to an interactive table.\"\n",
              "              style=\"display:none;\">\n",
              "        \n",
              "  <svg xmlns=\"http://www.w3.org/2000/svg\" height=\"24px\"viewBox=\"0 0 24 24\"\n",
              "       width=\"24px\">\n",
              "    <path d=\"M0 0h24v24H0V0z\" fill=\"none\"/>\n",
              "    <path d=\"M18.56 5.44l.94 2.06.94-2.06 2.06-.94-2.06-.94-.94-2.06-.94 2.06-2.06.94zm-11 1L8.5 8.5l.94-2.06 2.06-.94-2.06-.94L8.5 2.5l-.94 2.06-2.06.94zm10 10l.94 2.06.94-2.06 2.06-.94-2.06-.94-.94-2.06-.94 2.06-2.06.94z\"/><path d=\"M17.41 7.96l-1.37-1.37c-.4-.4-.92-.59-1.43-.59-.52 0-1.04.2-1.43.59L10.3 9.45l-7.72 7.72c-.78.78-.78 2.05 0 2.83L4 21.41c.39.39.9.59 1.41.59.51 0 1.02-.2 1.41-.59l7.78-7.78 2.81-2.81c.8-.78.8-2.07 0-2.86zM5.41 20L4 18.59l7.72-7.72 1.47 1.35L5.41 20z\"/>\n",
              "  </svg>\n",
              "      </button>\n",
              "      \n",
              "  <style>\n",
              "    .colab-df-container {\n",
              "      display:flex;\n",
              "      flex-wrap:wrap;\n",
              "      gap: 12px;\n",
              "    }\n",
              "\n",
              "    .colab-df-convert {\n",
              "      background-color: #E8F0FE;\n",
              "      border: none;\n",
              "      border-radius: 50%;\n",
              "      cursor: pointer;\n",
              "      display: none;\n",
              "      fill: #1967D2;\n",
              "      height: 32px;\n",
              "      padding: 0 0 0 0;\n",
              "      width: 32px;\n",
              "    }\n",
              "\n",
              "    .colab-df-convert:hover {\n",
              "      background-color: #E2EBFA;\n",
              "      box-shadow: 0px 1px 2px rgba(60, 64, 67, 0.3), 0px 1px 3px 1px rgba(60, 64, 67, 0.15);\n",
              "      fill: #174EA6;\n",
              "    }\n",
              "\n",
              "    [theme=dark] .colab-df-convert {\n",
              "      background-color: #3B4455;\n",
              "      fill: #D2E3FC;\n",
              "    }\n",
              "\n",
              "    [theme=dark] .colab-df-convert:hover {\n",
              "      background-color: #434B5C;\n",
              "      box-shadow: 0px 1px 3px 1px rgba(0, 0, 0, 0.15);\n",
              "      filter: drop-shadow(0px 1px 2px rgba(0, 0, 0, 0.3));\n",
              "      fill: #FFFFFF;\n",
              "    }\n",
              "  </style>\n",
              "\n",
              "      <script>\n",
              "        const buttonEl =\n",
              "          document.querySelector('#df-96462591-f665-48f5-9fad-c4e710f3b124 button.colab-df-convert');\n",
              "        buttonEl.style.display =\n",
              "          google.colab.kernel.accessAllowed ? 'block' : 'none';\n",
              "\n",
              "        async function convertToInteractive(key) {\n",
              "          const element = document.querySelector('#df-96462591-f665-48f5-9fad-c4e710f3b124');\n",
              "          const dataTable =\n",
              "            await google.colab.kernel.invokeFunction('convertToInteractive',\n",
              "                                                     [key], {});\n",
              "          if (!dataTable) return;\n",
              "\n",
              "          const docLinkHtml = 'Like what you see? Visit the ' +\n",
              "            '<a target=\"_blank\" href=https://colab.research.google.com/notebooks/data_table.ipynb>data table notebook</a>'\n",
              "            + ' to learn more about interactive tables.';\n",
              "          element.innerHTML = '';\n",
              "          dataTable['output_type'] = 'display_data';\n",
              "          await google.colab.output.renderOutput(dataTable, element);\n",
              "          const docLink = document.createElement('div');\n",
              "          docLink.innerHTML = docLinkHtml;\n",
              "          element.appendChild(docLink);\n",
              "        }\n",
              "      </script>\n",
              "    </div>\n",
              "  </div>\n",
              "  "
            ]
          },
          "metadata": {},
          "execution_count": 578
        }
      ]
    },
    {
      "cell_type": "code",
      "source": [
        "# Plotting\n",
        "plot = sns.catplot(y=\"property_name\", x=\"revenue_realized\", hue=\"room_class\", data=revenue_by_prop_cat_room, kind=\"bar\")\n",
        "plt.title('Revenue by Property Name by Room Class')\n",
        "plot.set_xticklabels(['0', '20M', '40M', '60M',\n",
        "                   '80M', '100M', '120M', '140M', '160M'])\n",
        "plt.show()"
      ],
      "metadata": {
        "colab": {
          "base_uri": "https://localhost:8080/",
          "height": 385
        },
        "outputId": "5d748b2b-48e4-49ac-a8df-67d0f70efb5b",
        "id": "HYMVl6HHvlNI"
      },
      "execution_count": 579,
      "outputs": [
        {
          "output_type": "display_data",
          "data": {
            "text/plain": [
              "<Figure size 454.625x360 with 1 Axes>"
            ],
            "image/png": "[encoded data removed]"
          },
          "metadata": {
            "needs_background": "light"
          }
        }
      ]
    },
    {
      "cell_type": "markdown",
      "source": [
        "#### Revenue by Property Name with categorized by City"
      ],
      "metadata": {
        "id": "RPG0ebC90ELp"
      }
    },
    {
      "cell_type": "code",
      "source": [
        "revenue_by_prop_cat_city = df.groupby(['property_name','city'])['revenue_realized'].sum().reset_index()\n",
        "revenue_by_prop_cat_city"
      ],
      "metadata": {
        "colab": {
          "base_uri": "https://localhost:8080/",
          "height": 802
        },
        "outputId": "4c69de2a-4005-4a08-f94e-ce566f5c1def",
        "id": "BjLwUOaH0EL1"
      },
      "execution_count": 580,
      "outputs": [
        {
          "output_type": "execute_result",
          "data": {
            "text/plain": [
              "    property_name       city  revenue_realized\n",
              "0       Atliq Bay  Bangalore          82443540\n",
              "1       Atliq Bay      Delhi          56437570\n",
              "2       Atliq Bay  Hyderabad          69255910\n",
              "3       Atliq Bay     Mumbai          51914158\n",
              "4       Atliq Blu  Bangalore          72963360\n",
              "5       Atliq Blu      Delhi          57933400\n",
              "6       Atliq Blu  Hyderabad          56040450\n",
              "7       Atliq Blu     Mumbai          73918312\n",
              "8      Atliq City  Bangalore          81876345\n",
              "9      Atliq City      Delhi          54932178\n",
              "10     Atliq City  Hyderabad          61007200\n",
              "11     Atliq City     Mumbai          87996216\n",
              "12  Atliq Exotica  Bangalore          60023460\n",
              "13  Atliq Exotica  Hyderabad          47844020\n",
              "14  Atliq Exotica     Mumbai         212444988\n",
              "15   Atliq Grands  Bangalore          54494340\n",
              "16   Atliq Grands      Delhi          36061172\n",
              "17   Atliq Grands  Hyderabad          46246510\n",
              "18   Atliq Grands     Mumbai          74730742\n",
              "19   Atliq Palace  Bangalore          68596005\n",
              "20   Atliq Palace      Delhi          89135998\n",
              "21   Atliq Palace  Hyderabad          44838780\n",
              "22   Atliq Palace     Mumbai         101511080\n",
              "23  Atliq Seasons     Mumbai          66125495"
            ],
            "text/html": [
              "\n",
              "  <div id=\"df-7e92cadb-7d2d-4154-869e-58cb518fe011\">\n",
              "    <div class=\"colab-df-container\">\n",
              "      <div>\n",
              "<style scoped>\n",
              "    .dataframe tbody tr th:only-of-type {\n",
              "        vertical-align: middle;\n",
              "    }\n",
              "\n",
              "    .dataframe tbody tr th {\n",
              "        vertical-align: top;\n",
              "    }\n",
              "\n",
              "    .dataframe thead th {\n",
              "        text-align: right;\n",
              "    }\n",
              "</style>\n",
              "<table border=\"1\" class=\"dataframe\">\n",
              "  <thead>\n",
              "    <tr style=\"text-align: right;\">\n",
              "      <th></th>\n",
              "      <th>property_name</th>\n",
              "      <th>city</th>\n",
              "      <th>revenue_realized</th>\n",
              "    </tr>\n",
              "  </thead>\n",
              "  <tbody>\n",
              "    <tr>\n",
              "      <th>0</th>\n",
              "      <td>Atliq Bay</td>\n",
              "      <td>Bangalore</td>\n",
              "      <td>82443540</td>\n",
              "    </tr>\n",
              "    <tr>\n",
              "      <th>1</th>\n",
              "      <td>Atliq Bay</td>\n",
              "      <td>Delhi</td>\n",
              "      <td>56437570</td>\n",
              "    </tr>\n",
              "    <tr>\n",
              "      <th>2</th>\n",
              "      <td>Atliq Bay</td>\n",
              "      <td>Hyderabad</td>\n",
              "      <td>69255910</td>\n",
              "    </tr>\n",
              "    <tr>\n",
              "      <th>3</th>\n",
              "      <td>Atliq Bay</td>\n",
              "      <td>Mumbai</td>\n",
              "      <td>51914158</td>\n",
              "    </tr>\n",
              "    <tr>\n",
              "      <th>4</th>\n",
              "      <td>Atliq Blu</td>\n",
              "      <td>Bangalore</td>\n",
              "      <td>72963360</td>\n",
              "    </tr>\n",
              "    <tr>\n",
              "      <th>5</th>\n",
              "      <td>Atliq Blu</td>\n",
              "      <td>Delhi</td>\n",
              "      <td>57933400</td>\n",
              "    </tr>\n",
              "    <tr>\n",
              "      <th>6</th>\n",
              "      <td>Atliq Blu</td>\n",
              "      <td>Hyderabad</td>\n",
              "      <td>56040450</td>\n",
              "    </tr>\n",
              "    <tr>\n",
              "      <th>7</th>\n",
              "      <td>Atliq Blu</td>\n",
              "      <td>Mumbai</td>\n",
              "      <td>73918312</td>\n",
              "    </tr>\n",
              "    <tr>\n",
              "      <th>8</th>\n",
              "      <td>Atliq City</td>\n",
              "      <td>Bangalore</td>\n",
              "      <td>81876345</td>\n",
              "    </tr>\n",
              "    <tr>\n",
              "      <th>9</th>\n",
              "      <td>Atliq City</td>\n",
              "      <td>Delhi</td>\n",
              "      <td>54932178</td>\n",
              "    </tr>\n",
              "    <tr>\n",
              "      <th>10</th>\n",
              "      <td>Atliq City</td>\n",
              "      <td>Hyderabad</td>\n",
              "      <td>61007200</td>\n",
              "    </tr>\n",
              "    <tr>\n",
              "      <th>11</th>\n",
              "      <td>Atliq City</td>\n",
              "      <td>Mumbai</td>\n",
              "      <td>87996216</td>\n",
              "    </tr>\n",
              "    <tr>\n",
              "      <th>12</th>\n",
              "      <td>Atliq Exotica</td>\n",
              "      <td>Bangalore</td>\n",
              "      <td>60023460</td>\n",
              "    </tr>\n",
              "    <tr>\n",
              "      <th>13</th>\n",
              "      <td>Atliq Exotica</td>\n",
              "      <td>Hyderabad</td>\n",
              "      <td>47844020</td>\n",
              "    </tr>\n",
              "    <tr>\n",
              "      <th>14</th>\n",
              "      <td>Atliq Exotica</td>\n",
              "      <td>Mumbai</td>\n",
              "      <td>212444988</td>\n",
              "    </tr>\n",
              "    <tr>\n",
              "      <th>15</th>\n",
              "      <td>Atliq Grands</td>\n",
              "      <td>Bangalore</td>\n",
              "      <td>54494340</td>\n",
              "    </tr>\n",
              "    <tr>\n",
              "      <th>16</th>\n",
              "      <td>Atliq Grands</td>\n",
              "      <td>Delhi</td>\n",
              "      <td>36061172</td>\n",
              "    </tr>\n",
              "    <tr>\n",
              "      <th>17</th>\n",
              "      <td>Atliq Grands</td>\n",
              "      <td>Hyderabad</td>\n",
              "      <td>46246510</td>\n",
              "    </tr>\n",
              "    <tr>\n",
              "      <th>18</th>\n",
              "      <td>Atliq Grands</td>\n",
              "      <td>Mumbai</td>\n",
              "      <td>74730742</td>\n",
              "    </tr>\n",
              "    <tr>\n",
              "      <th>19</th>\n",
              "      <td>Atliq Palace</td>\n",
              "      <td>Bangalore</td>\n",
              "      <td>68596005</td>\n",
              "    </tr>\n",
              "    <tr>\n",
              "      <th>20</th>\n",
              "      <td>Atliq Palace</td>\n",
              "      <td>Delhi</td>\n",
              "      <td>89135998</td>\n",
              "    </tr>\n",
              "    <tr>\n",
              "      <th>21</th>\n",
              "      <td>Atliq Palace</td>\n",
              "      <td>Hyderabad</td>\n",
              "      <td>44838780</td>\n",
              "    </tr>\n",
              "    <tr>\n",
              "      <th>22</th>\n",
              "      <td>Atliq Palace</td>\n",
              "      <td>Mumbai</td>\n",
              "      <td>101511080</td>\n",
              "    </tr>\n",
              "    <tr>\n",
              "      <th>23</th>\n",
              "      <td>Atliq Seasons</td>\n",
              "      <td>Mumbai</td>\n",
              "      <td>66125495</td>\n",
              "    </tr>\n",
              "  </tbody>\n",
              "</table>\n",
              "</div>\n",
              "      <button class=\"colab-df-convert\" onclick=\"convertToInteractive('df-7e92cadb-7d2d-4154-869e-58cb518fe011')\"\n",
              "              title=\"Convert this dataframe to an interactive table.\"\n",
              "              style=\"display:none;\">\n",
              "        \n",
              "  <svg xmlns=\"http://www.w3.org/2000/svg\" height=\"24px\"viewBox=\"0 0 24 24\"\n",
              "       width=\"24px\">\n",
              "    <path d=\"M0 0h24v24H0V0z\" fill=\"none\"/>\n",
              "    <path d=\"M18.56 5.44l.94 2.06.94-2.06 2.06-.94-2.06-.94-.94-2.06-.94 2.06-2.06.94zm-11 1L8.5 8.5l.94-2.06 2.06-.94-2.06-.94L8.5 2.5l-.94 2.06-2.06.94zm10 10l.94 2.06.94-2.06 2.06-.94-2.06-.94-.94-2.06-.94 2.06-2.06.94z\"/><path d=\"M17.41 7.96l-1.37-1.37c-.4-.4-.92-.59-1.43-.59-.52 0-1.04.2-1.43.59L10.3 9.45l-7.72 7.72c-.78.78-.78 2.05 0 2.83L4 21.41c.39.39.9.59 1.41.59.51 0 1.02-.2 1.41-.59l7.78-7.78 2.81-2.81c.8-.78.8-2.07 0-2.86zM5.41 20L4 18.59l7.72-7.72 1.47 1.35L5.41 20z\"/>\n",
              "  </svg>\n",
              "      </button>\n",
              "      \n",
              "  <style>\n",
              "    .colab-df-container {\n",
              "      display:flex;\n",
              "      flex-wrap:wrap;\n",
              "      gap: 12px;\n",
              "    }\n",
              "\n",
              "    .colab-df-convert {\n",
              "      background-color: #E8F0FE;\n",
              "      border: none;\n",
              "      border-radius: 50%;\n",
              "      cursor: pointer;\n",
              "      display: none;\n",
              "      fill: #1967D2;\n",
              "      height: 32px;\n",
              "      padding: 0 0 0 0;\n",
              "      width: 32px;\n",
              "    }\n",
              "\n",
              "    .colab-df-convert:hover {\n",
              "      background-color: #E2EBFA;\n",
              "      box-shadow: 0px 1px 2px rgba(60, 64, 67, 0.3), 0px 1px 3px 1px rgba(60, 64, 67, 0.15);\n",
              "      fill: #174EA6;\n",
              "    }\n",
              "\n",
              "    [theme=dark] .colab-df-convert {\n",
              "      background-color: #3B4455;\n",
              "      fill: #D2E3FC;\n",
              "    }\n",
              "\n",
              "    [theme=dark] .colab-df-convert:hover {\n",
              "      background-color: #434B5C;\n",
              "      box-shadow: 0px 1px 3px 1px rgba(0, 0, 0, 0.15);\n",
              "      filter: drop-shadow(0px 1px 2px rgba(0, 0, 0, 0.3));\n",
              "      fill: #FFFFFF;\n",
              "    }\n",
              "  </style>\n",
              "\n",
              "      <script>\n",
              "        const buttonEl =\n",
              "          document.querySelector('#df-7e92cadb-7d2d-4154-869e-58cb518fe011 button.colab-df-convert');\n",
              "        buttonEl.style.display =\n",
              "          google.colab.kernel.accessAllowed ? 'block' : 'none';\n",
              "\n",
              "        async function convertToInteractive(key) {\n",
              "          const element = document.querySelector('#df-7e92cadb-7d2d-4154-869e-58cb518fe011');\n",
              "          const dataTable =\n",
              "            await google.colab.kernel.invokeFunction('convertToInteractive',\n",
              "                                                     [key], {});\n",
              "          if (!dataTable) return;\n",
              "\n",
              "          const docLinkHtml = 'Like what you see? Visit the ' +\n",
              "            '<a target=\"_blank\" href=https://colab.research.google.com/notebooks/data_table.ipynb>data table notebook</a>'\n",
              "            + ' to learn more about interactive tables.';\n",
              "          element.innerHTML = '';\n",
              "          dataTable['output_type'] = 'display_data';\n",
              "          await google.colab.output.renderOutput(dataTable, element);\n",
              "          const docLink = document.createElement('div');\n",
              "          docLink.innerHTML = docLinkHtml;\n",
              "          element.appendChild(docLink);\n",
              "        }\n",
              "      </script>\n",
              "    </div>\n",
              "  </div>\n",
              "  "
            ]
          },
          "metadata": {},
          "execution_count": 580
        }
      ]
    },
    {
      "cell_type": "code",
      "source": [
        "# Plotting\n",
        "plot = sns.catplot(x=\"property_name\", y=\"revenue_realized\", hue=\"city\", data=revenue_by_prop_cat_city, kind=\"point\")\n",
        "plt.title('Revenue by Property Name by City')\n",
        "plot.set_yticklabels(['0', '50M', '75M', '100M',\n",
        "                   '125M', '150M', '175M', '200M', '225M'])\n",
        "plt.xticks(rotation = 45)\n",
        "plt.show()"
      ],
      "metadata": {
        "colab": {
          "base_uri": "https://localhost:8080/",
          "height": 419
        },
        "outputId": "54279c73-7604-4bcd-9d5a-384a7f860135",
        "id": "n3H_DBLC0EL1"
      },
      "execution_count": 588,
      "outputs": [
        {
          "output_type": "display_data",
          "data": {
            "text/plain": [
              "<Figure size 450.875x360 with 1 Axes>"
            ],
            "image/png": "[encoded data removed]"
          },
          "metadata": {
            "needs_background": "light"
          }
        }
      ]
    },
    {
      "cell_type": "markdown",
      "source": [
        "#### Comparison between Generated & Realized"
      ],
      "metadata": {
        "id": "GNGfY642gyV8"
      }
    },
    {
      "cell_type": "code",
      "source": [
        "revenue_comp = df.groupby(['mmm yy'])[['revenue_generated', 'revenue_realized']].sum().reset_index()\n",
        "revenue_comp['difference'] = revenue_comp.revenue_generated - revenue_comp.revenue_realized\n",
        "revenue_comp"
      ],
      "metadata": {
        "colab": {
          "base_uri": "https://localhost:8080/",
          "height": 143
        },
        "id": "q77Fxsqng9-i",
        "outputId": "749345b2-cba4-4508-f436-1900af93a1c5"
      },
      "execution_count": 582,
      "outputs": [
        {
          "output_type": "execute_result",
          "data": {
            "text/plain": [
              "   mmm yy  revenue_generated  revenue_realized  difference\n",
              "0  Jul 22          671724125         572908208    98815917\n",
              "1  Jun 22          651939535         553932355    98007180\n",
              "2  May 22          683882555         581930666   101951889"
            ],
            "text/html": [
              "\n",
              "  <div id=\"df-571bf404-29d5-4921-8a90-dcb50c4742db\">\n",
              "    <div class=\"colab-df-container\">\n",
              "      <div>\n",
              "<style scoped>\n",
              "    .dataframe tbody tr th:only-of-type {\n",
              "        vertical-align: middle;\n",
              "    }\n",
              "\n",
              "    .dataframe tbody tr th {\n",
              "        vertical-align: top;\n",
              "    }\n",
              "\n",
              "    .dataframe thead th {\n",
              "        text-align: right;\n",
              "    }\n",
              "</style>\n",
              "<table border=\"1\" class=\"dataframe\">\n",
              "  <thead>\n",
              "    <tr style=\"text-align: right;\">\n",
              "      <th></th>\n",
              "      <th>mmm yy</th>\n",
              "      <th>revenue_generated</th>\n",
              "      <th>revenue_realized</th>\n",
              "      <th>difference</th>\n",
              "    </tr>\n",
              "  </thead>\n",
              "  <tbody>\n",
              "    <tr>\n",
              "      <th>0</th>\n",
              "      <td>Jul 22</td>\n",
              "      <td>671724125</td>\n",
              "      <td>572908208</td>\n",
              "      <td>98815917</td>\n",
              "    </tr>\n",
              "    <tr>\n",
              "      <th>1</th>\n",
              "      <td>Jun 22</td>\n",
              "      <td>651939535</td>\n",
              "      <td>553932355</td>\n",
              "      <td>98007180</td>\n",
              "    </tr>\n",
              "    <tr>\n",
              "      <th>2</th>\n",
              "      <td>May 22</td>\n",
              "      <td>683882555</td>\n",
              "      <td>581930666</td>\n",
              "      <td>101951889</td>\n",
              "    </tr>\n",
              "  </tbody>\n",
              "</table>\n",
              "</div>\n",
              "      <button class=\"colab-df-convert\" onclick=\"convertToInteractive('df-571bf404-29d5-4921-8a90-dcb50c4742db')\"\n",
              "              title=\"Convert this dataframe to an interactive table.\"\n",
              "              style=\"display:none;\">\n",
              "        \n",
              "  <svg xmlns=\"http://www.w3.org/2000/svg\" height=\"24px\"viewBox=\"0 0 24 24\"\n",
              "       width=\"24px\">\n",
              "    <path d=\"M0 0h24v24H0V0z\" fill=\"none\"/>\n",
              "    <path d=\"M18.56 5.44l.94 2.06.94-2.06 2.06-.94-2.06-.94-.94-2.06-.94 2.06-2.06.94zm-11 1L8.5 8.5l.94-2.06 2.06-.94-2.06-.94L8.5 2.5l-.94 2.06-2.06.94zm10 10l.94 2.06.94-2.06 2.06-.94-2.06-.94-.94-2.06-.94 2.06-2.06.94z\"/><path d=\"M17.41 7.96l-1.37-1.37c-.4-.4-.92-.59-1.43-.59-.52 0-1.04.2-1.43.59L10.3 9.45l-7.72 7.72c-.78.78-.78 2.05 0 2.83L4 21.41c.39.39.9.59 1.41.59.51 0 1.02-.2 1.41-.59l7.78-7.78 2.81-2.81c.8-.78.8-2.07 0-2.86zM5.41 20L4 18.59l7.72-7.72 1.47 1.35L5.41 20z\"/>\n",
              "  </svg>\n",
              "      </button>\n",
              "      \n",
              "  <style>\n",
              "    .colab-df-container {\n",
              "      display:flex;\n",
              "      flex-wrap:wrap;\n",
              "      gap: 12px;\n",
              "    }\n",
              "\n",
              "    .colab-df-convert {\n",
              "      background-color: #E8F0FE;\n",
              "      border: none;\n",
              "      border-radius: 50%;\n",
              "      cursor: pointer;\n",
              "      display: none;\n",
              "      fill: #1967D2;\n",
              "      height: 32px;\n",
              "      padding: 0 0 0 0;\n",
              "      width: 32px;\n",
              "    }\n",
              "\n",
              "    .colab-df-convert:hover {\n",
              "      background-color: #E2EBFA;\n",
              "      box-shadow: 0px 1px 2px rgba(60, 64, 67, 0.3), 0px 1px 3px 1px rgba(60, 64, 67, 0.15);\n",
              "      fill: #174EA6;\n",
              "    }\n",
              "\n",
              "    [theme=dark] .colab-df-convert {\n",
              "      background-color: #3B4455;\n",
              "      fill: #D2E3FC;\n",
              "    }\n",
              "\n",
              "    [theme=dark] .colab-df-convert:hover {\n",
              "      background-color: #434B5C;\n",
              "      box-shadow: 0px 1px 3px 1px rgba(0, 0, 0, 0.15);\n",
              "      filter: drop-shadow(0px 1px 2px rgba(0, 0, 0, 0.3));\n",
              "      fill: #FFFFFF;\n",
              "    }\n",
              "  </style>\n",
              "\n",
              "      <script>\n",
              "        const buttonEl =\n",
              "          document.querySelector('#df-571bf404-29d5-4921-8a90-dcb50c4742db button.colab-df-convert');\n",
              "        buttonEl.style.display =\n",
              "          google.colab.kernel.accessAllowed ? 'block' : 'none';\n",
              "\n",
              "        async function convertToInteractive(key) {\n",
              "          const element = document.querySelector('#df-571bf404-29d5-4921-8a90-dcb50c4742db');\n",
              "          const dataTable =\n",
              "            await google.colab.kernel.invokeFunction('convertToInteractive',\n",
              "                                                     [key], {});\n",
              "          if (!dataTable) return;\n",
              "\n",
              "          const docLinkHtml = 'Like what you see? Visit the ' +\n",
              "            '<a target=\"_blank\" href=https://colab.research.google.com/notebooks/data_table.ipynb>data table notebook</a>'\n",
              "            + ' to learn more about interactive tables.';\n",
              "          element.innerHTML = '';\n",
              "          dataTable['output_type'] = 'display_data';\n",
              "          await google.colab.output.renderOutput(dataTable, element);\n",
              "          const docLink = document.createElement('div');\n",
              "          docLink.innerHTML = docLinkHtml;\n",
              "          element.appendChild(docLink);\n",
              "        }\n",
              "      </script>\n",
              "    </div>\n",
              "  </div>\n",
              "  "
            ]
          },
          "metadata": {},
          "execution_count": 582
        }
      ]
    },
    {
      "cell_type": "code",
      "source": [
        "# Plotting\n",
        "plot = revenue_comp.plot(y=[\"revenue_generated\", \"revenue_realized\", \"difference\"], x='mmm yy', kind = 'bar', rot = 0)\n",
        "plt.title('Revenue generated VS Revenue realized')\n",
        "plot.set_yticklabels(['0', '10M', '20M', '30M',\n",
        "                   '40M', '50M', '60M', '70M', '80M'])\n",
        "plt.show()"
      ],
      "metadata": {
        "colab": {
          "base_uri": "https://localhost:8080/",
          "height": 295
        },
        "id": "wTLrlfX3hIIG",
        "outputId": "020f4485-8fb8-4340-c286-1b17ae38eeb7"
      },
      "execution_count": 583,
      "outputs": [
        {
          "output_type": "display_data",
          "data": {
            "text/plain": [
              "<Figure size 432x288 with 1 Axes>"
            ],
            "image/png": "[encoded data removed]"
          },
          "metadata": {
            "needs_background": "light"
          }
        }
      ]
    },
    {
      "cell_type": "code",
      "source": [
        "# Plotting\n",
        "plt.figure(figsize=(8,8))\n",
        "plt.pie(revenue_comp['difference'], labels=revenue_comp['mmm yy'],\n",
        "        autopct='%1.2f%%', shadow = True, pctdistance=0.5)\n",
        "my_circle=plt.Circle((0,0), 0.7, color='white')\n",
        "p=plt.gcf()\n",
        "p.gca().add_artist(my_circle)\n",
        "plt.title('Loss in Revenue')\n",
        "plt.show()"
      ],
      "metadata": {
        "colab": {
          "base_uri": "https://localhost:8080/",
          "height": 482
        },
        "id": "LB4ZH63qljJs",
        "outputId": "9647b05b-11ea-4ff5-b39e-4a5f9d93f7c5"
      },
      "execution_count": 584,
      "outputs": [
        {
          "output_type": "display_data",
          "data": {
            "text/plain": [
              "<Figure size 576x576 with 1 Axes>"
            ],
            "image/png": "[encoded data removed]"
          },
          "metadata": {}
        }
      ]
    }
  ]
}